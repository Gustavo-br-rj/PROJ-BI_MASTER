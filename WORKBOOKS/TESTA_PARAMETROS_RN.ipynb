{
  "nbformat": 4,
  "nbformat_minor": 0,
  "metadata": {
    "accelerator": "GPU",
    "colab": {
      "name": "Cópia de RN_DPI.ipynb",
      "provenance": [],
      "collapsed_sections": []
    },
    "kernelspec": {
      "display_name": "Python 3",
      "name": "python3"
    }
  },
  "cells": [
    {
      "cell_type": "code",
      "metadata": {
        "id": "9cXtNdOXz_lv",
        "colab": {
          "base_uri": "https://localhost:8080/"
        },
        "outputId": "96e2ba8d-7ab8-47fa-dda5-083fcfb6bdb7"
      },
      "source": [
        "from google.colab import drive\n",
        "drive.mount('/content/drive')"
      ],
      "execution_count": null,
      "outputs": [
        {
          "output_type": "stream",
          "text": [
            "Mounted at /content/drive\n"
          ],
          "name": "stdout"
        }
      ]
    },
    {
      "cell_type": "markdown",
      "metadata": {
        "id": "bgc8yb4c2W0g"
      },
      "source": [
        "# Previsão de Série Temporal da Temperatura de Mancais Utilizando LSTM\n"
      ]
    },
    {
      "cell_type": "markdown",
      "metadata": {
        "id": "1EQYV0pwuxBz"
      },
      "source": [
        "## Parte 0 - Importação das Bibliotecas"
      ]
    },
    {
      "cell_type": "code",
      "metadata": {
        "id": "RASZBW_Fu8Ze"
      },
      "source": [
        "#%tensorflow_version 1.x\n",
        "import tensorflow as tf\n",
        "import numpy as np\n",
        "import matplotlib.pyplot as plt\n",
        "import pandas as pd\n",
        "import os\n",
        "import math\n",
        "\n",
        "\n",
        "from sklearn.metrics import mean_squared_error\n",
        "from keras.models import Sequential\n",
        "from keras.layers import Dense\n",
        "from keras.layers import LSTM\n",
        "from keras.layers import Dropout\n",
        "\n",
        "#tf.__version__"
      ],
      "execution_count": null,
      "outputs": []
    },
    {
      "cell_type": "markdown",
      "metadata": {
        "id": "MU5Q6M1nuEr_"
      },
      "source": [
        "## Parte 1 - Importação do Dataset e Estatística Descritiva"
      ]
    },
    {
      "cell_type": "code",
      "metadata": {
        "id": "fKi18czKK2RC"
      },
      "source": [
        "# Importação da Base de Dados\n",
        "#dataset = pd.read_csv('/content/drive/MyDrive/BI_MASTER/PROJETO_FINAL_BIMASTER/DATASETS/dataset_GE-4100_12001B.csv')\n",
        "dataset = pd.read_csv('/content/drive/MyDrive/BI_MASTER/PROJETO_FINAL_BIMASTER/DATASETS/dataset_C-4451_08001A.csv')\n",
        "\n",
        "# Eliminando as TAGs que não se referem aos mancais do equipamento\n",
        "#dataset = dataset[dataset.MANCAL != 'ECE1.G2-TI-MANCD.F_CV']\n",
        "#dataset = dataset[dataset.MANCAL != 'ECE1.G2-TI-MANCT.F_CV']"
      ],
      "execution_count": null,
      "outputs": []
    },
    {
      "cell_type": "code",
      "metadata": {
        "colab": {
          "base_uri": "https://localhost:8080/"
        },
        "id": "l-emnJ3-w5Sm",
        "outputId": "a731fa00-4087-4a36-a99c-b22e69f1ef40"
      },
      "source": [
        "dataset.info()"
      ],
      "execution_count": null,
      "outputs": [
        {
          "output_type": "stream",
          "text": [
            "<class 'pandas.core.frame.DataFrame'>\n",
            "RangeIndex: 2245 entries, 0 to 2244\n",
            "Data columns (total 4 columns):\n",
            " #   Column       Non-Null Count  Dtype  \n",
            "---  ------       --------------  -----  \n",
            " 0   EQUIPAMENTO  2245 non-null   object \n",
            " 1   MANCAL       2245 non-null   object \n",
            " 2   DATA         2245 non-null   object \n",
            " 3   TEMPERATURA  2245 non-null   float64\n",
            "dtypes: float64(1), object(3)\n",
            "memory usage: 70.3+ KB\n"
          ],
          "name": "stdout"
        }
      ]
    },
    {
      "cell_type": "code",
      "metadata": {
        "colab": {
          "base_uri": "https://localhost:8080/",
          "height": 204
        },
        "id": "ZmgfDS_ryMS6",
        "outputId": "35cfdaab-4d9c-4a0f-b6e1-9acdfaf06ccb"
      },
      "source": [
        "dataset.head()"
      ],
      "execution_count": null,
      "outputs": [
        {
          "output_type": "execute_result",
          "data": {
            "text/html": [
              "<div>\n",
              "<style scoped>\n",
              "    .dataframe tbody tr th:only-of-type {\n",
              "        vertical-align: middle;\n",
              "    }\n",
              "\n",
              "    .dataframe tbody tr th {\n",
              "        vertical-align: top;\n",
              "    }\n",
              "\n",
              "    .dataframe thead th {\n",
              "        text-align: right;\n",
              "    }\n",
              "</style>\n",
              "<table border=\"1\" class=\"dataframe\">\n",
              "  <thead>\n",
              "    <tr style=\"text-align: right;\">\n",
              "      <th></th>\n",
              "      <th>EQUIPAMENTO</th>\n",
              "      <th>MANCAL</th>\n",
              "      <th>DATA</th>\n",
              "      <th>TEMPERATURA</th>\n",
              "    </tr>\n",
              "  </thead>\n",
              "  <tbody>\n",
              "    <tr>\n",
              "      <th>0</th>\n",
              "      <td>C-4451.08001A</td>\n",
              "      <td>EJA1.A-TC21.F_CV</td>\n",
              "      <td>04/01/2021</td>\n",
              "      <td>69.88962</td>\n",
              "    </tr>\n",
              "    <tr>\n",
              "      <th>1</th>\n",
              "      <td>C-4451.08001A</td>\n",
              "      <td>EJA1.A-TC21.F_CV</td>\n",
              "      <td>05/01/2021</td>\n",
              "      <td>69.59235</td>\n",
              "    </tr>\n",
              "    <tr>\n",
              "      <th>2</th>\n",
              "      <td>C-4451.08001A</td>\n",
              "      <td>EJA1.A-TC21.F_CV</td>\n",
              "      <td>06/01/2021</td>\n",
              "      <td>69.56962</td>\n",
              "    </tr>\n",
              "    <tr>\n",
              "      <th>3</th>\n",
              "      <td>C-4451.08001A</td>\n",
              "      <td>EJA1.A-TC21.F_CV</td>\n",
              "      <td>07/01/2021</td>\n",
              "      <td>67.57046</td>\n",
              "    </tr>\n",
              "    <tr>\n",
              "      <th>4</th>\n",
              "      <td>C-4451.08001A</td>\n",
              "      <td>EJA1.A-TC21.F_CV</td>\n",
              "      <td>15/01/2021</td>\n",
              "      <td>69.05307</td>\n",
              "    </tr>\n",
              "  </tbody>\n",
              "</table>\n",
              "</div>"
            ],
            "text/plain": [
              "     EQUIPAMENTO            MANCAL        DATA  TEMPERATURA\n",
              "0  C-4451.08001A  EJA1.A-TC21.F_CV  04/01/2021     69.88962\n",
              "1  C-4451.08001A  EJA1.A-TC21.F_CV  05/01/2021     69.59235\n",
              "2  C-4451.08001A  EJA1.A-TC21.F_CV  06/01/2021     69.56962\n",
              "3  C-4451.08001A  EJA1.A-TC21.F_CV  07/01/2021     67.57046\n",
              "4  C-4451.08001A  EJA1.A-TC21.F_CV  15/01/2021     69.05307"
            ]
          },
          "metadata": {
            "tags": []
          },
          "execution_count": 5
        }
      ]
    },
    {
      "cell_type": "code",
      "metadata": {
        "colab": {
          "base_uri": "https://localhost:8080/"
        },
        "id": "O9Ywtc8ncBx_",
        "outputId": "dbf8a13c-3522-475d-a6be-13b4eecb2726"
      },
      "source": [
        "#Conversão do campo data para datetime e ordenação do dataset\n",
        "dataset['DATA'] = pd.to_datetime(dataset['DATA'],dayfirst=True)\n",
        "dataset = dataset.sort_values(['EQUIPAMENTO', 'MANCAL', 'DATA'], ascending=[1, 1, 1])\n",
        "dataset.info()"
      ],
      "execution_count": null,
      "outputs": [
        {
          "output_type": "stream",
          "text": [
            "<class 'pandas.core.frame.DataFrame'>\n",
            "Int64Index: 2245 entries, 0 to 2244\n",
            "Data columns (total 4 columns):\n",
            " #   Column       Non-Null Count  Dtype         \n",
            "---  ------       --------------  -----         \n",
            " 0   EQUIPAMENTO  2245 non-null   object        \n",
            " 1   MANCAL       2245 non-null   object        \n",
            " 2   DATA         2245 non-null   datetime64[ns]\n",
            " 3   TEMPERATURA  2245 non-null   float64       \n",
            "dtypes: datetime64[ns](1), float64(1), object(2)\n",
            "memory usage: 87.7+ KB\n"
          ],
          "name": "stdout"
        }
      ]
    },
    {
      "cell_type": "code",
      "metadata": {
        "colab": {
          "base_uri": "https://localhost:8080/",
          "height": 607
        },
        "id": "KuyMFVw-NJqv",
        "outputId": "5c2c7af9-c1e3-4788-9336-9109b88a1e1a"
      },
      "source": [
        "dataset.groupby(['EQUIPAMENTO','MANCAL']).count()"
      ],
      "execution_count": null,
      "outputs": [
        {
          "output_type": "execute_result",
          "data": {
            "text/html": [
              "<div>\n",
              "<style scoped>\n",
              "    .dataframe tbody tr th:only-of-type {\n",
              "        vertical-align: middle;\n",
              "    }\n",
              "\n",
              "    .dataframe tbody tr th {\n",
              "        vertical-align: top;\n",
              "    }\n",
              "\n",
              "    .dataframe thead th {\n",
              "        text-align: right;\n",
              "    }\n",
              "</style>\n",
              "<table border=\"1\" class=\"dataframe\">\n",
              "  <thead>\n",
              "    <tr style=\"text-align: right;\">\n",
              "      <th></th>\n",
              "      <th></th>\n",
              "      <th>DATA</th>\n",
              "      <th>TEMPERATURA</th>\n",
              "    </tr>\n",
              "    <tr>\n",
              "      <th>EQUIPAMENTO</th>\n",
              "      <th>MANCAL</th>\n",
              "      <th></th>\n",
              "      <th></th>\n",
              "    </tr>\n",
              "  </thead>\n",
              "  <tbody>\n",
              "    <tr>\n",
              "      <th rowspan=\"17\" valign=\"top\">C-4451.08001A</th>\n",
              "      <th>EJA1.A-TC21.F_CV</th>\n",
              "      <td>132</td>\n",
              "      <td>132</td>\n",
              "    </tr>\n",
              "    <tr>\n",
              "      <th>EJA1.A-TC22.F_CV</th>\n",
              "      <td>132</td>\n",
              "      <td>132</td>\n",
              "    </tr>\n",
              "    <tr>\n",
              "      <th>EJA1.A-TC23.F_CV</th>\n",
              "      <td>132</td>\n",
              "      <td>132</td>\n",
              "    </tr>\n",
              "    <tr>\n",
              "      <th>EJA1.A-TC25.F_CV</th>\n",
              "      <td>132</td>\n",
              "      <td>132</td>\n",
              "    </tr>\n",
              "    <tr>\n",
              "      <th>EJA1.A-TC250.F_CV</th>\n",
              "      <td>133</td>\n",
              "      <td>133</td>\n",
              "    </tr>\n",
              "    <tr>\n",
              "      <th>EJA1.A-TC251.F_CV</th>\n",
              "      <td>132</td>\n",
              "      <td>132</td>\n",
              "    </tr>\n",
              "    <tr>\n",
              "      <th>EJA1.A-TC26.F_CV</th>\n",
              "      <td>132</td>\n",
              "      <td>132</td>\n",
              "    </tr>\n",
              "    <tr>\n",
              "      <th>EJA1.A-TC27.F_CV</th>\n",
              "      <td>132</td>\n",
              "      <td>132</td>\n",
              "    </tr>\n",
              "    <tr>\n",
              "      <th>EJA1.A-TC28.F_CV</th>\n",
              "      <td>132</td>\n",
              "      <td>132</td>\n",
              "    </tr>\n",
              "    <tr>\n",
              "      <th>EJA1.A-TE1200A.F_CV</th>\n",
              "      <td>132</td>\n",
              "      <td>132</td>\n",
              "    </tr>\n",
              "    <tr>\n",
              "      <th>EJA1.A-TE1200B.F_CV</th>\n",
              "      <td>132</td>\n",
              "      <td>132</td>\n",
              "    </tr>\n",
              "    <tr>\n",
              "      <th>EJA1.A-TE1203A.F_CV</th>\n",
              "      <td>132</td>\n",
              "      <td>132</td>\n",
              "    </tr>\n",
              "    <tr>\n",
              "      <th>EJA1.A-TE1203B.F_CV</th>\n",
              "      <td>132</td>\n",
              "      <td>132</td>\n",
              "    </tr>\n",
              "    <tr>\n",
              "      <th>EJA1.A-TE1206A.F_CV</th>\n",
              "      <td>132</td>\n",
              "      <td>132</td>\n",
              "    </tr>\n",
              "    <tr>\n",
              "      <th>EJA1.A-TE1206B.F_CV</th>\n",
              "      <td>132</td>\n",
              "      <td>132</td>\n",
              "    </tr>\n",
              "    <tr>\n",
              "      <th>EJA1.A-TE1209A.F_CV</th>\n",
              "      <td>132</td>\n",
              "      <td>132</td>\n",
              "    </tr>\n",
              "    <tr>\n",
              "      <th>EJA1.A-TE1209B.F_CV</th>\n",
              "      <td>132</td>\n",
              "      <td>132</td>\n",
              "    </tr>\n",
              "  </tbody>\n",
              "</table>\n",
              "</div>"
            ],
            "text/plain": [
              "                                   DATA  TEMPERATURA\n",
              "EQUIPAMENTO   MANCAL                                \n",
              "C-4451.08001A EJA1.A-TC21.F_CV      132          132\n",
              "              EJA1.A-TC22.F_CV      132          132\n",
              "              EJA1.A-TC23.F_CV      132          132\n",
              "              EJA1.A-TC25.F_CV      132          132\n",
              "              EJA1.A-TC250.F_CV     133          133\n",
              "              EJA1.A-TC251.F_CV     132          132\n",
              "              EJA1.A-TC26.F_CV      132          132\n",
              "              EJA1.A-TC27.F_CV      132          132\n",
              "              EJA1.A-TC28.F_CV      132          132\n",
              "              EJA1.A-TE1200A.F_CV   132          132\n",
              "              EJA1.A-TE1200B.F_CV   132          132\n",
              "              EJA1.A-TE1203A.F_CV   132          132\n",
              "              EJA1.A-TE1203B.F_CV   132          132\n",
              "              EJA1.A-TE1206A.F_CV   132          132\n",
              "              EJA1.A-TE1206B.F_CV   132          132\n",
              "              EJA1.A-TE1209A.F_CV   132          132\n",
              "              EJA1.A-TE1209B.F_CV   132          132"
            ]
          },
          "metadata": {
            "tags": []
          },
          "execution_count": 7
        }
      ]
    },
    {
      "cell_type": "code",
      "metadata": {
        "id": "tO1BKMy5lmt8"
      },
      "source": [
        "#Separação do dataset por mancais\n",
        "mancais = dataset['MANCAL'].unique().tolist()\n",
        "\n",
        "manc1 = dataset[dataset['MANCAL'] == mancais[0]]\n",
        "manc2 = dataset[dataset['MANCAL'] == mancais[1]]\n",
        "manc3 = dataset[dataset['MANCAL'] == mancais[2]]\n",
        "manc4 = dataset[dataset['MANCAL'] == mancais[3]]\n",
        "manc5 = dataset[dataset['MANCAL'] == mancais[4]]\n",
        "manc6 = dataset[dataset['MANCAL'] == mancais[5]]\n",
        "manc7 = dataset[dataset['MANCAL'] == mancais[6]]\n",
        "\n",
        "#Criação do dataframe com as datas registradas para pelo menos um dos mancais\n",
        "lista_datas = dataset['DATA'].unique().tolist()\n",
        "datas_registradas = pd.DataFrame(lista_datas,columns=['DATA'])\n",
        "datas_registradas['DATA'] = pd.to_datetime(datas_registradas['DATA'],dayfirst=True)\n"
      ],
      "execution_count": null,
      "outputs": []
    },
    {
      "cell_type": "code",
      "metadata": {
        "id": "NRVecK8COmFw"
      },
      "source": [
        "# Ajuste dos datasets para incluir datas faltantes do conjunto e preencher os \n",
        "# dados faltantes. A temperatura será preenchida com a moda do conjunto de \n",
        "# temperaturas do mancal.\n",
        "def completeDates( dates, dataset ):\n",
        "  result = pd.merge(dates, dataset, on='DATA', how='outer')\n",
        "  result['EQUIPAMENTO'].fillna(np.array(dataset['EQUIPAMENTO'])[0], inplace = True);\n",
        "  result['MANCAL'].fillna(np.array(dataset['MANCAL'])[0], inplace = True);\n",
        "  result['TEMPERATURA'].fillna(np.array(manc3['TEMPERATURA'].mode())[0], inplace = True)\n",
        "  return result\n",
        "\n",
        "#manc1 = completeDates( datas_registradas, manc1)\n",
        "#manc1 = completeDates( datas_registradas, manc2)\n",
        "#manc3 = completeDates( datas_registradas, manc3)\n",
        "#manc4 = completeDates( datas_registradas, manc4)\n",
        "#manc5 = completeDates( datas_registradas, manc5)\n",
        "#manc6 = completeDates( datas_registradas, manc6)\n",
        "#manc7 = completeDates( datas_registradas, manc7)"
      ],
      "execution_count": null,
      "outputs": []
    },
    {
      "cell_type": "code",
      "metadata": {
        "colab": {
          "base_uri": "https://localhost:8080/",
          "height": 297
        },
        "id": "rm24_xP80fCT",
        "outputId": "54db9854-d177-4deb-83b3-f463866df691"
      },
      "source": [
        "dataset.describe()"
      ],
      "execution_count": null,
      "outputs": [
        {
          "output_type": "execute_result",
          "data": {
            "text/html": [
              "<div>\n",
              "<style scoped>\n",
              "    .dataframe tbody tr th:only-of-type {\n",
              "        vertical-align: middle;\n",
              "    }\n",
              "\n",
              "    .dataframe tbody tr th {\n",
              "        vertical-align: top;\n",
              "    }\n",
              "\n",
              "    .dataframe thead th {\n",
              "        text-align: right;\n",
              "    }\n",
              "</style>\n",
              "<table border=\"1\" class=\"dataframe\">\n",
              "  <thead>\n",
              "    <tr style=\"text-align: right;\">\n",
              "      <th></th>\n",
              "      <th>TEMPERATURA</th>\n",
              "    </tr>\n",
              "  </thead>\n",
              "  <tbody>\n",
              "    <tr>\n",
              "      <th>count</th>\n",
              "      <td>2245.000000</td>\n",
              "    </tr>\n",
              "    <tr>\n",
              "      <th>mean</th>\n",
              "      <td>64.265038</td>\n",
              "    </tr>\n",
              "    <tr>\n",
              "      <th>std</th>\n",
              "      <td>16.315631</td>\n",
              "    </tr>\n",
              "    <tr>\n",
              "      <th>min</th>\n",
              "      <td>18.718320</td>\n",
              "    </tr>\n",
              "    <tr>\n",
              "      <th>25%</th>\n",
              "      <td>54.898560</td>\n",
              "    </tr>\n",
              "    <tr>\n",
              "      <th>50%</th>\n",
              "      <td>59.504080</td>\n",
              "    </tr>\n",
              "    <tr>\n",
              "      <th>75%</th>\n",
              "      <td>71.582280</td>\n",
              "    </tr>\n",
              "    <tr>\n",
              "      <th>max</th>\n",
              "      <td>390.441750</td>\n",
              "    </tr>\n",
              "  </tbody>\n",
              "</table>\n",
              "</div>"
            ],
            "text/plain": [
              "       TEMPERATURA\n",
              "count  2245.000000\n",
              "mean     64.265038\n",
              "std      16.315631\n",
              "min      18.718320\n",
              "25%      54.898560\n",
              "50%      59.504080\n",
              "75%      71.582280\n",
              "max     390.441750"
            ]
          },
          "metadata": {
            "tags": []
          },
          "execution_count": 10
        }
      ]
    },
    {
      "cell_type": "markdown",
      "metadata": {
        "id": "S7j4sAd-2vWy"
      },
      "source": [
        "#### Análise Gráfica"
      ]
    },
    {
      "cell_type": "code",
      "metadata": {
        "colab": {
          "base_uri": "https://localhost:8080/",
          "height": 307
        },
        "id": "nidePMmL3SPE",
        "outputId": "10bb18b0-721e-41a3-ee6c-a2c080fef2c2"
      },
      "source": [
        "temperaturas = dataset.to_numpy()\n",
        "temperaturas = temperaturas[:,3:4]\n",
        "bins = np.linspace(temperaturas.min(), temperaturas.max(), 50)\n",
        "plt.figure(figsize=(15, 6), dpi=50)\n",
        "plt.hist(temperaturas, bins=bins)\n",
        "plt.legend()\n",
        "plt.ylabel('Contagem')\n",
        "plt.xlabel('Temperatura')"
      ],
      "execution_count": null,
      "outputs": [
        {
          "output_type": "stream",
          "text": [
            "No handles with labels found to put in legend.\n"
          ],
          "name": "stderr"
        },
        {
          "output_type": "execute_result",
          "data": {
            "text/plain": [
              "Text(0.5, 0, 'Temperatura')"
            ]
          },
          "metadata": {
            "tags": []
          },
          "execution_count": 11
        },
        {
          "output_type": "display_data",
          "data": {
            "image/png": "[encoded data removed]",
            "text/plain": [
              "<Figure size 750x300 with 1 Axes>"
            ]
          },
          "metadata": {
            "tags": [],
            "needs_background": "light"
          }
        }
      ]
    },
    {
      "cell_type": "code",
      "metadata": {
        "colab": {
          "base_uri": "https://localhost:8080/",
          "height": 290
        },
        "id": "fPhAP4rz08Hx",
        "outputId": "2ced5497-cef4-4911-ee85-e26d1b3a2caf"
      },
      "source": [
        "tempsManc1 = manc1.to_numpy()[:,3:4]\n",
        "tempsManc2 = manc2.to_numpy()[:,3:4]\n",
        "tempsManc3 = manc3.to_numpy()[:,3:4]\n",
        "tempsManc4 = manc4.to_numpy()[:,3:4]\n",
        "tempsManc5 = manc5.to_numpy()[:,3:4]\n",
        "tempsManc6 = manc6.to_numpy()[:,3:4]\n",
        "tempsManc7 = manc7.to_numpy()[:,3:4]\n",
        "\n",
        "plt.figure(figsize=(15, 6), dpi=50)\n",
        "plt.hist(tempsManc1, bins=bins, label='MANC1')\n",
        "plt.hist(tempsManc2, bins=bins, label='MANC2')\n",
        "plt.hist(tempsManc3, bins=bins, label='MANC3')\n",
        "plt.hist(tempsManc4, bins=bins, label='MANC4')\n",
        "plt.hist(tempsManc5, bins=bins, label='MANC5')\n",
        "plt.hist(tempsManc6, bins=bins, label='MANC6')\n",
        "plt.hist(tempsManc7, bins=bins, label='MANC7')\n",
        "plt.legend()\n",
        "plt.ylabel('Contagem')\n",
        "plt.xlabel('Temperatura')"
      ],
      "execution_count": null,
      "outputs": [
        {
          "output_type": "execute_result",
          "data": {
            "text/plain": [
              "Text(0.5, 0, 'Temperatura')"
            ]
          },
          "metadata": {
            "tags": []
          },
          "execution_count": 12
        },
        {
          "output_type": "display_data",
          "data": {
            "image/png": "[encoded data removed]",
            "text/plain": [
              "<Figure size 750x300 with 1 Axes>"
            ]
          },
          "metadata": {
            "tags": [],
            "needs_background": "light"
          }
        }
      ]
    },
    {
      "cell_type": "code",
      "metadata": {
        "colab": {
          "base_uri": "https://localhost:8080/",
          "height": 284
        },
        "id": "4zZvpV9zqhFt",
        "outputId": "cc3a27d5-8d15-48d5-f8a0-be7851171481"
      },
      "source": [
        "plt.figure(figsize=(20, 6), dpi=50)\n",
        "\n",
        "plt.plot(tempsManc1, label='MANC1')\n",
        "plt.plot(tempsManc2, label='MANC2')\n",
        "plt.plot(tempsManc3, label='MANC3')\n",
        "plt.plot(tempsManc4, label='MANC4')\n",
        "#plt.plot(tempsManc5, label='MANC5')\n",
        "plt.plot(tempsManc6, label='MANC6')\n",
        "plt.plot(tempsManc7, label='MANC7')\n",
        "\n",
        "plt.xlabel(\"Tempo\")\n",
        "plt.ylabel(\"Temperatura\")\n",
        "plt.title(\"Temperatura de Mancal\")\n",
        "plt.legend()\n",
        "plt.show()"
      ],
      "execution_count": null,
      "outputs": [
        {
          "output_type": "display_data",
          "data": {
            "image/png": "[encoded data removed]",
            "text/plain": [
              "<Figure size 1000x300 with 1 Axes>"
            ]
          },
          "metadata": {
            "tags": [],
            "needs_background": "light"
          }
        }
      ]
    },
    {
      "cell_type": "markdown",
      "metadata": {
        "id": "aew2N81e35Uc"
      },
      "source": [
        "## Parte 2 - Preprocessamento de Dados"
      ]
    },
    {
      "cell_type": "markdown",
      "metadata": {
        "id": "36Q16Udt2l3W"
      },
      "source": [
        "### Separação do conjunto de Treino e Teste"
      ]
    },
    {
      "cell_type": "code",
      "metadata": {
        "id": "1ivhnWxD2eEG"
      },
      "source": [
        "datasetMancal = manc3\n",
        "#Conversão das temperaturas para número inteiro. Teste para ver se ajuda a RN. \n",
        "#datasetMancal = datasetMancal.astype({\"TEMPERATURA\": int})\n",
        "#datasetMancal['TEMPERATURA'] = datasetMancal['TEMPERATURA'].round(decimals=1)\n",
        "\n",
        "#Calculando tamanho dos conjuntos de treino e teste\n",
        "train_size = math.ceil(len(datasetMancal)*0.85)\n",
        "test_size  = len(datasetMancal) - train_size\n",
        "\n",
        "#Separando conjuto de treino e teste apenas com valor da série\n",
        "train_set = datasetMancal.iloc[0:train_size, 3:4].values\n",
        "test_set  = datasetMancal.iloc[train_size:(train_size + test_size), 3:4].values"
      ],
      "execution_count": null,
      "outputs": []
    },
    {
      "cell_type": "markdown",
      "metadata": {
        "id": "kd39T1zK2ql1"
      },
      "source": [
        "### gráfico da série temporal"
      ]
    },
    {
      "cell_type": "code",
      "metadata": {
        "id": "vMsAFuya2rhr",
        "colab": {
          "base_uri": "https://localhost:8080/",
          "height": 284
        },
        "outputId": "40dab3e5-5bf9-4d70-c210-427ebf2b1e9f"
      },
      "source": [
        "plt.figure(figsize=(20, 6), dpi=50)\n",
        "\n",
        "plt.plot(datasetMancal.iloc[0:len(datasetMancal), 3:4].values)\n",
        "plt.xlabel(\"Tempo\")\n",
        "plt.ylabel(\"Temperatura\")\n",
        "plt.title(\"Temperatura de Mancal\")\n",
        "plt.show()"
      ],
      "execution_count": null,
      "outputs": [
        {
          "output_type": "display_data",
          "data": {
            "image/png": "[encoded data removed]",
            "text/plain": [
              "<Figure size 1000x300 with 1 Axes>"
            ]
          },
          "metadata": {
            "tags": [],
            "needs_background": "light"
          }
        }
      ]
    },
    {
      "cell_type": "markdown",
      "metadata": {
        "id": "7p1F7HdB2uJU"
      },
      "source": [
        "### Normalização"
      ]
    },
    {
      "cell_type": "code",
      "metadata": {
        "id": "foeHRZr-2u-L"
      },
      "source": [
        "from sklearn.preprocessing import MinMaxScaler\n",
        "sc = MinMaxScaler(feature_range = (0, 1))\n",
        "training_set_scaled = sc.fit_transform(train_set)"
      ],
      "execution_count": null,
      "outputs": []
    },
    {
      "cell_type": "markdown",
      "metadata": {
        "id": "uQP8Q7MI21Y9"
      },
      "source": [
        "### Criar a estrutura de dados com janela WINDOW e output OUTPUTSIZE para entrada na RN"
      ]
    },
    {
      "cell_type": "code",
      "metadata": {
        "id": "C6Ge9ql922cb"
      },
      "source": [
        "def prepareSetRN(windowSize, outputSize, flatSet ):\n",
        "  preparedX = []\n",
        "  preparedY = []\n",
        "  setSize = len(flatSet)\n",
        "  for i in range(windowSize, setSize - (outputSize-1)):\n",
        "    preparedX.append(flatSet[i-windowSize:i, 0])\n",
        "    preparedY.append(flatSet[i:i + outputSize, 0])\n",
        "\n",
        "  preparedX, preparedY = np.array(preparedX), np.array(preparedY)\n",
        "  return preparedX, preparedY"
      ],
      "execution_count": null,
      "outputs": []
    },
    {
      "cell_type": "markdown",
      "metadata": {
        "id": "fZhjp7Tf282b"
      },
      "source": [
        "## Parte 3 - Construção da RNN"
      ]
    },
    {
      "cell_type": "markdown",
      "metadata": {
        "id": "KBXy2O1mWfb6"
      },
      "source": [
        "##### Parâmetros para geração das redes"
      ]
    },
    {
      "cell_type": "code",
      "metadata": {
        "id": "mIJpxb1WWe0U"
      },
      "source": [
        "#windowSet   = [4]\n",
        "#outputSet   = [3]\n",
        "#layerSet    = [1]\n",
        "#unitSet     = [[150,80,80]]\n",
        "#dropoutSet  = [0.25] \n",
        "#optmizerSet = ['Adam']\n",
        "#epochs      = 100\n",
        "#batch_size  = 20\n",
        "\n",
        "windowSet   = [3,4,5,6]\n",
        "outputSet   = [2,3]\n",
        "layerSet    = [1,2,3]\n",
        "unitSet     = [[150,80,80],[120,60,40],[80,80,60]]\n",
        "dropoutSet  = [0.2, 0.25, 0.3, 0.35] \n",
        "optmizerSet = ['Adam', 'Adadelta']\n",
        "epochs      = 800\n",
        "batch_size  = 32\n",
        "\n",
        "#windowSet   = [6,7,8,9,10,11,12]\n",
        "#outputSet   = [2,3]\n",
        "#layerSet    = [1,2,3]\n",
        "#unitSet     = [80,100,120,150]\n",
        "#dropoutSet  = [0, 0.2, 0.25, 0.3, 0.35] \n",
        "#optmizerSet = ['SGD','RMSprop', 'Nadam', 'Adamax']"
      ],
      "execution_count": null,
      "outputs": []
    },
    {
      "cell_type": "markdown",
      "metadata": {
        "id": "kordpD0_3H7b"
      },
      "source": [
        "### Construção da Rede completa"
      ]
    },
    {
      "cell_type": "code",
      "metadata": {
        "id": "EskB17uo3Iso"
      },
      "source": [
        "def criaRN(outputParam, layerParam, unitParam, dropoutParam, optmizerParam, X_trainParam):\n",
        "  # Inicializar a RNN\n",
        "  regressor = Sequential()\n",
        "\n",
        "  # Adicionar a primeira camada LSTM e Dropout \n",
        "  regressor.add(LSTM(units = unitParam[0], return_sequences = (layerParam > 1), input_shape = (X_trainParam.shape[1], 1)))\n",
        "  regressor.add(Dropout(dropoutParam))\n",
        " \n",
        "  if ( layerParam >= 2 ):\n",
        "    # Adicionar a segunda camada LSTM e Dropout\n",
        "    regressor.add(LSTM(units = unitParam[1], return_sequences = (layerParam > 2)))\n",
        "    regressor.add(Dropout(dropoutParam))\n",
        "\n",
        "  if ( layerParam >= 3):\n",
        "    # Adicionar a terceira camada LSTM e Dropout\n",
        "    regressor.add(LSTM(units = unitParam[2], return_sequences = (layerParam > 3)))\n",
        "    regressor.add(Dropout(dropoutParam))\n",
        "\n",
        "  # camada de saída\n",
        "  regressor.add(Dense(units = outputParam, activation='linear'))\n",
        "  #Testar sigmoid e linear\n",
        "\n",
        "  # Compilar a rede\n",
        "  regressor.compile(optimizer = optmizerParam, loss = 'mean_squared_error', metrics=['accuracy'])\n",
        "\n",
        "  # Visualizar a rede\n",
        "  #regressor.summary()\n",
        "\n",
        "  return regressor\n"
      ],
      "execution_count": null,
      "outputs": []
    },
    {
      "cell_type": "code",
      "metadata": {
        "id": "3yto6BQcdWlW"
      },
      "source": [
        "def backToFlat( windowSet ):\n",
        "    flatSet     = []\n",
        "    window_size = windowSet.shape[1]\n",
        "    setSize     = len(windowSet)\n",
        "\n",
        "    #Adiciona as primeiras colunas do primeiro registro quando a janela > 1\n",
        "    if window_size > 1:\n",
        "      for i in range(0, window_size-1):\n",
        "        flatSet.append(windowSet[0, i])\n",
        "\n",
        "    for i in range(0, setSize):\n",
        "        flatSet.append(windowSet[i, window_size-1])\n",
        "\n",
        "    flatSet = np.array(flatSet)\n",
        "\n",
        "    return np.reshape(flatSet, (flatSet.shape[0], 1)) "
      ],
      "execution_count": null,
      "outputs": []
    },
    {
      "cell_type": "code",
      "metadata": {
        "id": "nUDRmkLldJlz"
      },
      "source": [
        "fResults = open(\"resultados.csv\",\"w+\")\n",
        "\n",
        "fResults.write(\"EQUIPAMENTO,MANCAL,WINDOW,OUTPUT,NUM. CAMADAS,NUM. NEURONIOS CAMADA 1,NUM. NEURONIOS CAMADA 2,NUM. NEURONIOS CAMADA 3,DROUPOUT,OTIMIZADOR,EPOCHS,BATCH_SIZE,RMSE,MSE,MAPE\\r\\n\" )\n",
        "\n",
        "for a in range(0, len(windowSet) ):\n",
        "  for b in range(0, len(outputSet) ):\n",
        "    for c in range(0, len(layerSet) ):\n",
        "      for d in range(0, len(unitSet) ):\n",
        "        for e in range(0, len(dropoutSet) ):\n",
        "          for f in range(0, len(optmizerSet) ):\n",
        "            X_train = []\n",
        "            y_train = []\n",
        "            X_train, y_train = prepareSetRN(windowSet[a], outputSet[b], training_set_scaled)\n",
        "            X_train = np.reshape(X_train, (X_train.shape[0], X_train.shape[1], 1))\n",
        "\n",
        "            regressor = criaRN(outputSet[b], layerSet[c], unitSet[d], dropoutSet[e], optmizerSet[f], X_train)\n",
        "            history = regressor.fit(X_train, y_train, epochs = epochs, batch_size = batch_size)\n",
        "            \n",
        "            #Acréscimo da janela no conjunto de teste para pegar os últimos registros do treino\n",
        "            test_set_first_window  = dataset.iloc[train_size - windowSet[a]:(train_size + test_size), 3:4].values\n",
        "\n",
        "            test_set_scaled = sc.transform(test_set_first_window)\n",
        "\n",
        "            X_test = []\n",
        "            y_test = []\n",
        "\n",
        "            X_test, y_test = prepareSetRN(windowSet[a], outputSet[b], test_set_scaled)\n",
        "            X_test = np.reshape(X_test, (X_test.shape[0], X_test.shape[1], 1))\n",
        "\n",
        "            predicted = regressor.predict(X_test)\n",
        "            predicted = sc.inverse_transform(predicted)\n",
        "\n",
        "            test_predicted = backToFlat(predicted)\n",
        "\n",
        "            rmse = math.sqrt(mean_squared_error(test_set, test_predicted))\n",
        "            mse = mean_squared_error(test_set, test_predicted)\n",
        "            mape = np.mean(np.abs((test_set - test_predicted) / test_set)) * 100\n",
        "\n",
        "            fResults.write(\"%s,\" % datasetMancal['EQUIPAMENTO'].to_numpy()[0])\n",
        "            fResults.write(\"%s,\" % datasetMancal['MANCAL'].to_numpy()[0])\n",
        "            fResults.write(\"%d,\" % windowSet[a])\n",
        "            fResults.write(\"%d,\" % outputSet[b])\n",
        "            fResults.write(\"%d,\" % layerSet[c])\n",
        "            fResults.write(\"%d,\" % unitSet[d][0])\n",
        "            fResults.write(\"%d,\" % unitSet[d][1])\n",
        "            fResults.write(\"%d,\" % unitSet[d][2])\n",
        "            fResults.write(\"%f,\" % dropoutSet[e])\n",
        "            fResults.write(\"%s,\" % optmizerSet[f])\n",
        "            fResults.write(\"%d,\" % epochs)\n",
        "            fResults.write(\"%d,\" % batch_size)\n",
        "            fResults.write(\"%f,\" % rmse)\n",
        "            fResults.write(\"%f,\" % mse)\n",
        "            fResults.write(\"%f\\r\\n\" % mape)\n",
        "\n",
        "fResults.close()                    "
      ],
      "execution_count": null,
      "outputs": []
    }
  ]
}