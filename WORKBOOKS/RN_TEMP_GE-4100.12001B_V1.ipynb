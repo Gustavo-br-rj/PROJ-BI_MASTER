{
  "nbformat": 4,
  "nbformat_minor": 0,
  "metadata": {
    "accelerator": "TPU",
    "colab": {
      "name": "Cópia de RN_DPI.ipynb",
      "provenance": [],
      "collapsed_sections": []
    },
    "kernelspec": {
      "display_name": "Python 3",
      "name": "python3"
    }
  },
  "cells": [
    {
      "cell_type": "code",
      "metadata": {
        "id": "9cXtNdOXz_lv"
      },
      "source": [
        "#from google.colab import drive\n",
        "#drive.mount('/content/drive')"
      ],
      "execution_count": 1,
      "outputs": []
    },
    {
      "cell_type": "markdown",
      "metadata": {
        "id": "bgc8yb4c2W0g"
      },
      "source": [
        "# Previsão de Série Temporal da Temperatura de Mancais Utilizando LSTM\n"
      ]
    },
    {
      "cell_type": "markdown",
      "metadata": {
        "id": "1EQYV0pwuxBz"
      },
      "source": [
        "## Parte 0 - Importação das Bibliotecas e da Base de Dados"
      ]
    },
    {
      "cell_type": "code",
      "metadata": {
        "id": "RASZBW_Fu8Ze"
      },
      "source": [
        "#%tensorflow_version 1.x\n",
        "import tensorflow as tf\n",
        "import numpy as np\n",
        "import matplotlib.pyplot as plt\n",
        "import pandas as pd\n",
        "import os\n",
        "import math\n",
        "\n",
        "from sklearn.metrics import mean_squared_error\n",
        "\n",
        "#tf.__version__"
      ],
      "execution_count": 57,
      "outputs": []
    },
    {
      "cell_type": "markdown",
      "metadata": {
        "id": "W5fUA_fOKrvt"
      },
      "source": [
        ""
      ]
    },
    {
      "cell_type": "markdown",
      "metadata": {
        "id": "MU5Q6M1nuEr_"
      },
      "source": [
        "## Parte 1 - Importação do Dataset e Estatística Descritiva"
      ]
    },
    {
      "cell_type": "code",
      "metadata": {
        "id": "fKi18czKK2RC"
      },
      "source": [
        "# Importação da Base de Dados\n",
        "dataset = pd.read_csv('/content/drive/MyDrive/BI_MASTER/PROJETO_FINAL_BIMASTER/DATASETS/dataset_GE-4100_12001B.csv')\n",
        "\n",
        "# Eliminando as TAGs que não se referem aos mancais do equipamento\n",
        "dataset = dataset[dataset.MANCAL != 'ECU1.G2-TI-MANCD.F_CV']\n",
        "dataset = dataset[dataset.MANCAL != 'ECU1.G2-TI-MANCT.F_CV']"
      ],
      "execution_count": 79,
      "outputs": []
    },
    {
      "cell_type": "code",
      "metadata": {
        "colab": {
          "base_uri": "https://localhost:8080/"
        },
        "id": "l-emnJ3-w5Sm",
        "outputId": "0cf22104-0bca-4580-c0f5-b49972421cfb"
      },
      "source": [
        "dataset.info()"
      ],
      "execution_count": 80,
      "outputs": [
        {
          "output_type": "stream",
          "text": [
            "<class 'pandas.core.frame.DataFrame'>\n",
            "Int64Index: 1139 entries, 332 to 1470\n",
            "Data columns (total 4 columns):\n",
            " #   Column       Non-Null Count  Dtype  \n",
            "---  ------       --------------  -----  \n",
            " 0   EQUIPAMENTO  1139 non-null   object \n",
            " 1   MANCAL       1139 non-null   object \n",
            " 2   DATA         1139 non-null   object \n",
            " 3   TEMPERATURA  1139 non-null   float64\n",
            "dtypes: float64(1), object(3)\n",
            "memory usage: 44.5+ KB\n"
          ],
          "name": "stdout"
        }
      ]
    },
    {
      "cell_type": "code",
      "metadata": {
        "colab": {
          "base_uri": "https://localhost:8080/",
          "height": 204
        },
        "id": "ZmgfDS_ryMS6",
        "outputId": "97f84038-633f-49d7-806e-e59184aa646f"
      },
      "source": [
        "dataset.head()"
      ],
      "execution_count": 81,
      "outputs": [
        {
          "output_type": "execute_result",
          "data": {
            "text/html": [
              "<div>\n",
              "<style scoped>\n",
              "    .dataframe tbody tr th:only-of-type {\n",
              "        vertical-align: middle;\n",
              "    }\n",
              "\n",
              "    .dataframe tbody tr th {\n",
              "        vertical-align: top;\n",
              "    }\n",
              "\n",
              "    .dataframe thead th {\n",
              "        text-align: right;\n",
              "    }\n",
              "</style>\n",
              "<table border=\"1\" class=\"dataframe\">\n",
              "  <thead>\n",
              "    <tr style=\"text-align: right;\">\n",
              "      <th></th>\n",
              "      <th>EQUIPAMENTO</th>\n",
              "      <th>MANCAL</th>\n",
              "      <th>DATA</th>\n",
              "      <th>TEMPERATURA</th>\n",
              "    </tr>\n",
              "  </thead>\n",
              "  <tbody>\n",
              "    <tr>\n",
              "      <th>332</th>\n",
              "      <td>GE-4100.12001B</td>\n",
              "      <td>ECU1.G2-TI-MANC1.F_CV</td>\n",
              "      <td>04/01/2021</td>\n",
              "      <td>88.46892</td>\n",
              "    </tr>\n",
              "    <tr>\n",
              "      <th>333</th>\n",
              "      <td>GE-4100.12001B</td>\n",
              "      <td>ECU1.G2-TI-MANC1.F_CV</td>\n",
              "      <td>05/01/2021</td>\n",
              "      <td>88.70467</td>\n",
              "    </tr>\n",
              "    <tr>\n",
              "      <th>334</th>\n",
              "      <td>GE-4100.12001B</td>\n",
              "      <td>ECU1.G2-TI-MANC1.F_CV</td>\n",
              "      <td>06/01/2021</td>\n",
              "      <td>89.00348</td>\n",
              "    </tr>\n",
              "    <tr>\n",
              "      <th>335</th>\n",
              "      <td>GE-4100.12001B</td>\n",
              "      <td>ECU1.G2-TI-MANC1.F_CV</td>\n",
              "      <td>07/01/2021</td>\n",
              "      <td>89.26297</td>\n",
              "    </tr>\n",
              "    <tr>\n",
              "      <th>336</th>\n",
              "      <td>GE-4100.12001B</td>\n",
              "      <td>ECU1.G2-TI-MANC1.F_CV</td>\n",
              "      <td>08/01/2021</td>\n",
              "      <td>89.27669</td>\n",
              "    </tr>\n",
              "  </tbody>\n",
              "</table>\n",
              "</div>"
            ],
            "text/plain": [
              "        EQUIPAMENTO                 MANCAL        DATA  TEMPERATURA\n",
              "332  GE-4100.12001B  ECU1.G2-TI-MANC1.F_CV  04/01/2021     88.46892\n",
              "333  GE-4100.12001B  ECU1.G2-TI-MANC1.F_CV  05/01/2021     88.70467\n",
              "334  GE-4100.12001B  ECU1.G2-TI-MANC1.F_CV  06/01/2021     89.00348\n",
              "335  GE-4100.12001B  ECU1.G2-TI-MANC1.F_CV  07/01/2021     89.26297\n",
              "336  GE-4100.12001B  ECU1.G2-TI-MANC1.F_CV  08/01/2021     89.27669"
            ]
          },
          "metadata": {
            "tags": []
          },
          "execution_count": 81
        }
      ]
    },
    {
      "cell_type": "code",
      "metadata": {
        "colab": {
          "base_uri": "https://localhost:8080/"
        },
        "id": "O9Ywtc8ncBx_",
        "outputId": "37afb642-bffc-45a6-d483-a17508659525"
      },
      "source": [
        "#Conversão do campo data para datetime e ordenação do dataset\n",
        "dataset['DATA'] = pd.to_datetime(dataset['DATA'],dayfirst=True)\n",
        "dataset = dataset.sort_values(['EQUIPAMENTO', 'MANCAL', 'DATA'], ascending=[1, 1, 1])\n",
        "dataset.info()"
      ],
      "execution_count": 82,
      "outputs": [
        {
          "output_type": "stream",
          "text": [
            "<class 'pandas.core.frame.DataFrame'>\n",
            "Int64Index: 1139 entries, 332 to 1470\n",
            "Data columns (total 4 columns):\n",
            " #   Column       Non-Null Count  Dtype         \n",
            "---  ------       --------------  -----         \n",
            " 0   EQUIPAMENTO  1139 non-null   object        \n",
            " 1   MANCAL       1139 non-null   object        \n",
            " 2   DATA         1139 non-null   datetime64[ns]\n",
            " 3   TEMPERATURA  1139 non-null   float64       \n",
            "dtypes: datetime64[ns](1), float64(1), object(2)\n",
            "memory usage: 44.5+ KB\n"
          ],
          "name": "stdout"
        }
      ]
    },
    {
      "cell_type": "code",
      "metadata": {
        "colab": {
          "base_uri": "https://localhost:8080/",
          "height": 297
        },
        "id": "KuyMFVw-NJqv",
        "outputId": "2a16afba-9d22-4335-f6e0-f8d7590ae92b"
      },
      "source": [
        "dataset.groupby(['EQUIPAMENTO','MANCAL']).count()"
      ],
      "execution_count": 83,
      "outputs": [
        {
          "output_type": "execute_result",
          "data": {
            "text/html": [
              "<div>\n",
              "<style scoped>\n",
              "    .dataframe tbody tr th:only-of-type {\n",
              "        vertical-align: middle;\n",
              "    }\n",
              "\n",
              "    .dataframe tbody tr th {\n",
              "        vertical-align: top;\n",
              "    }\n",
              "\n",
              "    .dataframe thead th {\n",
              "        text-align: right;\n",
              "    }\n",
              "</style>\n",
              "<table border=\"1\" class=\"dataframe\">\n",
              "  <thead>\n",
              "    <tr style=\"text-align: right;\">\n",
              "      <th></th>\n",
              "      <th></th>\n",
              "      <th>DATA</th>\n",
              "      <th>TEMPERATURA</th>\n",
              "    </tr>\n",
              "    <tr>\n",
              "      <th>EQUIPAMENTO</th>\n",
              "      <th>MANCAL</th>\n",
              "      <th></th>\n",
              "      <th></th>\n",
              "    </tr>\n",
              "  </thead>\n",
              "  <tbody>\n",
              "    <tr>\n",
              "      <th rowspan=\"7\" valign=\"top\">GE-4100.12001B</th>\n",
              "      <th>ECU1.G2-TI-MANC1.F_CV</th>\n",
              "      <td>166</td>\n",
              "      <td>166</td>\n",
              "    </tr>\n",
              "    <tr>\n",
              "      <th>ECU1.G2-TI-MANC2.F_CV</th>\n",
              "      <td>166</td>\n",
              "      <td>166</td>\n",
              "    </tr>\n",
              "    <tr>\n",
              "      <th>ECU1.G2-TI-MANC3.F_CV</th>\n",
              "      <td>143</td>\n",
              "      <td>143</td>\n",
              "    </tr>\n",
              "    <tr>\n",
              "      <th>ECU1.G2-TI-MANC4.F_CV</th>\n",
              "      <td>166</td>\n",
              "      <td>166</td>\n",
              "    </tr>\n",
              "    <tr>\n",
              "      <th>ECU1.G2-TI-MANC5.F_CV</th>\n",
              "      <td>166</td>\n",
              "      <td>166</td>\n",
              "    </tr>\n",
              "    <tr>\n",
              "      <th>ECU1.G2-TI-MANC6.F_CV</th>\n",
              "      <td>166</td>\n",
              "      <td>166</td>\n",
              "    </tr>\n",
              "    <tr>\n",
              "      <th>ECU1.G2-TI-MANC7.F_CV</th>\n",
              "      <td>166</td>\n",
              "      <td>166</td>\n",
              "    </tr>\n",
              "  </tbody>\n",
              "</table>\n",
              "</div>"
            ],
            "text/plain": [
              "                                      DATA  TEMPERATURA\n",
              "EQUIPAMENTO    MANCAL                                  \n",
              "GE-4100.12001B ECU1.G2-TI-MANC1.F_CV   166          166\n",
              "               ECU1.G2-TI-MANC2.F_CV   166          166\n",
              "               ECU1.G2-TI-MANC3.F_CV   143          143\n",
              "               ECU1.G2-TI-MANC4.F_CV   166          166\n",
              "               ECU1.G2-TI-MANC5.F_CV   166          166\n",
              "               ECU1.G2-TI-MANC6.F_CV   166          166\n",
              "               ECU1.G2-TI-MANC7.F_CV   166          166"
            ]
          },
          "metadata": {
            "tags": []
          },
          "execution_count": 83
        }
      ]
    },
    {
      "cell_type": "code",
      "metadata": {
        "colab": {
          "base_uri": "https://localhost:8080/",
          "height": 419
        },
        "id": "tO1BKMy5lmt8",
        "outputId": "fc72264d-acd9-4a10-af03-cc0c7727ea0d"
      },
      "source": [
        "#Separação do dataset por mancais\n",
        "manc1 = dataset[dataset['MANCAL'] == 'ECU1.G2-TI-MANC1.F_CV']\n",
        "manc2 = dataset[dataset['MANCAL'] == 'ECU1.G2-TI-MANC2.F_CV']\n",
        "manc3 = dataset[dataset['MANCAL'] == 'ECU1.G2-TI-MANC3.F_CV']\n",
        "manc4 = dataset[dataset['MANCAL'] == 'ECU1.G2-TI-MANC4.F_CV']\n",
        "manc5 = dataset[dataset['MANCAL'] == 'ECU1.G2-TI-MANC5.F_CV']\n",
        "manc6 = dataset[dataset['MANCAL'] == 'ECU1.G2-TI-MANC6.F_CV']\n",
        "manc7 = dataset[dataset['MANCAL'] == 'ECU1.G2-TI-MANC7.F_CV']\n",
        "#mancD = dataset[dataset['MANCAL'] == 'ECU1.G2-TI-MANCD.F_CV']\n",
        "#mancT = dataset[dataset['MANCAL'] == 'ECU1.G2-TI-MANCT.F_CV']\n",
        "\n",
        "#Criação do dataframe com as datas registradas para pelo menos um dos mancais\n",
        "lista_datas = dataset['DATA'].unique().tolist()\n",
        "datas_registradas = pd.DataFrame(lista_datas,columns=['DATA'])\n",
        "datas_registradas['DATA'] = pd.to_datetime(datas_registradas['DATA'],dayfirst=True)\n"
      ],
      "execution_count": 90,
      "outputs": [
        {
          "output_type": "execute_result",
          "data": {
            "text/html": [
              "<div>\n",
              "<style scoped>\n",
              "    .dataframe tbody tr th:only-of-type {\n",
              "        vertical-align: middle;\n",
              "    }\n",
              "\n",
              "    .dataframe tbody tr th {\n",
              "        vertical-align: top;\n",
              "    }\n",
              "\n",
              "    .dataframe thead th {\n",
              "        text-align: right;\n",
              "    }\n",
              "</style>\n",
              "<table border=\"1\" class=\"dataframe\">\n",
              "  <thead>\n",
              "    <tr style=\"text-align: right;\">\n",
              "      <th></th>\n",
              "      <th>EQUIPAMENTO</th>\n",
              "      <th>MANCAL</th>\n",
              "      <th>DATA</th>\n",
              "      <th>TEMPERATURA</th>\n",
              "    </tr>\n",
              "  </thead>\n",
              "  <tbody>\n",
              "    <tr>\n",
              "      <th>332</th>\n",
              "      <td>GE-4100.12001B</td>\n",
              "      <td>ECU1.G2-TI-MANC1.F_CV</td>\n",
              "      <td>2021-01-04</td>\n",
              "      <td>88.46892</td>\n",
              "    </tr>\n",
              "    <tr>\n",
              "      <th>333</th>\n",
              "      <td>GE-4100.12001B</td>\n",
              "      <td>ECU1.G2-TI-MANC1.F_CV</td>\n",
              "      <td>2021-01-05</td>\n",
              "      <td>88.70467</td>\n",
              "    </tr>\n",
              "    <tr>\n",
              "      <th>334</th>\n",
              "      <td>GE-4100.12001B</td>\n",
              "      <td>ECU1.G2-TI-MANC1.F_CV</td>\n",
              "      <td>2021-01-06</td>\n",
              "      <td>89.00348</td>\n",
              "    </tr>\n",
              "    <tr>\n",
              "      <th>335</th>\n",
              "      <td>GE-4100.12001B</td>\n",
              "      <td>ECU1.G2-TI-MANC1.F_CV</td>\n",
              "      <td>2021-01-07</td>\n",
              "      <td>89.26297</td>\n",
              "    </tr>\n",
              "    <tr>\n",
              "      <th>336</th>\n",
              "      <td>GE-4100.12001B</td>\n",
              "      <td>ECU1.G2-TI-MANC1.F_CV</td>\n",
              "      <td>2021-01-08</td>\n",
              "      <td>89.27669</td>\n",
              "    </tr>\n",
              "    <tr>\n",
              "      <th>...</th>\n",
              "      <td>...</td>\n",
              "      <td>...</td>\n",
              "      <td>...</td>\n",
              "      <td>...</td>\n",
              "    </tr>\n",
              "    <tr>\n",
              "      <th>493</th>\n",
              "      <td>GE-4100.12001B</td>\n",
              "      <td>ECU1.G2-TI-MANC1.F_CV</td>\n",
              "      <td>2021-06-22</td>\n",
              "      <td>89.72006</td>\n",
              "    </tr>\n",
              "    <tr>\n",
              "      <th>494</th>\n",
              "      <td>GE-4100.12001B</td>\n",
              "      <td>ECU1.G2-TI-MANC1.F_CV</td>\n",
              "      <td>2021-06-23</td>\n",
              "      <td>89.20615</td>\n",
              "    </tr>\n",
              "    <tr>\n",
              "      <th>495</th>\n",
              "      <td>GE-4100.12001B</td>\n",
              "      <td>ECU1.G2-TI-MANC1.F_CV</td>\n",
              "      <td>2021-06-24</td>\n",
              "      <td>88.19512</td>\n",
              "    </tr>\n",
              "    <tr>\n",
              "      <th>496</th>\n",
              "      <td>GE-4100.12001B</td>\n",
              "      <td>ECU1.G2-TI-MANC1.F_CV</td>\n",
              "      <td>2021-06-25</td>\n",
              "      <td>88.37110</td>\n",
              "    </tr>\n",
              "    <tr>\n",
              "      <th>497</th>\n",
              "      <td>GE-4100.12001B</td>\n",
              "      <td>ECU1.G2-TI-MANC1.F_CV</td>\n",
              "      <td>2021-06-26</td>\n",
              "      <td>88.54088</td>\n",
              "    </tr>\n",
              "  </tbody>\n",
              "</table>\n",
              "<p>166 rows × 4 columns</p>\n",
              "</div>"
            ],
            "text/plain": [
              "        EQUIPAMENTO                 MANCAL       DATA  TEMPERATURA\n",
              "332  GE-4100.12001B  ECU1.G2-TI-MANC1.F_CV 2021-01-04     88.46892\n",
              "333  GE-4100.12001B  ECU1.G2-TI-MANC1.F_CV 2021-01-05     88.70467\n",
              "334  GE-4100.12001B  ECU1.G2-TI-MANC1.F_CV 2021-01-06     89.00348\n",
              "335  GE-4100.12001B  ECU1.G2-TI-MANC1.F_CV 2021-01-07     89.26297\n",
              "336  GE-4100.12001B  ECU1.G2-TI-MANC1.F_CV 2021-01-08     89.27669\n",
              "..              ...                    ...        ...          ...\n",
              "493  GE-4100.12001B  ECU1.G2-TI-MANC1.F_CV 2021-06-22     89.72006\n",
              "494  GE-4100.12001B  ECU1.G2-TI-MANC1.F_CV 2021-06-23     89.20615\n",
              "495  GE-4100.12001B  ECU1.G2-TI-MANC1.F_CV 2021-06-24     88.19512\n",
              "496  GE-4100.12001B  ECU1.G2-TI-MANC1.F_CV 2021-06-25     88.37110\n",
              "497  GE-4100.12001B  ECU1.G2-TI-MANC1.F_CV 2021-06-26     88.54088\n",
              "\n",
              "[166 rows x 4 columns]"
            ]
          },
          "metadata": {
            "tags": []
          },
          "execution_count": 90
        }
      ]
    },
    {
      "cell_type": "code",
      "metadata": {
        "colab": {
          "base_uri": "https://localhost:8080/",
          "height": 111
        },
        "id": "NRVecK8COmFw",
        "outputId": "e183c781-6e90-4008-803e-9aedad00a966"
      },
      "source": [
        "# Ajuste dos datasets para incluir datas faltantes do conjunto e preencher os \n",
        "# dados faltantes. A temperatura será preenchida com a moda do conjunto de \n",
        "# temperaturas do mancal.\n",
        "def completeDates( dates, dataset ):\n",
        "  result = pd.merge(dates, dataset, on='DATA', how='outer')\n",
        "  result['EQUIPAMENTO'].fillna(np.array(dataset['EQUIPAMENTO'])[0], inplace = True);\n",
        "  result['MANCAL'].fillna(np.array(dataset['MANCAL'])[0], inplace = True);\n",
        "  result['TEMPERATURA'].fillna(np.array(manc3['TEMPERATURA'].mode())[0], inplace = True)\n",
        "  return result\n",
        "\n",
        "manc1 = completeDates( datas_registradas, manc1)\n",
        "manc1 = completeDates( datas_registradas, manc2)\n",
        "manc3 = completeDates( datas_registradas, manc3)\n",
        "manc4 = completeDates( datas_registradas, manc4)\n",
        "manc5 = completeDates( datas_registradas, manc5)\n",
        "manc6 = completeDates( datas_registradas, manc6)\n",
        "manc7 = completeDates( datas_registradas, manc7)\n",
        "#mancD = completeDates( datas_registradas, mancD)\n",
        "#mancT = completeDates( datas_registradas, mancT)\n",
        "\n",
        "manc3.groupby(['EQUIPAMENTO','MANCAL']).count()"
      ],
      "execution_count": 85,
      "outputs": [
        {
          "output_type": "execute_result",
          "data": {
            "text/html": [
              "<div>\n",
              "<style scoped>\n",
              "    .dataframe tbody tr th:only-of-type {\n",
              "        vertical-align: middle;\n",
              "    }\n",
              "\n",
              "    .dataframe tbody tr th {\n",
              "        vertical-align: top;\n",
              "    }\n",
              "\n",
              "    .dataframe thead th {\n",
              "        text-align: right;\n",
              "    }\n",
              "</style>\n",
              "<table border=\"1\" class=\"dataframe\">\n",
              "  <thead>\n",
              "    <tr style=\"text-align: right;\">\n",
              "      <th></th>\n",
              "      <th></th>\n",
              "      <th>DATA</th>\n",
              "      <th>TEMPERATURA</th>\n",
              "    </tr>\n",
              "    <tr>\n",
              "      <th>EQUIPAMENTO</th>\n",
              "      <th>MANCAL</th>\n",
              "      <th></th>\n",
              "      <th></th>\n",
              "    </tr>\n",
              "  </thead>\n",
              "  <tbody>\n",
              "    <tr>\n",
              "      <th>GE-4100.12001B</th>\n",
              "      <th>ECU1.G2-TI-MANC3.F_CV</th>\n",
              "      <td>166</td>\n",
              "      <td>166</td>\n",
              "    </tr>\n",
              "  </tbody>\n",
              "</table>\n",
              "</div>"
            ],
            "text/plain": [
              "                                      DATA  TEMPERATURA\n",
              "EQUIPAMENTO    MANCAL                                  \n",
              "GE-4100.12001B ECU1.G2-TI-MANC3.F_CV   166          166"
            ]
          },
          "metadata": {
            "tags": []
          },
          "execution_count": 85
        }
      ]
    },
    {
      "cell_type": "code",
      "metadata": {
        "colab": {
          "base_uri": "https://localhost:8080/",
          "height": 297
        },
        "id": "rm24_xP80fCT",
        "outputId": "544a5273-9103-4205-d470-31421411c094"
      },
      "source": [
        "dataset.describe()"
      ],
      "execution_count": 86,
      "outputs": [
        {
          "output_type": "execute_result",
          "data": {
            "text/html": [
              "<div>\n",
              "<style scoped>\n",
              "    .dataframe tbody tr th:only-of-type {\n",
              "        vertical-align: middle;\n",
              "    }\n",
              "\n",
              "    .dataframe tbody tr th {\n",
              "        vertical-align: top;\n",
              "    }\n",
              "\n",
              "    .dataframe thead th {\n",
              "        text-align: right;\n",
              "    }\n",
              "</style>\n",
              "<table border=\"1\" class=\"dataframe\">\n",
              "  <thead>\n",
              "    <tr style=\"text-align: right;\">\n",
              "      <th></th>\n",
              "      <th>TEMPERATURA</th>\n",
              "    </tr>\n",
              "  </thead>\n",
              "  <tbody>\n",
              "    <tr>\n",
              "      <th>count</th>\n",
              "      <td>1139.000000</td>\n",
              "    </tr>\n",
              "    <tr>\n",
              "      <th>mean</th>\n",
              "      <td>90.231111</td>\n",
              "    </tr>\n",
              "    <tr>\n",
              "      <th>std</th>\n",
              "      <td>2.966634</td>\n",
              "    </tr>\n",
              "    <tr>\n",
              "      <th>min</th>\n",
              "      <td>71.067210</td>\n",
              "    </tr>\n",
              "    <tr>\n",
              "      <th>25%</th>\n",
              "      <td>89.305330</td>\n",
              "    </tr>\n",
              "    <tr>\n",
              "      <th>50%</th>\n",
              "      <td>90.662560</td>\n",
              "    </tr>\n",
              "    <tr>\n",
              "      <th>75%</th>\n",
              "      <td>91.699165</td>\n",
              "    </tr>\n",
              "    <tr>\n",
              "      <th>max</th>\n",
              "      <td>96.377440</td>\n",
              "    </tr>\n",
              "  </tbody>\n",
              "</table>\n",
              "</div>"
            ],
            "text/plain": [
              "       TEMPERATURA\n",
              "count  1139.000000\n",
              "mean     90.231111\n",
              "std       2.966634\n",
              "min      71.067210\n",
              "25%      89.305330\n",
              "50%      90.662560\n",
              "75%      91.699165\n",
              "max      96.377440"
            ]
          },
          "metadata": {
            "tags": []
          },
          "execution_count": 86
        }
      ]
    },
    {
      "cell_type": "markdown",
      "metadata": {
        "id": "S7j4sAd-2vWy"
      },
      "source": [
        "#### Análise Gráfica"
      ]
    },
    {
      "cell_type": "code",
      "metadata": {
        "colab": {
          "base_uri": "https://localhost:8080/",
          "height": 307
        },
        "id": "nidePMmL3SPE",
        "outputId": "2eeaa066-edba-4359-b842-87885cec54cf"
      },
      "source": [
        "temperaturas = dataset.to_numpy()\n",
        "temperaturas = temperaturas[:,3:4]\n",
        "bins = np.linspace(temperaturas.min(), temperaturas.max(), 50)\n",
        "plt.figure(figsize=(15, 6), dpi=50)\n",
        "plt.hist(temperaturas, bins=bins)\n",
        "plt.legend()\n",
        "plt.ylabel('Contagem')\n",
        "plt.xlabel('Temperatura')"
      ],
      "execution_count": 87,
      "outputs": [
        {
          "output_type": "stream",
          "text": [
            "No handles with labels found to put in legend.\n"
          ],
          "name": "stderr"
        },
        {
          "output_type": "execute_result",
          "data": {
            "text/plain": [
              "Text(0.5, 0, 'Temperatura')"
            ]
          },
          "metadata": {
            "tags": []
          },
          "execution_count": 87
        },
        {
          "output_type": "display_data",
          "data": {
            "image/png": "[encoded data removed]",
            "text/plain": [
              "<Figure size 750x300 with 1 Axes>"
            ]
          },
          "metadata": {
            "tags": [],
            "needs_background": "light"
          }
        }
      ]
    },
    {
      "cell_type": "code",
      "metadata": {
        "colab": {
          "base_uri": "https://localhost:8080/",
          "height": 290
        },
        "id": "fPhAP4rz08Hx",
        "outputId": "09f6d9cc-de04-4963-ef9a-441b1012b562"
      },
      "source": [
        "tempsManc1 = manc1.to_numpy()[:,3:4]\n",
        "tempsManc2 = manc2.to_numpy()[:,3:4]\n",
        "tempsManc3 = manc3.to_numpy()[:,3:4]\n",
        "tempsManc4 = manc4.to_numpy()[:,3:4]\n",
        "tempsManc5 = manc5.to_numpy()[:,3:4]\n",
        "tempsManc6 = manc6.to_numpy()[:,3:4]\n",
        "tempsManc7 = manc7.to_numpy()[:,3:4]\n",
        "#tempsMancD = mancD.to_numpy()[:,3:4]\n",
        "#tempsMancT = mancT.to_numpy()[:,3:4]\n",
        "\n",
        "plt.figure(figsize=(15, 6), dpi=50)\n",
        "plt.hist(tempsManc1, bins=bins, label='MANC1')\n",
        "plt.hist(tempsManc2, bins=bins, label='MANC2')\n",
        "plt.hist(tempsManc3, bins=bins, label='MANC3')\n",
        "plt.hist(tempsManc4, bins=bins, label='MANC4')\n",
        "plt.hist(tempsManc5, bins=bins, label='MANC5')\n",
        "plt.hist(tempsManc6, bins=bins, label='MANC6')\n",
        "plt.hist(tempsManc7, bins=bins, label='MANC7')\n",
        "plt.legend()\n",
        "plt.ylabel('Contagem')\n",
        "plt.xlabel('Temperatura')"
      ],
      "execution_count": 88,
      "outputs": [
        {
          "output_type": "execute_result",
          "data": {
            "text/plain": [
              "Text(0.5, 0, 'Temperatura')"
            ]
          },
          "metadata": {
            "tags": []
          },
          "execution_count": 88
        },
        {
          "output_type": "display_data",
          "data": {
            "image/png": "[encoded data removed]",
            "text/plain": [
              "<Figure size 750x300 with 1 Axes>"
            ]
          },
          "metadata": {
            "tags": [],
            "needs_background": "light"
          }
        }
      ]
    },
    {
      "cell_type": "code",
      "metadata": {
        "colab": {
          "base_uri": "https://localhost:8080/",
          "height": 284
        },
        "id": "4zZvpV9zqhFt",
        "outputId": "162107d8-52fb-45a6-c4cb-4baa78b5eed9"
      },
      "source": [
        "plt.figure(figsize=(20, 6), dpi=50)\n",
        "\n",
        "plt.plot(tempsManc1)\n",
        "plt.plot(tempsManc2)\n",
        "plt.plot(tempsManc3)\n",
        "plt.plot(tempsManc4)\n",
        "plt.plot(tempsManc5)\n",
        "plt.plot(tempsManc6)\n",
        "plt.plot(tempsManc7)\n",
        "#plt.plot(tempsMancD)\n",
        "#plt.plot(tempsMancT)\n",
        "\n",
        "plt.xlabel(\"Tempo\")\n",
        "plt.ylabel(\"Temperatura\")\n",
        "plt.title(\"Temperatura de Mancal\")\n",
        "plt.show()"
      ],
      "execution_count": 89,
      "outputs": [
        {
          "output_type": "display_data",
          "data": {
            "image/png": "[encoded data removed]",
            "text/plain": [
              "<Figure size 1000x300 with 1 Axes>"
            ]
          },
          "metadata": {
            "tags": [],
            "needs_background": "light"
          }
        }
      ]
    },
    {
      "cell_type": "markdown",
      "metadata": {
        "id": "aew2N81e35Uc"
      },
      "source": [
        "## Parte 2 - Preprocessamento de Dados"
      ]
    },
    {
      "cell_type": "markdown",
      "metadata": {
        "id": "36Q16Udt2l3W"
      },
      "source": [
        "### Separação do conjunto de Treino e Teste"
      ]
    },
    {
      "cell_type": "code",
      "metadata": {
        "id": "Clt03W2W41qd"
      },
      "source": [
        "window     = 6\n",
        "output_size = 1"
      ],
      "execution_count": 13,
      "outputs": []
    },
    {
      "cell_type": "code",
      "metadata": {
        "id": "1ivhnWxD2eEG"
      },
      "source": [
        "datasetMancal = manc5\n",
        "#Conversão das temperaturas para número inteiro. Teste para ver se ajuda a RN. \n",
        "datasetMancal = datasetMancal.astype({\"TEMPERATURA\": int})\n",
        "#datasetMancal['TEMPERATURA'] = datasetMancal['TEMPERATURA'].round(decimals=1)\n",
        "\n",
        "#Calculando tamanho dos conjuntos de treino e teste\n",
        "train_size = math.ceil(len(datasetMancal)*0.8)\n",
        "test_size  = len(datasetMancal) - train_size\n",
        "\n",
        "#Separando conjuto de treino e teste apenas com valor da série\n",
        "train_set = datasetMancal.iloc[0:train_size, 3:4].values\n",
        "test_set  = datasetMancal.iloc[train_size:(train_size + test_size), 3:4].values"
      ],
      "execution_count": 38,
      "outputs": []
    },
    {
      "cell_type": "markdown",
      "metadata": {
        "id": "kd39T1zK2ql1"
      },
      "source": [
        "### gráfico da série temporal"
      ]
    },
    {
      "cell_type": "code",
      "metadata": {
        "id": "vMsAFuya2rhr",
        "colab": {
          "base_uri": "https://localhost:8080/",
          "height": 284
        },
        "outputId": "15bac66b-0bdc-44c9-96ea-43b78f649ed7"
      },
      "source": [
        "plt.figure(figsize=(20, 6), dpi=50)\n",
        "\n",
        "plt.plot(datasetMancal.iloc[0:len(datasetMancal), 3:4].values)\n",
        "plt.xlabel(\"Tempo\")\n",
        "plt.ylabel(\"Temperatura\")\n",
        "plt.title(\"Temperatura de Mancal\")\n",
        "plt.show()"
      ],
      "execution_count": 39,
      "outputs": [
        {
          "output_type": "display_data",
          "data": {
            "image/png": "[encoded data removed]",
            "text/plain": [
              "<Figure size 1000x300 with 1 Axes>"
            ]
          },
          "metadata": {
            "tags": [],
            "needs_background": "light"
          }
        }
      ]
    },
    {
      "cell_type": "markdown",
      "metadata": {
        "id": "7p1F7HdB2uJU"
      },
      "source": [
        "### Normalização"
      ]
    },
    {
      "cell_type": "code",
      "metadata": {
        "id": "foeHRZr-2u-L"
      },
      "source": [
        "from sklearn.preprocessing import MinMaxScaler\n",
        "sc = MinMaxScaler(feature_range = (0, 1))\n",
        "training_set_scaled = sc.fit_transform(train_set)"
      ],
      "execution_count": 16,
      "outputs": []
    },
    {
      "cell_type": "markdown",
      "metadata": {
        "id": "uQP8Q7MI21Y9"
      },
      "source": [
        "### Criar a estrutura de dados com janela WINDOW e output OUTPUTSIZE para entrada na RN"
      ]
    },
    {
      "cell_type": "code",
      "metadata": {
        "id": "C6Ge9ql922cb"
      },
      "source": [
        "def prepareSetRN(windowSize, outputSize, flatSet ):\n",
        "    preparedX = []\n",
        "    preparedY = []\n",
        "    setSize = len(flatSet)\n",
        "    for i in range(windowSize, setSize - (outputSize-1)):\n",
        "        preparedX.append(flatSet[i-window:i, 0])\n",
        "        preparedY.append(flatSet[i:i + output_size, 0])\n",
        "\n",
        "    preparedX, preparedY = np.array(preparedX), np.array(preparedY)\n",
        "    return preparedX, preparedY\n",
        "\n",
        "X_train = []\n",
        "y_train = []\n",
        "X_train, y_train = prepareSetRN(window, output_size, training_set_scaled)"
      ],
      "execution_count": 17,
      "outputs": []
    },
    {
      "cell_type": "markdown",
      "metadata": {
        "id": "LPBC2LoG24dU"
      },
      "source": [
        "### Reshaping"
      ]
    },
    {
      "cell_type": "code",
      "metadata": {
        "id": "b9ZfLlGH25fr"
      },
      "source": [
        "X_train = np.reshape(X_train, (X_train.shape[0], X_train.shape[1], 1))"
      ],
      "execution_count": 18,
      "outputs": []
    },
    {
      "cell_type": "markdown",
      "metadata": {
        "id": "fZhjp7Tf282b"
      },
      "source": [
        "## Parte 3 - Construção da RNN"
      ]
    },
    {
      "cell_type": "markdown",
      "metadata": {
        "id": "RDkAxmMl3EXr"
      },
      "source": [
        "### Bibliotecas necessárias"
      ]
    },
    {
      "cell_type": "code",
      "metadata": {
        "id": "Ifhh9yUo3DpT"
      },
      "source": [
        "from keras.models import Sequential\n",
        "from keras.layers import Dense\n",
        "from keras.layers import LSTM\n",
        "from keras.layers import Dropout"
      ],
      "execution_count": 19,
      "outputs": []
    },
    {
      "cell_type": "code",
      "metadata": {
        "id": "zdy5yHhAkkk_"
      },
      "source": [
        "from tensorflow.keras.models import Sequential\n",
        "from tensorflow.keras.layers import Dense\n",
        "from tensorflow.keras.layers import LSTM\n",
        "from tensorflow.keras.layers import Dropout"
      ],
      "execution_count": 20,
      "outputs": []
    },
    {
      "cell_type": "markdown",
      "metadata": {
        "id": "kordpD0_3H7b"
      },
      "source": [
        "### Construção da Rede completa"
      ]
    },
    {
      "cell_type": "code",
      "metadata": {
        "id": "EskB17uo3Iso",
        "colab": {
          "base_uri": "https://localhost:8080/"
        },
        "outputId": "9653a319-c721-4d65-bff6-c444f90d3f16"
      },
      "source": [
        "# Inicializar a RNN\n",
        "regressor = Sequential()\n",
        "\n",
        "# Adicionar a primeira camada LSTM e Dropout \n",
        "regressor.add(LSTM(units = 150, return_sequences = True, input_shape = (X_train.shape[1], 1)))\n",
        "regressor.add(Dropout(0.3))\n",
        " \n",
        "# Adicionar a segunda camada LSTM e Dropout\n",
        "regressor.add(LSTM(units = 80, return_sequences = False))\n",
        "regressor.add(Dropout(0.3))\n",
        " \n",
        "# Adicionar a terceira camada LSTM e Dropout\n",
        "#regressor.add(LSTM(units = 50, return_sequences = False))\n",
        "#regressor.add(Dropout(0.3))\n",
        "\n",
        "# Adicionar a terceira camada LSTM e Dropout\n",
        "#regressor.add(LSTM(units = 50, return_sequences = False))\n",
        "#regressor.add(Dropout(0.25))\n",
        "\n",
        "# camada de saída\n",
        "regressor.add(Dense(units = output_size, activation='linear'))\n",
        "#Testar sigmoid e linear\n",
        "\n",
        "# Compilar a rede\n",
        "regressor.compile(optimizer = 'Adadelta', loss = 'mean_squared_error', metrics=['accuracy'])\n",
        "\n",
        "# Visualizar a rede\n",
        "regressor.summary()"
      ],
      "execution_count": 21,
      "outputs": [
        {
          "output_type": "stream",
          "text": [
            "Model: \"sequential\"\n",
            "_________________________________________________________________\n",
            "Layer (type)                 Output Shape              Param #   \n",
            "=================================================================\n",
            "lstm (LSTM)                  (None, 8, 150)            91200     \n",
            "_________________________________________________________________\n",
            "dropout (Dropout)            (None, 8, 150)            0         \n",
            "_________________________________________________________________\n",
            "lstm_1 (LSTM)                (None, 80)                73920     \n",
            "_________________________________________________________________\n",
            "dropout_1 (Dropout)          (None, 80)                0         \n",
            "_________________________________________________________________\n",
            "dense (Dense)                (None, 1)                 81        \n",
            "=================================================================\n",
            "Total params: 165,201\n",
            "Trainable params: 165,201\n",
            "Non-trainable params: 0\n",
            "_________________________________________________________________\n"
          ],
          "name": "stdout"
        }
      ]
    },
    {
      "cell_type": "markdown",
      "metadata": {
        "id": "5j1w28g83iSR"
      },
      "source": [
        "### Treinamento"
      ]
    },
    {
      "cell_type": "code",
      "metadata": {
        "id": "xWKAuKyp3jXv",
        "colab": {
          "base_uri": "https://localhost:8080/"
        },
        "outputId": "ab5f6864-ae21-4325-ea46-1e1cd0719ace"
      },
      "source": [
        "history = regressor.fit(X_train, y_train, epochs = 800, batch_size = 20)"
      ],
      "execution_count": 22,
      "outputs": [
        {
          "output_type": "stream",
          "text": [
            "Epoch 1/400\n",
            "8/8 [==============================] - 4s 20ms/step - loss: 0.0917 - accuracy: 0.0275\n",
            "Epoch 2/400\n",
            "8/8 [==============================] - 0s 19ms/step - loss: 0.0183 - accuracy: 0.0275\n",
            "Epoch 3/400\n",
            "8/8 [==============================] - 0s 19ms/step - loss: 0.0237 - accuracy: 0.0275\n",
            "Epoch 4/400\n",
            "8/8 [==============================] - 0s 17ms/step - loss: 0.0187 - accuracy: 0.0275\n",
            "Epoch 5/400\n",
            "8/8 [==============================] - 0s 17ms/step - loss: 0.0161 - accuracy: 0.0275\n",
            "Epoch 6/400\n",
            "8/8 [==============================] - 0s 18ms/step - loss: 0.0149 - accuracy: 0.0275\n",
            "Epoch 7/400\n",
            "8/8 [==============================] - 0s 23ms/step - loss: 0.0156 - accuracy: 0.0275\n",
            "Epoch 8/400\n",
            "8/8 [==============================] - 0s 18ms/step - loss: 0.0144 - accuracy: 0.0275\n",
            "Epoch 9/400\n",
            "8/8 [==============================] - 0s 18ms/step - loss: 0.0146 - accuracy: 0.0275\n",
            "Epoch 10/400\n",
            "8/8 [==============================] - 0s 18ms/step - loss: 0.0157 - accuracy: 0.0275\n",
            "Epoch 11/400\n",
            "8/8 [==============================] - 0s 19ms/step - loss: 0.0150 - accuracy: 0.0275\n",
            "Epoch 12/400\n",
            "8/8 [==============================] - 0s 20ms/step - loss: 0.0149 - accuracy: 0.0275\n",
            "Epoch 13/400\n",
            "8/8 [==============================] - 0s 20ms/step - loss: 0.0152 - accuracy: 0.0275\n",
            "Epoch 14/400\n",
            "8/8 [==============================] - 0s 21ms/step - loss: 0.0157 - accuracy: 0.0275\n",
            "Epoch 15/400\n",
            "8/8 [==============================] - 0s 20ms/step - loss: 0.0152 - accuracy: 0.0275\n",
            "Epoch 16/400\n",
            "8/8 [==============================] - 0s 18ms/step - loss: 0.0144 - accuracy: 0.0275\n",
            "Epoch 17/400\n",
            "8/8 [==============================] - 0s 20ms/step - loss: 0.0155 - accuracy: 0.0275\n",
            "Epoch 18/400\n",
            "8/8 [==============================] - 0s 20ms/step - loss: 0.0158 - accuracy: 0.0275\n",
            "Epoch 19/400\n",
            "8/8 [==============================] - 0s 21ms/step - loss: 0.0144 - accuracy: 0.0275\n",
            "Epoch 20/400\n",
            "8/8 [==============================] - 0s 20ms/step - loss: 0.0153 - accuracy: 0.0275\n",
            "Epoch 21/400\n",
            "8/8 [==============================] - 0s 17ms/step - loss: 0.0142 - accuracy: 0.0275\n",
            "Epoch 22/400\n",
            "8/8 [==============================] - 0s 19ms/step - loss: 0.0143 - accuracy: 0.0275\n",
            "Epoch 23/400\n",
            "8/8 [==============================] - 0s 17ms/step - loss: 0.0150 - accuracy: 0.0275\n",
            "Epoch 24/400\n",
            "8/8 [==============================] - 0s 20ms/step - loss: 0.0149 - accuracy: 0.0275\n",
            "Epoch 25/400\n",
            "8/8 [==============================] - 0s 19ms/step - loss: 0.0148 - accuracy: 0.0275\n",
            "Epoch 26/400\n",
            "8/8 [==============================] - 0s 18ms/step - loss: 0.0147 - accuracy: 0.0275\n",
            "Epoch 27/400\n",
            "8/8 [==============================] - 0s 17ms/step - loss: 0.0147 - accuracy: 0.0275\n",
            "Epoch 28/400\n",
            "8/8 [==============================] - 0s 16ms/step - loss: 0.0156 - accuracy: 0.0275\n",
            "Epoch 29/400\n",
            "8/8 [==============================] - 0s 17ms/step - loss: 0.0150 - accuracy: 0.0275\n",
            "Epoch 30/400\n",
            "8/8 [==============================] - 0s 19ms/step - loss: 0.0142 - accuracy: 0.0275\n",
            "Epoch 31/400\n",
            "8/8 [==============================] - 0s 19ms/step - loss: 0.0151 - accuracy: 0.0275\n",
            "Epoch 32/400\n",
            "8/8 [==============================] - 0s 18ms/step - loss: 0.0149 - accuracy: 0.0275\n",
            "Epoch 33/400\n",
            "8/8 [==============================] - 0s 18ms/step - loss: 0.0149 - accuracy: 0.0275\n",
            "Epoch 34/400\n",
            "8/8 [==============================] - 0s 17ms/step - loss: 0.0149 - accuracy: 0.0275\n",
            "Epoch 35/400\n",
            "8/8 [==============================] - 0s 19ms/step - loss: 0.0150 - accuracy: 0.0275\n",
            "Epoch 36/400\n",
            "8/8 [==============================] - 0s 20ms/step - loss: 0.0147 - accuracy: 0.0275\n",
            "Epoch 37/400\n",
            "8/8 [==============================] - 0s 17ms/step - loss: 0.0156 - accuracy: 0.0275\n",
            "Epoch 38/400\n",
            "8/8 [==============================] - 0s 19ms/step - loss: 0.0150 - accuracy: 0.0275\n",
            "Epoch 39/400\n",
            "8/8 [==============================] - 0s 19ms/step - loss: 0.0152 - accuracy: 0.0275\n",
            "Epoch 40/400\n",
            "8/8 [==============================] - 0s 18ms/step - loss: 0.0152 - accuracy: 0.0275\n",
            "Epoch 41/400\n",
            "8/8 [==============================] - 0s 20ms/step - loss: 0.0147 - accuracy: 0.0275\n",
            "Epoch 42/400\n",
            "8/8 [==============================] - 0s 19ms/step - loss: 0.0150 - accuracy: 0.0275\n",
            "Epoch 43/400\n",
            "8/8 [==============================] - 0s 19ms/step - loss: 0.0149 - accuracy: 0.0275\n",
            "Epoch 44/400\n",
            "8/8 [==============================] - 0s 17ms/step - loss: 0.0154 - accuracy: 0.0275\n",
            "Epoch 45/400\n",
            "8/8 [==============================] - 0s 18ms/step - loss: 0.0146 - accuracy: 0.0275\n",
            "Epoch 46/400\n",
            "8/8 [==============================] - 0s 18ms/step - loss: 0.0149 - accuracy: 0.0275\n",
            "Epoch 47/400\n",
            "8/8 [==============================] - 0s 19ms/step - loss: 0.0153 - accuracy: 0.0275\n",
            "Epoch 48/400\n",
            "8/8 [==============================] - 0s 18ms/step - loss: 0.0151 - accuracy: 0.0275\n",
            "Epoch 49/400\n",
            "8/8 [==============================] - 0s 18ms/step - loss: 0.0152 - accuracy: 0.0275\n",
            "Epoch 50/400\n",
            "8/8 [==============================] - 0s 19ms/step - loss: 0.0144 - accuracy: 0.0275\n",
            "Epoch 51/400\n",
            "8/8 [==============================] - 0s 22ms/step - loss: 0.0150 - accuracy: 0.0275\n",
            "Epoch 52/400\n",
            "8/8 [==============================] - 0s 19ms/step - loss: 0.0149 - accuracy: 0.0275\n",
            "Epoch 53/400\n",
            "8/8 [==============================] - 0s 20ms/step - loss: 0.0142 - accuracy: 0.0275\n",
            "Epoch 54/400\n",
            "8/8 [==============================] - 0s 18ms/step - loss: 0.0153 - accuracy: 0.0275\n",
            "Epoch 55/400\n",
            "8/8 [==============================] - 0s 18ms/step - loss: 0.0151 - accuracy: 0.0275\n",
            "Epoch 56/400\n",
            "8/8 [==============================] - 0s 16ms/step - loss: 0.0145 - accuracy: 0.0275\n",
            "Epoch 57/400\n",
            "8/8 [==============================] - 0s 16ms/step - loss: 0.0146 - accuracy: 0.0275\n",
            "Epoch 58/400\n",
            "8/8 [==============================] - 0s 18ms/step - loss: 0.0149 - accuracy: 0.0275\n",
            "Epoch 59/400\n",
            "8/8 [==============================] - 0s 18ms/step - loss: 0.0150 - accuracy: 0.0275\n",
            "Epoch 60/400\n",
            "8/8 [==============================] - 0s 19ms/step - loss: 0.0143 - accuracy: 0.0275\n",
            "Epoch 61/400\n",
            "8/8 [==============================] - 0s 18ms/step - loss: 0.0148 - accuracy: 0.0275\n",
            "Epoch 62/400\n",
            "8/8 [==============================] - 0s 17ms/step - loss: 0.0145 - accuracy: 0.0275\n",
            "Epoch 63/400\n",
            "8/8 [==============================] - 0s 19ms/step - loss: 0.0150 - accuracy: 0.0275\n",
            "Epoch 64/400\n",
            "8/8 [==============================] - 0s 17ms/step - loss: 0.0151 - accuracy: 0.0275\n",
            "Epoch 65/400\n",
            "8/8 [==============================] - 0s 18ms/step - loss: 0.0146 - accuracy: 0.0275\n",
            "Epoch 66/400\n",
            "8/8 [==============================] - 0s 19ms/step - loss: 0.0149 - accuracy: 0.0275\n",
            "Epoch 67/400\n",
            "8/8 [==============================] - 0s 19ms/step - loss: 0.0151 - accuracy: 0.0275\n",
            "Epoch 68/400\n",
            "8/8 [==============================] - 0s 22ms/step - loss: 0.0142 - accuracy: 0.0275\n",
            "Epoch 69/400\n",
            "8/8 [==============================] - 0s 18ms/step - loss: 0.0146 - accuracy: 0.0275\n",
            "Epoch 70/400\n",
            "8/8 [==============================] - 0s 18ms/step - loss: 0.0152 - accuracy: 0.0275\n",
            "Epoch 71/400\n",
            "8/8 [==============================] - 0s 19ms/step - loss: 0.0140 - accuracy: 0.0275\n",
            "Epoch 72/400\n",
            "8/8 [==============================] - 0s 19ms/step - loss: 0.0147 - accuracy: 0.0275\n",
            "Epoch 73/400\n",
            "8/8 [==============================] - 0s 18ms/step - loss: 0.0154 - accuracy: 0.0275\n",
            "Epoch 74/400\n",
            "8/8 [==============================] - 0s 19ms/step - loss: 0.0154 - accuracy: 0.0275\n",
            "Epoch 75/400\n",
            "8/8 [==============================] - 0s 19ms/step - loss: 0.0151 - accuracy: 0.0275\n",
            "Epoch 76/400\n",
            "8/8 [==============================] - 0s 18ms/step - loss: 0.0141 - accuracy: 0.0275\n",
            "Epoch 77/400\n",
            "8/8 [==============================] - 0s 20ms/step - loss: 0.0142 - accuracy: 0.0275\n",
            "Epoch 78/400\n",
            "8/8 [==============================] - 0s 19ms/step - loss: 0.0139 - accuracy: 0.0275\n",
            "Epoch 79/400\n",
            "8/8 [==============================] - 0s 17ms/step - loss: 0.0156 - accuracy: 0.0275\n",
            "Epoch 80/400\n",
            "8/8 [==============================] - 0s 19ms/step - loss: 0.0142 - accuracy: 0.0275\n",
            "Epoch 81/400\n",
            "8/8 [==============================] - 0s 19ms/step - loss: 0.0145 - accuracy: 0.0275\n",
            "Epoch 82/400\n",
            "8/8 [==============================] - 0s 19ms/step - loss: 0.0143 - accuracy: 0.0275\n",
            "Epoch 83/400\n",
            "8/8 [==============================] - 0s 18ms/step - loss: 0.0147 - accuracy: 0.0275\n",
            "Epoch 84/400\n",
            "8/8 [==============================] - 0s 18ms/step - loss: 0.0160 - accuracy: 0.0275\n",
            "Epoch 85/400\n",
            "8/8 [==============================] - 0s 18ms/step - loss: 0.0155 - accuracy: 0.0275\n",
            "Epoch 86/400\n",
            "8/8 [==============================] - 0s 21ms/step - loss: 0.0150 - accuracy: 0.0275\n",
            "Epoch 87/400\n",
            "8/8 [==============================] - 0s 20ms/step - loss: 0.0141 - accuracy: 0.0275\n",
            "Epoch 88/400\n",
            "8/8 [==============================] - 0s 20ms/step - loss: 0.0142 - accuracy: 0.0275\n",
            "Epoch 89/400\n",
            "8/8 [==============================] - 0s 19ms/step - loss: 0.0144 - accuracy: 0.0275\n",
            "Epoch 90/400\n",
            "8/8 [==============================] - 0s 18ms/step - loss: 0.0158 - accuracy: 0.0275\n",
            "Epoch 91/400\n",
            "8/8 [==============================] - 0s 19ms/step - loss: 0.0153 - accuracy: 0.0275\n",
            "Epoch 92/400\n",
            "8/8 [==============================] - 0s 19ms/step - loss: 0.0147 - accuracy: 0.0275\n",
            "Epoch 93/400\n",
            "8/8 [==============================] - 0s 19ms/step - loss: 0.0145 - accuracy: 0.0275\n",
            "Epoch 94/400\n",
            "8/8 [==============================] - 0s 18ms/step - loss: 0.0146 - accuracy: 0.0275\n",
            "Epoch 95/400\n",
            "8/8 [==============================] - 0s 18ms/step - loss: 0.0142 - accuracy: 0.0275\n",
            "Epoch 96/400\n",
            "8/8 [==============================] - 0s 20ms/step - loss: 0.0145 - accuracy: 0.0275\n",
            "Epoch 97/400\n",
            "8/8 [==============================] - 0s 20ms/step - loss: 0.0142 - accuracy: 0.0275\n",
            "Epoch 98/400\n",
            "8/8 [==============================] - 0s 21ms/step - loss: 0.0150 - accuracy: 0.0275\n",
            "Epoch 99/400\n",
            "8/8 [==============================] - 0s 22ms/step - loss: 0.0153 - accuracy: 0.0275\n",
            "Epoch 100/400\n",
            "8/8 [==============================] - 0s 18ms/step - loss: 0.0147 - accuracy: 0.0275\n",
            "Epoch 101/400\n",
            "8/8 [==============================] - 0s 19ms/step - loss: 0.0143 - accuracy: 0.0275\n",
            "Epoch 102/400\n",
            "8/8 [==============================] - 0s 17ms/step - loss: 0.0145 - accuracy: 0.0275\n",
            "Epoch 103/400\n",
            "8/8 [==============================] - 0s 20ms/step - loss: 0.0152 - accuracy: 0.0275\n",
            "Epoch 104/400\n",
            "8/8 [==============================] - 0s 18ms/step - loss: 0.0150 - accuracy: 0.0275\n",
            "Epoch 105/400\n",
            "8/8 [==============================] - 0s 19ms/step - loss: 0.0150 - accuracy: 0.0275\n",
            "Epoch 106/400\n",
            "8/8 [==============================] - 0s 17ms/step - loss: 0.0148 - accuracy: 0.0275\n",
            "Epoch 107/400\n",
            "8/8 [==============================] - 0s 18ms/step - loss: 0.0147 - accuracy: 0.0275\n",
            "Epoch 108/400\n",
            "8/8 [==============================] - 0s 17ms/step - loss: 0.0146 - accuracy: 0.0275\n",
            "Epoch 109/400\n",
            "8/8 [==============================] - 0s 19ms/step - loss: 0.0148 - accuracy: 0.0275\n",
            "Epoch 110/400\n",
            "8/8 [==============================] - 0s 19ms/step - loss: 0.0141 - accuracy: 0.0275\n",
            "Epoch 111/400\n",
            "8/8 [==============================] - 0s 19ms/step - loss: 0.0144 - accuracy: 0.0275\n",
            "Epoch 112/400\n",
            "8/8 [==============================] - 0s 17ms/step - loss: 0.0140 - accuracy: 0.0275\n",
            "Epoch 113/400\n",
            "8/8 [==============================] - 0s 19ms/step - loss: 0.0144 - accuracy: 0.0275\n",
            "Epoch 114/400\n",
            "8/8 [==============================] - 0s 20ms/step - loss: 0.0150 - accuracy: 0.0275\n",
            "Epoch 115/400\n",
            "8/8 [==============================] - 0s 19ms/step - loss: 0.0145 - accuracy: 0.0275\n",
            "Epoch 116/400\n",
            "8/8 [==============================] - 0s 19ms/step - loss: 0.0152 - accuracy: 0.0275\n",
            "Epoch 117/400\n",
            "8/8 [==============================] - 0s 18ms/step - loss: 0.0156 - accuracy: 0.0275\n",
            "Epoch 118/400\n",
            "8/8 [==============================] - 0s 19ms/step - loss: 0.0144 - accuracy: 0.0275\n",
            "Epoch 119/400\n",
            "8/8 [==============================] - 0s 19ms/step - loss: 0.0144 - accuracy: 0.0275\n",
            "Epoch 120/400\n",
            "8/8 [==============================] - 0s 19ms/step - loss: 0.0151 - accuracy: 0.0275\n",
            "Epoch 121/400\n",
            "8/8 [==============================] - 0s 20ms/step - loss: 0.0139 - accuracy: 0.0275\n",
            "Epoch 122/400\n",
            "8/8 [==============================] - 0s 20ms/step - loss: 0.0152 - accuracy: 0.0275\n",
            "Epoch 123/400\n",
            "8/8 [==============================] - 0s 19ms/step - loss: 0.0142 - accuracy: 0.0275\n",
            "Epoch 124/400\n",
            "8/8 [==============================] - 0s 18ms/step - loss: 0.0138 - accuracy: 0.0275\n",
            "Epoch 125/400\n",
            "8/8 [==============================] - 0s 19ms/step - loss: 0.0155 - accuracy: 0.0275\n",
            "Epoch 126/400\n",
            "8/8 [==============================] - 0s 18ms/step - loss: 0.0143 - accuracy: 0.0275\n",
            "Epoch 127/400\n",
            "8/8 [==============================] - 0s 18ms/step - loss: 0.0143 - accuracy: 0.0275\n",
            "Epoch 128/400\n",
            "8/8 [==============================] - 0s 19ms/step - loss: 0.0147 - accuracy: 0.0275\n",
            "Epoch 129/400\n",
            "8/8 [==============================] - 0s 18ms/step - loss: 0.0148 - accuracy: 0.0275\n",
            "Epoch 130/400\n",
            "8/8 [==============================] - 0s 19ms/step - loss: 0.0142 - accuracy: 0.0275\n",
            "Epoch 131/400\n",
            "8/8 [==============================] - 0s 18ms/step - loss: 0.0149 - accuracy: 0.0275\n",
            "Epoch 132/400\n",
            "8/8 [==============================] - 0s 18ms/step - loss: 0.0145 - accuracy: 0.0275\n",
            "Epoch 133/400\n",
            "8/8 [==============================] - 0s 20ms/step - loss: 0.0142 - accuracy: 0.0275\n",
            "Epoch 134/400\n",
            "8/8 [==============================] - 0s 19ms/step - loss: 0.0156 - accuracy: 0.0275\n",
            "Epoch 135/400\n",
            "8/8 [==============================] - 0s 17ms/step - loss: 0.0148 - accuracy: 0.0275\n",
            "Epoch 136/400\n",
            "8/8 [==============================] - 0s 21ms/step - loss: 0.0145 - accuracy: 0.0275\n",
            "Epoch 137/400\n",
            "8/8 [==============================] - 0s 19ms/step - loss: 0.0153 - accuracy: 0.0275\n",
            "Epoch 138/400\n",
            "8/8 [==============================] - 0s 18ms/step - loss: 0.0153 - accuracy: 0.0275\n",
            "Epoch 139/400\n",
            "8/8 [==============================] - 0s 20ms/step - loss: 0.0141 - accuracy: 0.0275\n",
            "Epoch 140/400\n",
            "8/8 [==============================] - 0s 20ms/step - loss: 0.0159 - accuracy: 0.0275\n",
            "Epoch 141/400\n",
            "8/8 [==============================] - 0s 18ms/step - loss: 0.0133 - accuracy: 0.0275\n",
            "Epoch 142/400\n",
            "8/8 [==============================] - 0s 18ms/step - loss: 0.0147 - accuracy: 0.0275\n",
            "Epoch 143/400\n",
            "8/8 [==============================] - 0s 18ms/step - loss: 0.0137 - accuracy: 0.0275\n",
            "Epoch 144/400\n",
            "8/8 [==============================] - 0s 18ms/step - loss: 0.0152 - accuracy: 0.0275\n",
            "Epoch 145/400\n",
            "8/8 [==============================] - 0s 18ms/step - loss: 0.0148 - accuracy: 0.0275\n",
            "Epoch 146/400\n",
            "8/8 [==============================] - 0s 18ms/step - loss: 0.0143 - accuracy: 0.0275\n",
            "Epoch 147/400\n",
            "8/8 [==============================] - 0s 19ms/step - loss: 0.0146 - accuracy: 0.0275\n",
            "Epoch 148/400\n",
            "8/8 [==============================] - 0s 19ms/step - loss: 0.0146 - accuracy: 0.0275\n",
            "Epoch 149/400\n",
            "8/8 [==============================] - 0s 20ms/step - loss: 0.0140 - accuracy: 0.0275\n",
            "Epoch 150/400\n",
            "8/8 [==============================] - 0s 19ms/step - loss: 0.0152 - accuracy: 0.0275\n",
            "Epoch 151/400\n",
            "8/8 [==============================] - 0s 20ms/step - loss: 0.0144 - accuracy: 0.0275\n",
            "Epoch 152/400\n",
            "8/8 [==============================] - 0s 18ms/step - loss: 0.0141 - accuracy: 0.0275\n",
            "Epoch 153/400\n",
            "8/8 [==============================] - 0s 18ms/step - loss: 0.0145 - accuracy: 0.0275\n",
            "Epoch 154/400\n",
            "8/8 [==============================] - 0s 21ms/step - loss: 0.0140 - accuracy: 0.0275\n",
            "Epoch 155/400\n",
            "8/8 [==============================] - 0s 20ms/step - loss: 0.0149 - accuracy: 0.0275\n",
            "Epoch 156/400\n",
            "8/8 [==============================] - 0s 19ms/step - loss: 0.0156 - accuracy: 0.0275\n",
            "Epoch 157/400\n",
            "8/8 [==============================] - 0s 20ms/step - loss: 0.0144 - accuracy: 0.0275\n",
            "Epoch 158/400\n",
            "8/8 [==============================] - 0s 18ms/step - loss: 0.0150 - accuracy: 0.0275\n",
            "Epoch 159/400\n",
            "8/8 [==============================] - 0s 18ms/step - loss: 0.0139 - accuracy: 0.0275\n",
            "Epoch 160/400\n",
            "8/8 [==============================] - 0s 18ms/step - loss: 0.0142 - accuracy: 0.0275\n",
            "Epoch 161/400\n",
            "8/8 [==============================] - 0s 20ms/step - loss: 0.0145 - accuracy: 0.0275\n",
            "Epoch 162/400\n",
            "8/8 [==============================] - 0s 21ms/step - loss: 0.0145 - accuracy: 0.0275\n",
            "Epoch 163/400\n",
            "8/8 [==============================] - 0s 19ms/step - loss: 0.0147 - accuracy: 0.0275\n",
            "Epoch 164/400\n",
            "8/8 [==============================] - 0s 19ms/step - loss: 0.0148 - accuracy: 0.0275\n",
            "Epoch 165/400\n",
            "8/8 [==============================] - 0s 20ms/step - loss: 0.0146 - accuracy: 0.0275\n",
            "Epoch 166/400\n",
            "8/8 [==============================] - 0s 18ms/step - loss: 0.0146 - accuracy: 0.0275\n",
            "Epoch 167/400\n",
            "8/8 [==============================] - 0s 20ms/step - loss: 0.0146 - accuracy: 0.0275\n",
            "Epoch 168/400\n",
            "8/8 [==============================] - 0s 22ms/step - loss: 0.0146 - accuracy: 0.0275\n",
            "Epoch 169/400\n",
            "8/8 [==============================] - 0s 20ms/step - loss: 0.0147 - accuracy: 0.0275\n",
            "Epoch 170/400\n",
            "8/8 [==============================] - 0s 22ms/step - loss: 0.0143 - accuracy: 0.0275\n",
            "Epoch 171/400\n",
            "8/8 [==============================] - 0s 21ms/step - loss: 0.0154 - accuracy: 0.0275\n",
            "Epoch 172/400\n",
            "8/8 [==============================] - 0s 17ms/step - loss: 0.0148 - accuracy: 0.0275\n",
            "Epoch 173/400\n",
            "8/8 [==============================] - 0s 16ms/step - loss: 0.0148 - accuracy: 0.0275\n",
            "Epoch 174/400\n",
            "8/8 [==============================] - 0s 21ms/step - loss: 0.0149 - accuracy: 0.0275\n",
            "Epoch 175/400\n",
            "8/8 [==============================] - 0s 19ms/step - loss: 0.0144 - accuracy: 0.0275\n",
            "Epoch 176/400\n",
            "8/8 [==============================] - 0s 18ms/step - loss: 0.0145 - accuracy: 0.0275\n",
            "Epoch 177/400\n",
            "8/8 [==============================] - 0s 18ms/step - loss: 0.0134 - accuracy: 0.0275\n",
            "Epoch 178/400\n",
            "8/8 [==============================] - 0s 18ms/step - loss: 0.0142 - accuracy: 0.0275\n",
            "Epoch 179/400\n",
            "8/8 [==============================] - 0s 18ms/step - loss: 0.0136 - accuracy: 0.0275\n",
            "Epoch 180/400\n",
            "8/8 [==============================] - 0s 20ms/step - loss: 0.0148 - accuracy: 0.0275\n",
            "Epoch 181/400\n",
            "8/8 [==============================] - 0s 19ms/step - loss: 0.0142 - accuracy: 0.0275\n",
            "Epoch 182/400\n",
            "8/8 [==============================] - 0s 19ms/step - loss: 0.0144 - accuracy: 0.0275\n",
            "Epoch 183/400\n",
            "8/8 [==============================] - 0s 20ms/step - loss: 0.0142 - accuracy: 0.0275\n",
            "Epoch 184/400\n",
            "8/8 [==============================] - 0s 19ms/step - loss: 0.0146 - accuracy: 0.0275\n",
            "Epoch 185/400\n",
            "8/8 [==============================] - 0s 19ms/step - loss: 0.0150 - accuracy: 0.0275\n",
            "Epoch 186/400\n",
            "8/8 [==============================] - 0s 19ms/step - loss: 0.0146 - accuracy: 0.0275\n",
            "Epoch 187/400\n",
            "8/8 [==============================] - 0s 20ms/step - loss: 0.0146 - accuracy: 0.0275\n",
            "Epoch 188/400\n",
            "8/8 [==============================] - 0s 19ms/step - loss: 0.0138 - accuracy: 0.0275\n",
            "Epoch 189/400\n",
            "8/8 [==============================] - 0s 20ms/step - loss: 0.0139 - accuracy: 0.0275\n",
            "Epoch 190/400\n",
            "8/8 [==============================] - 0s 19ms/step - loss: 0.0146 - accuracy: 0.0275\n",
            "Epoch 191/400\n",
            "8/8 [==============================] - 0s 20ms/step - loss: 0.0136 - accuracy: 0.0275\n",
            "Epoch 192/400\n",
            "8/8 [==============================] - 0s 19ms/step - loss: 0.0147 - accuracy: 0.0275\n",
            "Epoch 193/400\n",
            "8/8 [==============================] - 0s 19ms/step - loss: 0.0145 - accuracy: 0.0275\n",
            "Epoch 194/400\n",
            "8/8 [==============================] - 0s 21ms/step - loss: 0.0138 - accuracy: 0.0275\n",
            "Epoch 195/400\n",
            "8/8 [==============================] - 0s 19ms/step - loss: 0.0144 - accuracy: 0.0275\n",
            "Epoch 196/400\n",
            "8/8 [==============================] - 0s 20ms/step - loss: 0.0141 - accuracy: 0.0275\n",
            "Epoch 197/400\n",
            "8/8 [==============================] - 0s 23ms/step - loss: 0.0133 - accuracy: 0.0275\n",
            "Epoch 198/400\n",
            "8/8 [==============================] - 0s 19ms/step - loss: 0.0141 - accuracy: 0.0275\n",
            "Epoch 199/400\n",
            "8/8 [==============================] - 0s 21ms/step - loss: 0.0143 - accuracy: 0.0275\n",
            "Epoch 200/400\n",
            "8/8 [==============================] - 0s 17ms/step - loss: 0.0137 - accuracy: 0.0275\n",
            "Epoch 201/400\n",
            "8/8 [==============================] - 0s 20ms/step - loss: 0.0135 - accuracy: 0.0275\n",
            "Epoch 202/400\n",
            "8/8 [==============================] - 0s 23ms/step - loss: 0.0151 - accuracy: 0.0275\n",
            "Epoch 203/400\n",
            "8/8 [==============================] - 0s 19ms/step - loss: 0.0149 - accuracy: 0.0275\n",
            "Epoch 204/400\n",
            "8/8 [==============================] - 0s 19ms/step - loss: 0.0149 - accuracy: 0.0275\n",
            "Epoch 205/400\n",
            "8/8 [==============================] - 0s 21ms/step - loss: 0.0146 - accuracy: 0.0275\n",
            "Epoch 206/400\n",
            "8/8 [==============================] - 0s 19ms/step - loss: 0.0137 - accuracy: 0.0275\n",
            "Epoch 207/400\n",
            "8/8 [==============================] - 0s 21ms/step - loss: 0.0148 - accuracy: 0.0275\n",
            "Epoch 208/400\n",
            "8/8 [==============================] - 0s 22ms/step - loss: 0.0153 - accuracy: 0.0275\n",
            "Epoch 209/400\n",
            "8/8 [==============================] - 0s 19ms/step - loss: 0.0140 - accuracy: 0.0275\n",
            "Epoch 210/400\n",
            "8/8 [==============================] - 0s 19ms/step - loss: 0.0146 - accuracy: 0.0275\n",
            "Epoch 211/400\n",
            "8/8 [==============================] - 0s 19ms/step - loss: 0.0146 - accuracy: 0.0275\n",
            "Epoch 212/400\n",
            "8/8 [==============================] - 0s 19ms/step - loss: 0.0149 - accuracy: 0.0275\n",
            "Epoch 213/400\n",
            "8/8 [==============================] - 0s 20ms/step - loss: 0.0151 - accuracy: 0.0275\n",
            "Epoch 214/400\n",
            "8/8 [==============================] - 0s 19ms/step - loss: 0.0146 - accuracy: 0.0275\n",
            "Epoch 215/400\n",
            "8/8 [==============================] - 0s 19ms/step - loss: 0.0141 - accuracy: 0.0275\n",
            "Epoch 216/400\n",
            "8/8 [==============================] - 0s 19ms/step - loss: 0.0149 - accuracy: 0.0275\n",
            "Epoch 217/400\n",
            "8/8 [==============================] - 0s 21ms/step - loss: 0.0139 - accuracy: 0.0275\n",
            "Epoch 218/400\n",
            "8/8 [==============================] - 0s 20ms/step - loss: 0.0139 - accuracy: 0.0275\n",
            "Epoch 219/400\n",
            "8/8 [==============================] - 0s 20ms/step - loss: 0.0140 - accuracy: 0.0275\n",
            "Epoch 220/400\n",
            "8/8 [==============================] - 0s 20ms/step - loss: 0.0136 - accuracy: 0.0275\n",
            "Epoch 221/400\n",
            "8/8 [==============================] - 0s 18ms/step - loss: 0.0139 - accuracy: 0.0275\n",
            "Epoch 222/400\n",
            "8/8 [==============================] - 0s 19ms/step - loss: 0.0141 - accuracy: 0.0275\n",
            "Epoch 223/400\n",
            "8/8 [==============================] - 0s 19ms/step - loss: 0.0127 - accuracy: 0.0275\n",
            "Epoch 224/400\n",
            "8/8 [==============================] - 0s 18ms/step - loss: 0.0144 - accuracy: 0.0275\n",
            "Epoch 225/400\n",
            "8/8 [==============================] - 0s 19ms/step - loss: 0.0143 - accuracy: 0.0275\n",
            "Epoch 226/400\n",
            "8/8 [==============================] - 0s 18ms/step - loss: 0.0138 - accuracy: 0.0275\n",
            "Epoch 227/400\n",
            "8/8 [==============================] - 0s 20ms/step - loss: 0.0144 - accuracy: 0.0275\n",
            "Epoch 228/400\n",
            "8/8 [==============================] - 0s 18ms/step - loss: 0.0139 - accuracy: 0.0275\n",
            "Epoch 229/400\n",
            "8/8 [==============================] - 0s 20ms/step - loss: 0.0138 - accuracy: 0.0275\n",
            "Epoch 230/400\n",
            "8/8 [==============================] - 0s 22ms/step - loss: 0.0139 - accuracy: 0.0275\n",
            "Epoch 231/400\n",
            "8/8 [==============================] - 0s 19ms/step - loss: 0.0140 - accuracy: 0.0275\n",
            "Epoch 232/400\n",
            "8/8 [==============================] - 0s 22ms/step - loss: 0.0148 - accuracy: 0.0275\n",
            "Epoch 233/400\n",
            "8/8 [==============================] - 0s 21ms/step - loss: 0.0136 - accuracy: 0.0275\n",
            "Epoch 234/400\n",
            "8/8 [==============================] - 0s 19ms/step - loss: 0.0138 - accuracy: 0.0275\n",
            "Epoch 235/400\n",
            "8/8 [==============================] - 0s 18ms/step - loss: 0.0132 - accuracy: 0.0275\n",
            "Epoch 236/400\n",
            "8/8 [==============================] - 0s 20ms/step - loss: 0.0141 - accuracy: 0.0275\n",
            "Epoch 237/400\n",
            "8/8 [==============================] - 0s 19ms/step - loss: 0.0141 - accuracy: 0.0275\n",
            "Epoch 238/400\n",
            "8/8 [==============================] - 0s 17ms/step - loss: 0.0137 - accuracy: 0.0275\n",
            "Epoch 239/400\n",
            "8/8 [==============================] - 0s 20ms/step - loss: 0.0143 - accuracy: 0.0275\n",
            "Epoch 240/400\n",
            "8/8 [==============================] - 0s 19ms/step - loss: 0.0137 - accuracy: 0.0275\n",
            "Epoch 241/400\n",
            "8/8 [==============================] - 0s 20ms/step - loss: 0.0129 - accuracy: 0.0275\n",
            "Epoch 242/400\n",
            "8/8 [==============================] - 0s 22ms/step - loss: 0.0147 - accuracy: 0.0275\n",
            "Epoch 243/400\n",
            "8/8 [==============================] - 0s 19ms/step - loss: 0.0137 - accuracy: 0.0275\n",
            "Epoch 244/400\n",
            "8/8 [==============================] - 0s 20ms/step - loss: 0.0139 - accuracy: 0.0275\n",
            "Epoch 245/400\n",
            "8/8 [==============================] - 0s 19ms/step - loss: 0.0142 - accuracy: 0.0275\n",
            "Epoch 246/400\n",
            "8/8 [==============================] - 0s 18ms/step - loss: 0.0131 - accuracy: 0.0275\n",
            "Epoch 247/400\n",
            "8/8 [==============================] - 0s 17ms/step - loss: 0.0148 - accuracy: 0.0275\n",
            "Epoch 248/400\n",
            "8/8 [==============================] - 0s 20ms/step - loss: 0.0137 - accuracy: 0.0275\n",
            "Epoch 249/400\n",
            "8/8 [==============================] - 0s 19ms/step - loss: 0.0138 - accuracy: 0.0275\n",
            "Epoch 250/400\n",
            "8/8 [==============================] - 0s 21ms/step - loss: 0.0135 - accuracy: 0.0275\n",
            "Epoch 251/400\n",
            "8/8 [==============================] - 0s 21ms/step - loss: 0.0124 - accuracy: 0.0275\n",
            "Epoch 252/400\n",
            "8/8 [==============================] - 0s 20ms/step - loss: 0.0133 - accuracy: 0.0275\n",
            "Epoch 253/400\n",
            "8/8 [==============================] - 0s 20ms/step - loss: 0.0141 - accuracy: 0.0275\n",
            "Epoch 254/400\n",
            "8/8 [==============================] - 0s 19ms/step - loss: 0.0136 - accuracy: 0.0275\n",
            "Epoch 255/400\n",
            "8/8 [==============================] - 0s 19ms/step - loss: 0.0138 - accuracy: 0.0275\n",
            "Epoch 256/400\n",
            "8/8 [==============================] - 0s 20ms/step - loss: 0.0135 - accuracy: 0.0275\n",
            "Epoch 257/400\n",
            "8/8 [==============================] - 0s 19ms/step - loss: 0.0134 - accuracy: 0.0275\n",
            "Epoch 258/400\n",
            "8/8 [==============================] - 0s 20ms/step - loss: 0.0139 - accuracy: 0.0275\n",
            "Epoch 259/400\n",
            "8/8 [==============================] - 0s 22ms/step - loss: 0.0139 - accuracy: 0.0275\n",
            "Epoch 260/400\n",
            "8/8 [==============================] - 0s 21ms/step - loss: 0.0132 - accuracy: 0.0275\n",
            "Epoch 261/400\n",
            "8/8 [==============================] - 0s 23ms/step - loss: 0.0137 - accuracy: 0.0275\n",
            "Epoch 262/400\n",
            "8/8 [==============================] - 0s 20ms/step - loss: 0.0133 - accuracy: 0.0275\n",
            "Epoch 263/400\n",
            "8/8 [==============================] - 0s 19ms/step - loss: 0.0125 - accuracy: 0.0275\n",
            "Epoch 264/400\n",
            "8/8 [==============================] - 0s 19ms/step - loss: 0.0139 - accuracy: 0.0275\n",
            "Epoch 265/400\n",
            "8/8 [==============================] - 0s 21ms/step - loss: 0.0135 - accuracy: 0.0275\n",
            "Epoch 266/400\n",
            "8/8 [==============================] - 0s 23ms/step - loss: 0.0136 - accuracy: 0.0275\n",
            "Epoch 267/400\n",
            "8/8 [==============================] - 0s 22ms/step - loss: 0.0134 - accuracy: 0.0275\n",
            "Epoch 268/400\n",
            "8/8 [==============================] - 0s 21ms/step - loss: 0.0128 - accuracy: 0.0275\n",
            "Epoch 269/400\n",
            "8/8 [==============================] - 0s 18ms/step - loss: 0.0133 - accuracy: 0.0275\n",
            "Epoch 270/400\n",
            "8/8 [==============================] - 0s 19ms/step - loss: 0.0137 - accuracy: 0.0275\n",
            "Epoch 271/400\n",
            "8/8 [==============================] - 0s 19ms/step - loss: 0.0117 - accuracy: 0.0275\n",
            "Epoch 272/400\n",
            "8/8 [==============================] - 0s 20ms/step - loss: 0.0141 - accuracy: 0.0275\n",
            "Epoch 273/400\n",
            "8/8 [==============================] - 0s 21ms/step - loss: 0.0122 - accuracy: 0.0275\n",
            "Epoch 274/400\n",
            "8/8 [==============================] - 0s 19ms/step - loss: 0.0130 - accuracy: 0.0275\n",
            "Epoch 275/400\n",
            "8/8 [==============================] - 0s 21ms/step - loss: 0.0140 - accuracy: 0.0275\n",
            "Epoch 276/400\n",
            "8/8 [==============================] - 0s 21ms/step - loss: 0.0127 - accuracy: 0.0275\n",
            "Epoch 277/400\n",
            "8/8 [==============================] - 0s 19ms/step - loss: 0.0127 - accuracy: 0.0275\n",
            "Epoch 278/400\n",
            "8/8 [==============================] - 0s 19ms/step - loss: 0.0122 - accuracy: 0.0275\n",
            "Epoch 279/400\n",
            "8/8 [==============================] - 0s 18ms/step - loss: 0.0127 - accuracy: 0.0275\n",
            "Epoch 280/400\n",
            "8/8 [==============================] - 0s 19ms/step - loss: 0.0135 - accuracy: 0.0275\n",
            "Epoch 281/400\n",
            "8/8 [==============================] - 0s 20ms/step - loss: 0.0135 - accuracy: 0.0275\n",
            "Epoch 282/400\n",
            "8/8 [==============================] - 0s 19ms/step - loss: 0.0127 - accuracy: 0.0275\n",
            "Epoch 283/400\n",
            "8/8 [==============================] - 0s 21ms/step - loss: 0.0123 - accuracy: 0.0275\n",
            "Epoch 284/400\n",
            "8/8 [==============================] - 0s 24ms/step - loss: 0.0108 - accuracy: 0.0275\n",
            "Epoch 285/400\n",
            "8/8 [==============================] - 0s 21ms/step - loss: 0.0122 - accuracy: 0.0275\n",
            "Epoch 286/400\n",
            "8/8 [==============================] - 0s 19ms/step - loss: 0.0128 - accuracy: 0.0275\n",
            "Epoch 287/400\n",
            "8/8 [==============================] - 0s 19ms/step - loss: 0.0122 - accuracy: 0.0275\n",
            "Epoch 288/400\n",
            "8/8 [==============================] - 0s 19ms/step - loss: 0.0132 - accuracy: 0.0275\n",
            "Epoch 289/400\n",
            "8/8 [==============================] - 0s 20ms/step - loss: 0.0128 - accuracy: 0.0275\n",
            "Epoch 290/400\n",
            "8/8 [==============================] - 0s 22ms/step - loss: 0.0125 - accuracy: 0.0275\n",
            "Epoch 291/400\n",
            "8/8 [==============================] - 0s 21ms/step - loss: 0.0125 - accuracy: 0.0275\n",
            "Epoch 292/400\n",
            "8/8 [==============================] - 0s 21ms/step - loss: 0.0117 - accuracy: 0.0275\n",
            "Epoch 293/400\n",
            "8/8 [==============================] - 0s 18ms/step - loss: 0.0129 - accuracy: 0.0275\n",
            "Epoch 294/400\n",
            "8/8 [==============================] - 0s 19ms/step - loss: 0.0118 - accuracy: 0.0275\n",
            "Epoch 295/400\n",
            "8/8 [==============================] - 0s 18ms/step - loss: 0.0105 - accuracy: 0.0275\n",
            "Epoch 296/400\n",
            "8/8 [==============================] - 0s 20ms/step - loss: 0.0118 - accuracy: 0.0275\n",
            "Epoch 297/400\n",
            "8/8 [==============================] - 0s 18ms/step - loss: 0.0118 - accuracy: 0.0275\n",
            "Epoch 298/400\n",
            "8/8 [==============================] - 0s 19ms/step - loss: 0.0113 - accuracy: 0.0275\n",
            "Epoch 299/400\n",
            "8/8 [==============================] - 0s 19ms/step - loss: 0.0119 - accuracy: 0.0275\n",
            "Epoch 300/400\n",
            "8/8 [==============================] - 0s 20ms/step - loss: 0.0137 - accuracy: 0.0275\n",
            "Epoch 301/400\n",
            "8/8 [==============================] - 0s 19ms/step - loss: 0.0119 - accuracy: 0.0275\n",
            "Epoch 302/400\n",
            "8/8 [==============================] - 0s 21ms/step - loss: 0.0120 - accuracy: 0.0275\n",
            "Epoch 303/400\n",
            "8/8 [==============================] - 0s 19ms/step - loss: 0.0104 - accuracy: 0.0275\n",
            "Epoch 304/400\n",
            "8/8 [==============================] - 0s 20ms/step - loss: 0.0118 - accuracy: 0.0275\n",
            "Epoch 305/400\n",
            "8/8 [==============================] - 0s 20ms/step - loss: 0.0105 - accuracy: 0.0275\n",
            "Epoch 306/400\n",
            "8/8 [==============================] - 0s 19ms/step - loss: 0.0112 - accuracy: 0.0275\n",
            "Epoch 307/400\n",
            "8/8 [==============================] - 0s 20ms/step - loss: 0.0107 - accuracy: 0.0275\n",
            "Epoch 308/400\n",
            "8/8 [==============================] - 0s 21ms/step - loss: 0.0121 - accuracy: 0.0275\n",
            "Epoch 309/400\n",
            "8/8 [==============================] - 0s 21ms/step - loss: 0.0117 - accuracy: 0.0275\n",
            "Epoch 310/400\n",
            "8/8 [==============================] - 0s 20ms/step - loss: 0.0121 - accuracy: 0.0275\n",
            "Epoch 311/400\n",
            "8/8 [==============================] - 0s 21ms/step - loss: 0.0107 - accuracy: 0.0275\n",
            "Epoch 312/400\n",
            "8/8 [==============================] - 0s 19ms/step - loss: 0.0118 - accuracy: 0.0275\n",
            "Epoch 313/400\n",
            "8/8 [==============================] - 0s 19ms/step - loss: 0.0123 - accuracy: 0.0275\n",
            "Epoch 314/400\n",
            "8/8 [==============================] - 0s 23ms/step - loss: 0.0115 - accuracy: 0.0275\n",
            "Epoch 315/400\n",
            "8/8 [==============================] - 0s 20ms/step - loss: 0.0094 - accuracy: 0.0275\n",
            "Epoch 316/400\n",
            "8/8 [==============================] - 0s 20ms/step - loss: 0.0104 - accuracy: 0.0275\n",
            "Epoch 317/400\n",
            "8/8 [==============================] - 0s 19ms/step - loss: 0.0116 - accuracy: 0.0275\n",
            "Epoch 318/400\n",
            "8/8 [==============================] - 0s 20ms/step - loss: 0.0111 - accuracy: 0.0275\n",
            "Epoch 319/400\n",
            "8/8 [==============================] - 0s 22ms/step - loss: 0.0115 - accuracy: 0.0275\n",
            "Epoch 320/400\n",
            "8/8 [==============================] - 0s 20ms/step - loss: 0.0110 - accuracy: 0.0275\n",
            "Epoch 321/400\n",
            "8/8 [==============================] - 0s 19ms/step - loss: 0.0115 - accuracy: 0.0275\n",
            "Epoch 322/400\n",
            "8/8 [==============================] - 0s 19ms/step - loss: 0.0105 - accuracy: 0.0275\n",
            "Epoch 323/400\n",
            "8/8 [==============================] - 0s 19ms/step - loss: 0.0113 - accuracy: 0.0275\n",
            "Epoch 324/400\n",
            "8/8 [==============================] - 0s 19ms/step - loss: 0.0101 - accuracy: 0.0275\n",
            "Epoch 325/400\n",
            "8/8 [==============================] - 0s 18ms/step - loss: 0.0115 - accuracy: 0.0275\n",
            "Epoch 326/400\n",
            "8/8 [==============================] - 0s 19ms/step - loss: 0.0109 - accuracy: 0.0275\n",
            "Epoch 327/400\n",
            "8/8 [==============================] - 0s 19ms/step - loss: 0.0108 - accuracy: 0.0275\n",
            "Epoch 328/400\n",
            "8/8 [==============================] - 0s 19ms/step - loss: 0.0115 - accuracy: 0.0275\n",
            "Epoch 329/400\n",
            "8/8 [==============================] - 0s 20ms/step - loss: 0.0114 - accuracy: 0.0275\n",
            "Epoch 330/400\n",
            "8/8 [==============================] - 0s 22ms/step - loss: 0.0112 - accuracy: 0.0275\n",
            "Epoch 331/400\n",
            "8/8 [==============================] - 0s 21ms/step - loss: 0.0108 - accuracy: 0.0275\n",
            "Epoch 332/400\n",
            "8/8 [==============================] - 0s 20ms/step - loss: 0.0102 - accuracy: 0.0275\n",
            "Epoch 333/400\n",
            "8/8 [==============================] - 0s 19ms/step - loss: 0.0114 - accuracy: 0.0275\n",
            "Epoch 334/400\n",
            "8/8 [==============================] - 0s 19ms/step - loss: 0.0112 - accuracy: 0.0275\n",
            "Epoch 335/400\n",
            "8/8 [==============================] - 0s 18ms/step - loss: 0.0108 - accuracy: 0.0275\n",
            "Epoch 336/400\n",
            "8/8 [==============================] - 0s 21ms/step - loss: 0.0102 - accuracy: 0.0275\n",
            "Epoch 337/400\n",
            "8/8 [==============================] - 0s 19ms/step - loss: 0.0105 - accuracy: 0.0275\n",
            "Epoch 338/400\n",
            "8/8 [==============================] - 0s 20ms/step - loss: 0.0106 - accuracy: 0.0275\n",
            "Epoch 339/400\n",
            "8/8 [==============================] - 0s 19ms/step - loss: 0.0097 - accuracy: 0.0275\n",
            "Epoch 340/400\n",
            "8/8 [==============================] - 0s 18ms/step - loss: 0.0107 - accuracy: 0.0275\n",
            "Epoch 341/400\n",
            "8/8 [==============================] - 0s 20ms/step - loss: 0.0097 - accuracy: 0.0275\n",
            "Epoch 342/400\n",
            "8/8 [==============================] - 0s 20ms/step - loss: 0.0098 - accuracy: 0.0275\n",
            "Epoch 343/400\n",
            "8/8 [==============================] - 0s 20ms/step - loss: 0.0097 - accuracy: 0.0275\n",
            "Epoch 344/400\n",
            "8/8 [==============================] - 0s 20ms/step - loss: 0.0111 - accuracy: 0.0275\n",
            "Epoch 345/400\n",
            "8/8 [==============================] - 0s 21ms/step - loss: 0.0101 - accuracy: 0.0275\n",
            "Epoch 346/400\n",
            "8/8 [==============================] - 0s 20ms/step - loss: 0.0103 - accuracy: 0.0275\n",
            "Epoch 347/400\n",
            "8/8 [==============================] - 0s 21ms/step - loss: 0.0095 - accuracy: 0.0275\n",
            "Epoch 348/400\n",
            "8/8 [==============================] - 0s 21ms/step - loss: 0.0098 - accuracy: 0.0275\n",
            "Epoch 349/400\n",
            "8/8 [==============================] - 0s 21ms/step - loss: 0.0105 - accuracy: 0.0275\n",
            "Epoch 350/400\n",
            "8/8 [==============================] - 0s 19ms/step - loss: 0.0115 - accuracy: 0.0275\n",
            "Epoch 351/400\n",
            "8/8 [==============================] - 0s 19ms/step - loss: 0.0121 - accuracy: 0.0275\n",
            "Epoch 352/400\n",
            "8/8 [==============================] - 0s 19ms/step - loss: 0.0114 - accuracy: 0.0275\n",
            "Epoch 353/400\n",
            "8/8 [==============================] - 0s 20ms/step - loss: 0.0110 - accuracy: 0.0275\n",
            "Epoch 354/400\n",
            "8/8 [==============================] - 0s 20ms/step - loss: 0.0114 - accuracy: 0.0275\n",
            "Epoch 355/400\n",
            "8/8 [==============================] - 0s 22ms/step - loss: 0.0102 - accuracy: 0.0275\n",
            "Epoch 356/400\n",
            "8/8 [==============================] - 0s 19ms/step - loss: 0.0127 - accuracy: 0.0275\n",
            "Epoch 357/400\n",
            "8/8 [==============================] - 0s 20ms/step - loss: 0.0109 - accuracy: 0.0275\n",
            "Epoch 358/400\n",
            "8/8 [==============================] - 0s 20ms/step - loss: 0.0108 - accuracy: 0.0275\n",
            "Epoch 359/400\n",
            "8/8 [==============================] - 0s 20ms/step - loss: 0.0111 - accuracy: 0.0275\n",
            "Epoch 360/400\n",
            "8/8 [==============================] - 0s 18ms/step - loss: 0.0109 - accuracy: 0.0275\n",
            "Epoch 361/400\n",
            "8/8 [==============================] - 0s 19ms/step - loss: 0.0101 - accuracy: 0.0275\n",
            "Epoch 362/400\n",
            "8/8 [==============================] - 0s 19ms/step - loss: 0.0096 - accuracy: 0.0275\n",
            "Epoch 363/400\n",
            "8/8 [==============================] - 0s 19ms/step - loss: 0.0101 - accuracy: 0.0275\n",
            "Epoch 364/400\n",
            "8/8 [==============================] - 0s 20ms/step - loss: 0.0101 - accuracy: 0.0275\n",
            "Epoch 365/400\n",
            "8/8 [==============================] - 0s 20ms/step - loss: 0.0108 - accuracy: 0.0275\n",
            "Epoch 366/400\n",
            "8/8 [==============================] - 0s 20ms/step - loss: 0.0107 - accuracy: 0.0275\n",
            "Epoch 367/400\n",
            "8/8 [==============================] - 0s 19ms/step - loss: 0.0107 - accuracy: 0.0275\n",
            "Epoch 368/400\n",
            "8/8 [==============================] - 0s 18ms/step - loss: 0.0107 - accuracy: 0.0275\n",
            "Epoch 369/400\n",
            "8/8 [==============================] - 0s 21ms/step - loss: 0.0108 - accuracy: 0.0275\n",
            "Epoch 370/400\n",
            "8/8 [==============================] - 0s 20ms/step - loss: 0.0107 - accuracy: 0.0275\n",
            "Epoch 371/400\n",
            "8/8 [==============================] - 0s 21ms/step - loss: 0.0112 - accuracy: 0.0275\n",
            "Epoch 372/400\n",
            "8/8 [==============================] - 0s 18ms/step - loss: 0.0115 - accuracy: 0.0275\n",
            "Epoch 373/400\n",
            "8/8 [==============================] - 0s 21ms/step - loss: 0.0102 - accuracy: 0.0275\n",
            "Epoch 374/400\n",
            "8/8 [==============================] - 0s 19ms/step - loss: 0.0109 - accuracy: 0.0275\n",
            "Epoch 375/400\n",
            "8/8 [==============================] - 0s 21ms/step - loss: 0.0081 - accuracy: 0.0275\n",
            "Epoch 376/400\n",
            "8/8 [==============================] - 0s 19ms/step - loss: 0.0101 - accuracy: 0.0275\n",
            "Epoch 377/400\n",
            "8/8 [==============================] - 0s 20ms/step - loss: 0.0106 - accuracy: 0.0275\n",
            "Epoch 378/400\n",
            "8/8 [==============================] - 0s 20ms/step - loss: 0.0106 - accuracy: 0.0275\n",
            "Epoch 379/400\n",
            "8/8 [==============================] - 0s 22ms/step - loss: 0.0114 - accuracy: 0.0275\n",
            "Epoch 380/400\n",
            "8/8 [==============================] - 0s 22ms/step - loss: 0.0109 - accuracy: 0.0275\n",
            "Epoch 381/400\n",
            "8/8 [==============================] - 0s 20ms/step - loss: 0.0108 - accuracy: 0.0275\n",
            "Epoch 382/400\n",
            "8/8 [==============================] - 0s 22ms/step - loss: 0.0104 - accuracy: 0.0275\n",
            "Epoch 383/400\n",
            "8/8 [==============================] - 0s 20ms/step - loss: 0.0105 - accuracy: 0.0275\n",
            "Epoch 384/400\n",
            "8/8 [==============================] - 0s 19ms/step - loss: 0.0095 - accuracy: 0.0275\n",
            "Epoch 385/400\n",
            "8/8 [==============================] - 0s 19ms/step - loss: 0.0105 - accuracy: 0.0275\n",
            "Epoch 386/400\n",
            "8/8 [==============================] - 0s 23ms/step - loss: 0.0104 - accuracy: 0.0275\n",
            "Epoch 387/400\n",
            "8/8 [==============================] - 0s 20ms/step - loss: 0.0108 - accuracy: 0.0275\n",
            "Epoch 388/400\n",
            "8/8 [==============================] - 0s 19ms/step - loss: 0.0102 - accuracy: 0.0275\n",
            "Epoch 389/400\n",
            "8/8 [==============================] - 0s 19ms/step - loss: 0.0105 - accuracy: 0.0275\n",
            "Epoch 390/400\n",
            "8/8 [==============================] - 0s 19ms/step - loss: 0.0106 - accuracy: 0.0275\n",
            "Epoch 391/400\n",
            "8/8 [==============================] - 0s 20ms/step - loss: 0.0099 - accuracy: 0.0275\n",
            "Epoch 392/400\n",
            "8/8 [==============================] - 0s 20ms/step - loss: 0.0107 - accuracy: 0.0275\n",
            "Epoch 393/400\n",
            "8/8 [==============================] - 0s 19ms/step - loss: 0.0114 - accuracy: 0.0275\n",
            "Epoch 394/400\n",
            "8/8 [==============================] - 0s 19ms/step - loss: 0.0105 - accuracy: 0.0275\n",
            "Epoch 395/400\n",
            "8/8 [==============================] - 0s 19ms/step - loss: 0.0102 - accuracy: 0.0275\n",
            "Epoch 396/400\n",
            "8/8 [==============================] - 0s 19ms/step - loss: 0.0097 - accuracy: 0.0275\n",
            "Epoch 397/400\n",
            "8/8 [==============================] - 0s 20ms/step - loss: 0.0098 - accuracy: 0.0275\n",
            "Epoch 398/400\n",
            "8/8 [==============================] - 0s 20ms/step - loss: 0.0105 - accuracy: 0.0275\n",
            "Epoch 399/400\n",
            "8/8 [==============================] - 0s 19ms/step - loss: 0.0098 - accuracy: 0.0275\n",
            "Epoch 400/400\n",
            "8/8 [==============================] - 0s 18ms/step - loss: 0.0106 - accuracy: 0.0275\n"
          ],
          "name": "stdout"
        }
      ]
    },
    {
      "cell_type": "code",
      "metadata": {
        "colab": {
          "base_uri": "https://localhost:8080/",
          "height": 281
        },
        "id": "QsNIipPBotLg",
        "outputId": "61f59d74-55ef-45dd-b25c-beb1d4ed7c70"
      },
      "source": [
        "plt.figure(figsize=(20, 6), dpi=50)\n",
        "plt.plot(history.history['loss'], color = 'red', label = 'Loss')"
      ],
      "execution_count": 23,
      "outputs": [
        {
          "output_type": "execute_result",
          "data": {
            "text/plain": [
              "[<matplotlib.lines.Line2D at 0x7fab63209550>]"
            ]
          },
          "metadata": {
            "tags": []
          },
          "execution_count": 23
        },
        {
          "output_type": "display_data",
          "data": {
            "image/png": "[encoded data removed]",
            "text/plain": [
              "<Figure size 1000x300 with 1 Axes>"
            ]
          },
          "metadata": {
            "tags": [],
            "needs_background": "light"
          }
        }
      ]
    },
    {
      "cell_type": "code",
      "metadata": {
        "colab": {
          "base_uri": "https://localhost:8080/",
          "height": 281
        },
        "id": "tGTTg-zasDgV",
        "outputId": "2ea3a681-cc21-45f1-efcb-05a2721aa60b"
      },
      "source": [
        "plt.figure(figsize=(20, 6), dpi=50)\n",
        "plt.plot(history.history['accuracy'], color = 'blue', label = 'Accuracy')"
      ],
      "execution_count": 24,
      "outputs": [
        {
          "output_type": "execute_result",
          "data": {
            "text/plain": [
              "[<matplotlib.lines.Line2D at 0x7fab5f129e90>]"
            ]
          },
          "metadata": {
            "tags": []
          },
          "execution_count": 24
        },
        {
          "output_type": "display_data",
          "data": {
            "image/png": "[encoded data removed]",
            "text/plain": [
              "<Figure size 1000x300 with 1 Axes>"
            ]
          },
          "metadata": {
            "tags": [],
            "needs_background": "light"
          }
        }
      ]
    },
    {
      "cell_type": "markdown",
      "metadata": {
        "id": "gwpyImwA3yon"
      },
      "source": [
        "## Parte 4 - Fazer as previsões e analisar os resultados"
      ]
    },
    {
      "cell_type": "markdown",
      "metadata": {
        "id": "wkXRvDjT4V-B"
      },
      "source": [
        "### Base de teste"
      ]
    },
    {
      "cell_type": "markdown",
      "metadata": {
        "id": "EOo84exH4bfs"
      },
      "source": [
        "### Construir a estrutura para teste"
      ]
    },
    {
      "cell_type": "code",
      "metadata": {
        "id": "ob_-mGA_B5px"
      },
      "source": [
        "#Acréscimo da janela no conjunto de teste para pegar os últimos registros do treino\n",
        "test_set_first_window  = dataset.iloc[train_size - window:(train_size + test_size), 3:4].values\n",
        "\n",
        "test_set_scaled = sc.transform(test_set_first_window)\n",
        "\n",
        "X_test = []\n",
        "y_test = []\n",
        "\n",
        "X_test, y_test = prepareSetRN(window, output_size, test_set_scaled)\n",
        "\n",
        "X_test = np.reshape(X_test, (X_test.shape[0], X_test.shape[1], 1))"
      ],
      "execution_count": 25,
      "outputs": []
    },
    {
      "cell_type": "markdown",
      "metadata": {
        "id": "rtkB4NA74e1B"
      },
      "source": [
        "### Fazer as previsões"
      ]
    },
    {
      "cell_type": "code",
      "metadata": {
        "id": "nKIq1h-E4g9Z"
      },
      "source": [
        "def backToFlat( windowSet ):\n",
        "    flatSet     = []\n",
        "    window_size = windowSet.shape[1]\n",
        "    setSize     = len(windowSet)\n",
        "\n",
        "    #Adiciona as primeiras colunas do primeiro registro quando a janela > 1\n",
        "    if window_size > 1:\n",
        "      for i in range(0, window_size-1):\n",
        "        flatSet.append(windowSet[0, i])\n",
        "\n",
        "    for i in range(0, setSize):\n",
        "        flatSet.append(windowSet[i, window_size-1])\n",
        "\n",
        "    flatSet = np.array(flatSet)\n",
        "\n",
        "    return np.reshape(flatSet, (flatSet.shape[0], 1)) \n",
        "\n",
        "predicted = regressor.predict(X_train)\n",
        "predicted = sc.inverse_transform(predicted)\n",
        "\n",
        "training_predicted = backToFlat(predicted)\n",
        "\n",
        "predicted = regressor.predict(X_test)\n",
        "predicted = sc.inverse_transform(predicted)\n",
        "\n",
        "test_predicted = backToFlat(predicted)"
      ],
      "execution_count": 26,
      "outputs": []
    },
    {
      "cell_type": "markdown",
      "metadata": {
        "id": "guvk7yXr4o0g"
      },
      "source": [
        "### Visualizar os resultados de treino e teste"
      ]
    },
    {
      "cell_type": "code",
      "metadata": {
        "id": "tstXl2oS4rIo",
        "colab": {
          "base_uri": "https://localhost:8080/",
          "height": 284
        },
        "outputId": "68dfbd6b-ca7e-4c8d-b49e-fbe11bcba33a"
      },
      "source": [
        "allTargetData = np.vstack((test_set))\n",
        "allForecastedData = np.vstack((test_predicted))\n",
        "\n",
        "#allTargetData = np.vstack((train_set, test_set))\n",
        "#allForecastedData = np.vstack((train_set[0:window], training_predicted, test_predicted))\n",
        "\n",
        "plt.figure(figsize=(20, 6), dpi=50)\n",
        "plt.plot(allTargetData, color = 'red', label = 'Real')\n",
        "plt.plot(allForecastedData, color = 'blue', label = 'Previsto')\n",
        "plt.title('Previsão de série temporal')\n",
        "plt.xlabel('Tempo')\n",
        "plt.ylabel('Temperatura')\n",
        "plt.legend()\n",
        "plt.savefig('predictions_training_test.svg')\n",
        "plt.show()"
      ],
      "execution_count": 27,
      "outputs": [
        {
          "output_type": "display_data",
          "data": {
            "image/png": "[encoded data removed]",
            "text/plain": [
              "<Figure size 1000x300 with 1 Axes>"
            ]
          },
          "metadata": {
            "tags": [],
            "needs_background": "light"
          }
        }
      ]
    },
    {
      "cell_type": "code",
      "metadata": {
        "colab": {
          "base_uri": "https://localhost:8080/"
        },
        "id": "hfNuORWVkNC4",
        "outputId": "aba55f54-ea23-4dd4-bc52-f41050aa4a81"
      },
      "source": [
        "for i in range(0, 40):\n",
        "  print( allTargetData[i], allForecastedData[i])"
      ],
      "execution_count": 28,
      "outputs": [
        {
          "output_type": "stream",
          "text": [
            "[92] [90.77752]\n",
            "[92] [90.882195]\n",
            "[92] [90.904434]\n",
            "[92] [90.95273]\n",
            "[92] [91.00157]\n",
            "[92] [90.88216]\n",
            "[93] [90.81168]\n",
            "[93] [91.05949]\n",
            "[90] [91.05188]\n",
            "[89] [90.43914]\n",
            "[90] [90.31426]\n",
            "[90] [90.78212]\n",
            "[90] [90.692505]\n",
            "[90] [90.68704]\n",
            "[90] [90.69016]\n",
            "[91] [90.76692]\n",
            "[91] [90.839165]\n",
            "[91] [90.90346]\n",
            "[91] [90.97762]\n",
            "[91] [90.84483]\n",
            "[91] [90.712]\n",
            "[91] [90.94101]\n",
            "[91] [90.92315]\n",
            "[90] [90.96761]\n",
            "[91] [90.73041]\n",
            "[91] [90.87043]\n",
            "[91] [90.75215]\n",
            "[91] [90.67362]\n",
            "[91] [90.721466]\n",
            "[91] [90.75737]\n",
            "[91] [90.87405]\n",
            "[91] [90.86154]\n",
            "[91] [90.92806]\n",
            "[91] [90.85346]\n",
            "[91] [90.735664]\n",
            "[91] [90.87156]\n",
            "[91] [90.92139]\n",
            "[91] [90.97899]\n",
            "[91] [90.98145]\n",
            "[91] [90.93524]\n"
          ],
          "name": "stdout"
        }
      ]
    },
    {
      "cell_type": "markdown",
      "metadata": {
        "id": "ytEVhQht4we3"
      },
      "source": [
        "## Parte 5 - Métricas de avaliação"
      ]
    },
    {
      "cell_type": "code",
      "metadata": {
        "id": "rqOonVj64ydu",
        "colab": {
          "base_uri": "https://localhost:8080/"
        },
        "outputId": "5a11dc96-d171-40d9-92b0-322abad21286"
      },
      "source": [
        "rmse = math.sqrt(mean_squared_error(test_set, test_predicted))\n",
        "print('RMSE: ', rmse)"
      ],
      "execution_count": 29,
      "outputs": [
        {
          "output_type": "stream",
          "text": [
            "RMSE:  0.7189264482584563\n"
          ],
          "name": "stdout"
        }
      ]
    },
    {
      "cell_type": "code",
      "metadata": {
        "id": "ODeley1K42WW",
        "colab": {
          "base_uri": "https://localhost:8080/"
        },
        "outputId": "59907224-ec71-4f32-da40-85716099ef6c"
      },
      "source": [
        "mse = mean_squared_error(test_set, test_predicted)\n",
        "print('MSE: ',mse)"
      ],
      "execution_count": 30,
      "outputs": [
        {
          "output_type": "stream",
          "text": [
            "MSE:  0.5168552380055189\n"
          ],
          "name": "stdout"
        }
      ]
    },
    {
      "cell_type": "code",
      "metadata": {
        "id": "L7_uU_8T44QA",
        "colab": {
          "base_uri": "https://localhost:8080/"
        },
        "outputId": "a45b8dcc-abf3-4942-80f6-d6fba52e7de8"
      },
      "source": [
        "mape = np.mean(np.abs((test_set - test_predicted) / test_set)) * 100\n",
        "print('MAPE: ',mape, '%')"
      ],
      "execution_count": 31,
      "outputs": [
        {
          "output_type": "stream",
          "text": [
            "MAPE:  0.5419970076357371 %\n"
          ],
          "name": "stdout"
        }
      ]
    }
  ]
}