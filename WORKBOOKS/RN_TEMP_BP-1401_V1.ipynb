{
  "nbformat": 4,
  "nbformat_minor": 0,
  "metadata": {
    "accelerator": "TPU",
    "colab": {
      "name": "Cópia de RN_DPI.ipynb",
      "provenance": [],
      "collapsed_sections": [],
      "toc_visible": true
    },
    "kernelspec": {
      "display_name": "Python 3",
      "name": "python3"
    }
  },
  "cells": [
    {
      "cell_type": "markdown",
      "metadata": {
        "id": "bgc8yb4c2W0g"
      },
      "source": [
        "# Recurrent Neural Network - LSTM\n"
      ]
    },
    {
      "cell_type": "markdown",
      "metadata": {
        "id": "aew2N81e35Uc"
      },
      "source": [
        "## Parte 1 - Preprocessamento de Dados"
      ]
    },
    {
      "cell_type": "markdown",
      "metadata": {
        "id": "Z0vulSxH2hHu"
      },
      "source": [
        "### Importar as bibliotecas"
      ]
    },
    {
      "cell_type": "code",
      "metadata": {
        "id": "p2SjiqlE2O08",
        "colab": {
          "base_uri": "https://localhost:8080/"
        },
        "outputId": "37e50dda-f098-4a81-e484-78a8e75e4ef3"
      },
      "source": [
        "%tensorflow_version 1.x\n",
        "import numpy as np\n",
        "import matplotlib.pyplot as plt\n",
        "import pandas as pd\n",
        "import os\n",
        "import math"
      ],
      "execution_count": 1,
      "outputs": [
        {
          "output_type": "stream",
          "text": [
            "TensorFlow 1.x selected.\n"
          ],
          "name": "stdout"
        }
      ]
    },
    {
      "cell_type": "markdown",
      "metadata": {
        "id": "36Q16Udt2l3W"
      },
      "source": [
        "### Importar a base de dados"
      ]
    },
    {
      "cell_type": "code",
      "metadata": {
        "colab": {
          "base_uri": "https://localhost:8080/"
        },
        "id": "Clt03W2W41qd",
        "outputId": "78a16f30-5c75-436a-8f79-3ec3b76f53d9"
      },
      "source": [
        "from google.colab import drive\n",
        "drive.mount('/content/drive')"
      ],
      "execution_count": 2,
      "outputs": [
        {
          "output_type": "stream",
          "text": [
            "Drive already mounted at /content/drive; to attempt to forcibly remount, call drive.mount(\"/content/drive\", force_remount=True).\n"
          ],
          "name": "stdout"
        }
      ]
    },
    {
      "cell_type": "code",
      "metadata": {
        "id": "1ivhnWxD2eEG"
      },
      "source": [
        "dataset = pd.read_csv('/content/drive/MyDrive/PROJETO_FINAL_BIMASTER/temperatura_BP-140106.csv')\n",
        "\n",
        "#Conversão das temperaturas para número inteiro. Teste para ver se ajuda a RN. \n",
        "dataset = dataset.astype({\"TEMPERATURA\": int})\n",
        "\n",
        "#calculando tamanho dos conjuntos de treino e teste\n",
        "train_size = math.ceil(len(dataset)*0.78)\n",
        "test_size  = len(dataset) - train_size \n",
        "\n",
        "#Separando conjuto de treino e teste apenas com valor da série\n",
        "train_set = dataset.iloc[0:train_size, 1:2].values\n",
        "test_set  = dataset.iloc[train_size:(train_size + test_size), 1:2].values"
      ],
      "execution_count": 3,
      "outputs": []
    },
    {
      "cell_type": "markdown",
      "metadata": {
        "id": "kd39T1zK2ql1"
      },
      "source": [
        "### gráfico da série temporal"
      ]
    },
    {
      "cell_type": "code",
      "metadata": {
        "id": "vMsAFuya2rhr",
        "colab": {
          "base_uri": "https://localhost:8080/",
          "height": 284
        },
        "outputId": "b555ec21-c82b-4adf-e8cc-1f96b1c297e3"
      },
      "source": [
        "plt.figure(figsize=(10, 6), dpi=50)\n",
        "\n",
        "plt.plot(np.vstack((train_set,test_set)))\n",
        "plt.xlabel(\"Tempo\")\n",
        "plt.ylabel(\"Temperatura\")\n",
        "plt.title(\"Temperatura de Mancal\")\n",
        "plt.show()"
      ],
      "execution_count": 40,
      "outputs": [
        {
          "output_type": "display_data",
          "data": {
            "image/png": "[encoded data removed]",
            "text/plain": [
              "<Figure size 500x300 with 1 Axes>"
            ]
          },
          "metadata": {
            "tags": [],
            "needs_background": "light"
          }
        }
      ]
    },
    {
      "cell_type": "markdown",
      "metadata": {
        "id": "7p1F7HdB2uJU"
      },
      "source": [
        "### Normalização"
      ]
    },
    {
      "cell_type": "code",
      "metadata": {
        "id": "foeHRZr-2u-L"
      },
      "source": [
        "from sklearn.preprocessing import MinMaxScaler\n",
        "sc = MinMaxScaler(feature_range = (0, 1))\n",
        "training_set_scaled = sc.fit_transform(train_set)"
      ],
      "execution_count": 5,
      "outputs": []
    },
    {
      "cell_type": "markdown",
      "metadata": {
        "id": "uQP8Q7MI21Y9"
      },
      "source": [
        "### Criar a estrutura de dados com janela WINDOW e output OUTPUTSIZE para entrada na RN"
      ]
    },
    {
      "cell_type": "code",
      "metadata": {
        "id": "C6Ge9ql922cb"
      },
      "source": [
        "window     = 5\n",
        "output_size = 3\n",
        "\n",
        "X_train = []\n",
        "y_train = []\n",
        "\n",
        "#for i in range(window, train_size - output_size):\n",
        "#    X_train.append(training_set_scaled[i-window:i, 0])\n",
        "#    y_train.append(training_set_scaled[i:i + output_size, 0])\n",
        "#X_train, y_train = np.array(X_train), np.array(y_train)\n",
        "\n",
        "def prepareSetRN(windowSize, outputSize, flatSet ):\n",
        "    preparedX = []\n",
        "    preparedY = []\n",
        "    setSize = len(flatSet)\n",
        "    for i in range(windowSize, setSize - (outputSize-1)):\n",
        "        preparedX.append(flatSet[i-window:i, 0])\n",
        "        preparedY.append(flatSet[i:i + output_size, 0])\n",
        "\n",
        "    preparedX, preparedY = np.array(preparedX), np.array(preparedY)\n",
        "\n",
        "    return preparedX, preparedY \n",
        "\n",
        "X_train, y_train = prepareSetRN(window, output_size, training_set_scaled)"
      ],
      "execution_count": 6,
      "outputs": []
    },
    {
      "cell_type": "markdown",
      "metadata": {
        "id": "LPBC2LoG24dU"
      },
      "source": [
        "### Reshaping"
      ]
    },
    {
      "cell_type": "code",
      "metadata": {
        "id": "b9ZfLlGH25fr"
      },
      "source": [
        "X_train = np.reshape(X_train, (X_train.shape[0], X_train.shape[1], 1))"
      ],
      "execution_count": 7,
      "outputs": []
    },
    {
      "cell_type": "code",
      "metadata": {
        "id": "RxU0axM9diHO",
        "colab": {
          "base_uri": "https://localhost:8080/"
        },
        "outputId": "21bd0090-2e32-49db-f0de-4f1696490a69"
      },
      "source": [
        "X_train.shape"
      ],
      "execution_count": 8,
      "outputs": [
        {
          "output_type": "execute_result",
          "data": {
            "text/plain": [
              "(73, 5, 1)"
            ]
          },
          "metadata": {
            "tags": []
          },
          "execution_count": 8
        }
      ]
    },
    {
      "cell_type": "markdown",
      "metadata": {
        "id": "fZhjp7Tf282b"
      },
      "source": [
        "## Parte 2 - Construção da RNN"
      ]
    },
    {
      "cell_type": "markdown",
      "metadata": {
        "id": "RDkAxmMl3EXr"
      },
      "source": [
        "### Bibliotecas necessárias"
      ]
    },
    {
      "cell_type": "code",
      "metadata": {
        "id": "Ifhh9yUo3DpT",
        "colab": {
          "base_uri": "https://localhost:8080/"
        },
        "outputId": "695e3c1d-fadb-4171-9d8d-043c63fc7386"
      },
      "source": [
        "from keras.models import Sequential\n",
        "from keras.layers import Dense\n",
        "from keras.layers import LSTM\n",
        "from keras.layers import Dropout"
      ],
      "execution_count": 9,
      "outputs": [
        {
          "output_type": "stream",
          "text": [
            "Using TensorFlow backend.\n"
          ],
          "name": "stderr"
        }
      ]
    },
    {
      "cell_type": "markdown",
      "metadata": {
        "id": "kordpD0_3H7b"
      },
      "source": [
        "### Construção da Rede completa"
      ]
    },
    {
      "cell_type": "code",
      "metadata": {
        "id": "EskB17uo3Iso",
        "colab": {
          "base_uri": "https://localhost:8080/"
        },
        "outputId": "f09f5e74-f34a-470e-9283-15ef3424efe0"
      },
      "source": [
        "# Inicializar a RNN\n",
        "regressor = Sequential()\n",
        "\n",
        "# Adicionar a primeira camada LSTM e Dropout \n",
        "#regressor.add(LSTM(units = 150, return_sequences = True, input_shape = (X_train.shape[1], 1)))\n",
        "regressor.add(LSTM(units = 150, return_sequences = True, input_shape = (X_train.shape[1], 1)))\n",
        "regressor.add(Dropout(0.3))\n",
        " \n",
        "# Adicionar a segunda camada LSTM e Dropout\n",
        "regressor.add(LSTM(units = 80, return_sequences = False))\n",
        "regressor.add(Dropout(0.3))\n",
        " \n",
        "# Adicionar a terceira camada LSTM e Dropout\n",
        "#regressor.add(LSTM(units = 50, return_sequences = False))\n",
        "#regressor.add(Dropout(0.3))\n",
        "\n",
        "# Adicionar a terceira camada LSTM e Dropout\n",
        "#regressor.add(LSTM(units = 50, return_sequences = False))\n",
        "#regressor.add(Dropout(0.25))\n",
        "\n",
        "# camada de saída\n",
        "regressor.add(Dense(units = output_size, activation='linear'))\n",
        "#Testar sigmoid e linear\n",
        "\n",
        "# Compilar a rede\n",
        "regressor.compile(optimizer = 'Adadelta', loss = 'mean_squared_error', metrics=['mean_absolute_error'])\n",
        "\n",
        "# Visualizar a rede\n",
        "regressor.summary()"
      ],
      "execution_count": 10,
      "outputs": [
        {
          "output_type": "stream",
          "text": [
            "WARNING:tensorflow:From /tensorflow-1.15.2/python3.7/tensorflow_core/python/ops/resource_variable_ops.py:1630: calling BaseResourceVariable.__init__ (from tensorflow.python.ops.resource_variable_ops) with constraint is deprecated and will be removed in a future version.\n",
            "Instructions for updating:\n",
            "If using Keras pass *_constraint arguments to layers.\n",
            "Model: \"sequential_1\"\n",
            "_________________________________________________________________\n",
            "Layer (type)                 Output Shape              Param #   \n",
            "=================================================================\n",
            "lstm_1 (LSTM)                (None, 5, 150)            91200     \n",
            "_________________________________________________________________\n",
            "dropout_1 (Dropout)          (None, 5, 150)            0         \n",
            "_________________________________________________________________\n",
            "lstm_2 (LSTM)                (None, 80)                73920     \n",
            "_________________________________________________________________\n",
            "dropout_2 (Dropout)          (None, 80)                0         \n",
            "_________________________________________________________________\n",
            "dense_1 (Dense)              (None, 3)                 243       \n",
            "=================================================================\n",
            "Total params: 165,363\n",
            "Trainable params: 165,363\n",
            "Non-trainable params: 0\n",
            "_________________________________________________________________\n"
          ],
          "name": "stdout"
        }
      ]
    },
    {
      "cell_type": "markdown",
      "metadata": {
        "id": "5j1w28g83iSR"
      },
      "source": [
        "### Treinamento"
      ]
    },
    {
      "cell_type": "code",
      "metadata": {
        "colab": {
          "base_uri": "https://localhost:8080/"
        },
        "id": "Bff0BxpDILuO",
        "outputId": "101de1c9-3fe5-44f1-d201-0ccdebd8fb24"
      },
      "source": [
        " y_train.shape"
      ],
      "execution_count": 11,
      "outputs": [
        {
          "output_type": "execute_result",
          "data": {
            "text/plain": [
              "(73, 3)"
            ]
          },
          "metadata": {
            "tags": []
          },
          "execution_count": 11
        }
      ]
    },
    {
      "cell_type": "code",
      "metadata": {
        "id": "xWKAuKyp3jXv",
        "colab": {
          "base_uri": "https://localhost:8080/"
        },
        "outputId": "d2342e1f-5ac1-4450-ed68-875e7c290cd1"
      },
      "source": [
        "regressor.fit(X_train, y_train, epochs = 500, batch_size = 20)"
      ],
      "execution_count": 12,
      "outputs": [
        {
          "output_type": "stream",
          "text": [
            "WARNING:tensorflow:From /tensorflow-1.15.2/python3.7/keras/backend/tensorflow_backend.py:422: The name tf.global_variables is deprecated. Please use tf.compat.v1.global_variables instead.\n",
            "\n",
            "Epoch 1/500\n",
            "73/73 [==============================] - 1s 9ms/step - loss: 0.4404 - mean_absolute_error: 0.6412\n",
            "Epoch 2/500\n",
            "73/73 [==============================] - 0s 999us/step - loss: 0.2067 - mean_absolute_error: 0.4246\n",
            "Epoch 3/500\n",
            "73/73 [==============================] - 0s 851us/step - loss: 0.0586 - mean_absolute_error: 0.1986\n",
            "Epoch 4/500\n",
            "73/73 [==============================] - 0s 860us/step - loss: 0.0504 - mean_absolute_error: 0.1697\n",
            "Epoch 5/500\n",
            "73/73 [==============================] - 0s 823us/step - loss: 0.0441 - mean_absolute_error: 0.1613\n",
            "Epoch 6/500\n",
            "73/73 [==============================] - 0s 873us/step - loss: 0.0434 - mean_absolute_error: 0.1590\n",
            "Epoch 7/500\n",
            "73/73 [==============================] - 0s 934us/step - loss: 0.0444 - mean_absolute_error: 0.1609\n",
            "Epoch 8/500\n",
            "73/73 [==============================] - 0s 887us/step - loss: 0.0421 - mean_absolute_error: 0.1543\n",
            "Epoch 9/500\n",
            "73/73 [==============================] - 0s 896us/step - loss: 0.0406 - mean_absolute_error: 0.1554\n",
            "Epoch 10/500\n",
            "73/73 [==============================] - 0s 926us/step - loss: 0.0466 - mean_absolute_error: 0.1640\n",
            "Epoch 11/500\n",
            "73/73 [==============================] - 0s 962us/step - loss: 0.0420 - mean_absolute_error: 0.1544\n",
            "Epoch 12/500\n",
            "73/73 [==============================] - 0s 870us/step - loss: 0.0439 - mean_absolute_error: 0.1588\n",
            "Epoch 13/500\n",
            "73/73 [==============================] - 0s 896us/step - loss: 0.0468 - mean_absolute_error: 0.1636\n",
            "Epoch 14/500\n",
            "73/73 [==============================] - 0s 882us/step - loss: 0.0422 - mean_absolute_error: 0.1552\n",
            "Epoch 15/500\n",
            "73/73 [==============================] - 0s 840us/step - loss: 0.0438 - mean_absolute_error: 0.1631\n",
            "Epoch 16/500\n",
            "73/73 [==============================] - 0s 1ms/step - loss: 0.0470 - mean_absolute_error: 0.1653\n",
            "Epoch 17/500\n",
            "73/73 [==============================] - 0s 819us/step - loss: 0.0411 - mean_absolute_error: 0.1521\n",
            "Epoch 18/500\n",
            "73/73 [==============================] - 0s 851us/step - loss: 0.0401 - mean_absolute_error: 0.1514\n",
            "Epoch 19/500\n",
            "73/73 [==============================] - 0s 892us/step - loss: 0.0460 - mean_absolute_error: 0.1624\n",
            "Epoch 20/500\n",
            "73/73 [==============================] - 0s 952us/step - loss: 0.0395 - mean_absolute_error: 0.1481\n",
            "Epoch 21/500\n",
            "73/73 [==============================] - 0s 869us/step - loss: 0.0407 - mean_absolute_error: 0.1582\n",
            "Epoch 22/500\n",
            "73/73 [==============================] - 0s 974us/step - loss: 0.0438 - mean_absolute_error: 0.1599\n",
            "Epoch 23/500\n",
            "73/73 [==============================] - 0s 833us/step - loss: 0.0423 - mean_absolute_error: 0.1582\n",
            "Epoch 24/500\n",
            "73/73 [==============================] - 0s 860us/step - loss: 0.0441 - mean_absolute_error: 0.1513\n",
            "Epoch 25/500\n",
            "73/73 [==============================] - 0s 918us/step - loss: 0.0385 - mean_absolute_error: 0.1495\n",
            "Epoch 26/500\n",
            "73/73 [==============================] - 0s 837us/step - loss: 0.0392 - mean_absolute_error: 0.1523\n",
            "Epoch 27/500\n",
            "73/73 [==============================] - 0s 858us/step - loss: 0.0378 - mean_absolute_error: 0.1499\n",
            "Epoch 28/500\n",
            "73/73 [==============================] - 0s 946us/step - loss: 0.0443 - mean_absolute_error: 0.1611\n",
            "Epoch 29/500\n",
            "73/73 [==============================] - 0s 898us/step - loss: 0.0418 - mean_absolute_error: 0.1521\n",
            "Epoch 30/500\n",
            "73/73 [==============================] - 0s 957us/step - loss: 0.0441 - mean_absolute_error: 0.1605\n",
            "Epoch 31/500\n",
            "73/73 [==============================] - 0s 869us/step - loss: 0.0439 - mean_absolute_error: 0.1559\n",
            "Epoch 32/500\n",
            "73/73 [==============================] - 0s 940us/step - loss: 0.0416 - mean_absolute_error: 0.1591\n",
            "Epoch 33/500\n",
            "73/73 [==============================] - 0s 882us/step - loss: 0.0384 - mean_absolute_error: 0.1466\n",
            "Epoch 34/500\n",
            "73/73 [==============================] - 0s 883us/step - loss: 0.0387 - mean_absolute_error: 0.1518\n",
            "Epoch 35/500\n",
            "73/73 [==============================] - 0s 834us/step - loss: 0.0372 - mean_absolute_error: 0.1479\n",
            "Epoch 36/500\n",
            "73/73 [==============================] - 0s 901us/step - loss: 0.0412 - mean_absolute_error: 0.1512\n",
            "Epoch 37/500\n",
            "73/73 [==============================] - 0s 928us/step - loss: 0.0420 - mean_absolute_error: 0.1563\n",
            "Epoch 38/500\n",
            "73/73 [==============================] - 0s 897us/step - loss: 0.0353 - mean_absolute_error: 0.1462\n",
            "Epoch 39/500\n",
            "73/73 [==============================] - 0s 942us/step - loss: 0.0454 - mean_absolute_error: 0.1584\n",
            "Epoch 40/500\n",
            "73/73 [==============================] - 0s 859us/step - loss: 0.0387 - mean_absolute_error: 0.1480\n",
            "Epoch 41/500\n",
            "73/73 [==============================] - 0s 1ms/step - loss: 0.0411 - mean_absolute_error: 0.1524\n",
            "Epoch 42/500\n",
            "73/73 [==============================] - 0s 838us/step - loss: 0.0370 - mean_absolute_error: 0.1413\n",
            "Epoch 43/500\n",
            "73/73 [==============================] - 0s 890us/step - loss: 0.0387 - mean_absolute_error: 0.1422\n",
            "Epoch 44/500\n",
            "73/73 [==============================] - 0s 969us/step - loss: 0.0383 - mean_absolute_error: 0.1520\n",
            "Epoch 45/500\n",
            "73/73 [==============================] - 0s 937us/step - loss: 0.0410 - mean_absolute_error: 0.1517\n",
            "Epoch 46/500\n",
            "73/73 [==============================] - 0s 892us/step - loss: 0.0394 - mean_absolute_error: 0.1492\n",
            "Epoch 47/500\n",
            "73/73 [==============================] - 0s 833us/step - loss: 0.0374 - mean_absolute_error: 0.1469\n",
            "Epoch 48/500\n",
            "73/73 [==============================] - 0s 830us/step - loss: 0.0393 - mean_absolute_error: 0.1452\n",
            "Epoch 49/500\n",
            "73/73 [==============================] - 0s 957us/step - loss: 0.0361 - mean_absolute_error: 0.1454\n",
            "Epoch 50/500\n",
            "73/73 [==============================] - 0s 856us/step - loss: 0.0371 - mean_absolute_error: 0.1459\n",
            "Epoch 51/500\n",
            "73/73 [==============================] - 0s 898us/step - loss: 0.0379 - mean_absolute_error: 0.1454\n",
            "Epoch 52/500\n",
            "73/73 [==============================] - 0s 847us/step - loss: 0.0371 - mean_absolute_error: 0.1429\n",
            "Epoch 53/500\n",
            "73/73 [==============================] - 0s 986us/step - loss: 0.0377 - mean_absolute_error: 0.1476\n",
            "Epoch 54/500\n",
            "73/73 [==============================] - 0s 988us/step - loss: 0.0394 - mean_absolute_error: 0.1500\n",
            "Epoch 55/500\n",
            "73/73 [==============================] - 0s 866us/step - loss: 0.0372 - mean_absolute_error: 0.1409\n",
            "Epoch 56/500\n",
            "73/73 [==============================] - 0s 863us/step - loss: 0.0344 - mean_absolute_error: 0.1409\n",
            "Epoch 57/500\n",
            "73/73 [==============================] - 0s 978us/step - loss: 0.0361 - mean_absolute_error: 0.1393\n",
            "Epoch 58/500\n",
            "73/73 [==============================] - 0s 1ms/step - loss: 0.0392 - mean_absolute_error: 0.1516\n",
            "Epoch 59/500\n",
            "73/73 [==============================] - 0s 889us/step - loss: 0.0388 - mean_absolute_error: 0.1478\n",
            "Epoch 60/500\n",
            "73/73 [==============================] - 0s 914us/step - loss: 0.0341 - mean_absolute_error: 0.1379\n",
            "Epoch 61/500\n",
            "73/73 [==============================] - 0s 916us/step - loss: 0.0385 - mean_absolute_error: 0.1527\n",
            "Epoch 62/500\n",
            "73/73 [==============================] - 0s 901us/step - loss: 0.0396 - mean_absolute_error: 0.1479\n",
            "Epoch 63/500\n",
            "73/73 [==============================] - 0s 893us/step - loss: 0.0337 - mean_absolute_error: 0.1335\n",
            "Epoch 64/500\n",
            "73/73 [==============================] - 0s 921us/step - loss: 0.0377 - mean_absolute_error: 0.1451\n",
            "Epoch 65/500\n",
            "73/73 [==============================] - 0s 924us/step - loss: 0.0386 - mean_absolute_error: 0.1435\n",
            "Epoch 66/500\n",
            "73/73 [==============================] - 0s 918us/step - loss: 0.0309 - mean_absolute_error: 0.1263\n",
            "Epoch 67/500\n",
            "73/73 [==============================] - 0s 956us/step - loss: 0.0431 - mean_absolute_error: 0.1529\n",
            "Epoch 68/500\n",
            "73/73 [==============================] - 0s 889us/step - loss: 0.0355 - mean_absolute_error: 0.1434\n",
            "Epoch 69/500\n",
            "73/73 [==============================] - 0s 885us/step - loss: 0.0383 - mean_absolute_error: 0.1434\n",
            "Epoch 70/500\n",
            "73/73 [==============================] - 0s 945us/step - loss: 0.0369 - mean_absolute_error: 0.1449\n",
            "Epoch 71/500\n",
            "73/73 [==============================] - 0s 864us/step - loss: 0.0372 - mean_absolute_error: 0.1464\n",
            "Epoch 72/500\n",
            "73/73 [==============================] - 0s 1ms/step - loss: 0.0369 - mean_absolute_error: 0.1446\n",
            "Epoch 73/500\n",
            "73/73 [==============================] - 0s 946us/step - loss: 0.0370 - mean_absolute_error: 0.1423\n",
            "Epoch 74/500\n",
            "73/73 [==============================] - 0s 893us/step - loss: 0.0337 - mean_absolute_error: 0.1432\n",
            "Epoch 75/500\n",
            "73/73 [==============================] - 0s 880us/step - loss: 0.0345 - mean_absolute_error: 0.1342\n",
            "Epoch 76/500\n",
            "73/73 [==============================] - 0s 832us/step - loss: 0.0412 - mean_absolute_error: 0.1509\n",
            "Epoch 77/500\n",
            "73/73 [==============================] - 0s 919us/step - loss: 0.0368 - mean_absolute_error: 0.1387\n",
            "Epoch 78/500\n",
            "73/73 [==============================] - 0s 1ms/step - loss: 0.0339 - mean_absolute_error: 0.1390\n",
            "Epoch 79/500\n",
            "73/73 [==============================] - 0s 899us/step - loss: 0.0346 - mean_absolute_error: 0.1346\n",
            "Epoch 80/500\n",
            "73/73 [==============================] - 0s 955us/step - loss: 0.0330 - mean_absolute_error: 0.1327\n",
            "Epoch 81/500\n",
            "73/73 [==============================] - 0s 823us/step - loss: 0.0330 - mean_absolute_error: 0.1383\n",
            "Epoch 82/500\n",
            "73/73 [==============================] - 0s 954us/step - loss: 0.0379 - mean_absolute_error: 0.1472\n",
            "Epoch 83/500\n",
            "73/73 [==============================] - 0s 949us/step - loss: 0.0372 - mean_absolute_error: 0.1438\n",
            "Epoch 84/500\n",
            "73/73 [==============================] - 0s 887us/step - loss: 0.0372 - mean_absolute_error: 0.1479\n",
            "Epoch 85/500\n",
            "73/73 [==============================] - 0s 924us/step - loss: 0.0367 - mean_absolute_error: 0.1453\n",
            "Epoch 86/500\n",
            "73/73 [==============================] - 0s 1ms/step - loss: 0.0346 - mean_absolute_error: 0.1368\n",
            "Epoch 87/500\n",
            "73/73 [==============================] - 0s 861us/step - loss: 0.0336 - mean_absolute_error: 0.1322\n",
            "Epoch 88/500\n",
            "73/73 [==============================] - 0s 815us/step - loss: 0.0395 - mean_absolute_error: 0.1497\n",
            "Epoch 89/500\n",
            "73/73 [==============================] - 0s 901us/step - loss: 0.0346 - mean_absolute_error: 0.1348\n",
            "Epoch 90/500\n",
            "73/73 [==============================] - 0s 827us/step - loss: 0.0333 - mean_absolute_error: 0.1321\n",
            "Epoch 91/500\n",
            "73/73 [==============================] - 0s 1ms/step - loss: 0.0371 - mean_absolute_error: 0.1381\n",
            "Epoch 92/500\n",
            "73/73 [==============================] - 0s 927us/step - loss: 0.0369 - mean_absolute_error: 0.1403\n",
            "Epoch 93/500\n",
            "73/73 [==============================] - 0s 911us/step - loss: 0.0345 - mean_absolute_error: 0.1382\n",
            "Epoch 94/500\n",
            "73/73 [==============================] - 0s 857us/step - loss: 0.0344 - mean_absolute_error: 0.1372\n",
            "Epoch 95/500\n",
            "73/73 [==============================] - 0s 975us/step - loss: 0.0326 - mean_absolute_error: 0.1347\n",
            "Epoch 96/500\n",
            "73/73 [==============================] - 0s 959us/step - loss: 0.0355 - mean_absolute_error: 0.1370\n",
            "Epoch 97/500\n",
            "73/73 [==============================] - 0s 956us/step - loss: 0.0314 - mean_absolute_error: 0.1324\n",
            "Epoch 98/500\n",
            "73/73 [==============================] - 0s 832us/step - loss: 0.0354 - mean_absolute_error: 0.1368\n",
            "Epoch 99/500\n",
            "73/73 [==============================] - 0s 1ms/step - loss: 0.0358 - mean_absolute_error: 0.1367\n",
            "Epoch 100/500\n",
            "73/73 [==============================] - 0s 1ms/step - loss: 0.0395 - mean_absolute_error: 0.1530\n",
            "Epoch 101/500\n",
            "73/73 [==============================] - 0s 980us/step - loss: 0.0329 - mean_absolute_error: 0.1315\n",
            "Epoch 102/500\n",
            "73/73 [==============================] - 0s 996us/step - loss: 0.0320 - mean_absolute_error: 0.1306\n",
            "Epoch 103/500\n",
            "73/73 [==============================] - 0s 856us/step - loss: 0.0340 - mean_absolute_error: 0.1354\n",
            "Epoch 104/500\n",
            "73/73 [==============================] - 0s 873us/step - loss: 0.0329 - mean_absolute_error: 0.1323\n",
            "Epoch 105/500\n",
            "73/73 [==============================] - 0s 1ms/step - loss: 0.0356 - mean_absolute_error: 0.1348\n",
            "Epoch 106/500\n",
            "73/73 [==============================] - 0s 919us/step - loss: 0.0366 - mean_absolute_error: 0.1406\n",
            "Epoch 107/500\n",
            "73/73 [==============================] - 0s 863us/step - loss: 0.0358 - mean_absolute_error: 0.1373\n",
            "Epoch 108/500\n",
            "73/73 [==============================] - 0s 842us/step - loss: 0.0316 - mean_absolute_error: 0.1258\n",
            "Epoch 109/500\n",
            "73/73 [==============================] - 0s 908us/step - loss: 0.0358 - mean_absolute_error: 0.1457\n",
            "Epoch 110/500\n",
            "73/73 [==============================] - 0s 811us/step - loss: 0.0373 - mean_absolute_error: 0.1380\n",
            "Epoch 111/500\n",
            "73/73 [==============================] - 0s 836us/step - loss: 0.0359 - mean_absolute_error: 0.1350\n",
            "Epoch 112/500\n",
            "73/73 [==============================] - 0s 865us/step - loss: 0.0339 - mean_absolute_error: 0.1346\n",
            "Epoch 113/500\n",
            "73/73 [==============================] - 0s 1ms/step - loss: 0.0320 - mean_absolute_error: 0.1263\n",
            "Epoch 114/500\n",
            "73/73 [==============================] - 0s 1ms/step - loss: 0.0334 - mean_absolute_error: 0.1289\n",
            "Epoch 115/500\n",
            "73/73 [==============================] - 0s 909us/step - loss: 0.0328 - mean_absolute_error: 0.1318\n",
            "Epoch 116/500\n",
            "73/73 [==============================] - 0s 940us/step - loss: 0.0344 - mean_absolute_error: 0.1352\n",
            "Epoch 117/500\n",
            "73/73 [==============================] - 0s 1ms/step - loss: 0.0305 - mean_absolute_error: 0.1243\n",
            "Epoch 118/500\n",
            "73/73 [==============================] - 0s 951us/step - loss: 0.0307 - mean_absolute_error: 0.1299\n",
            "Epoch 119/500\n",
            "73/73 [==============================] - 0s 940us/step - loss: 0.0369 - mean_absolute_error: 0.1386\n",
            "Epoch 120/500\n",
            "73/73 [==============================] - 0s 869us/step - loss: 0.0341 - mean_absolute_error: 0.1331\n",
            "Epoch 121/500\n",
            "73/73 [==============================] - 0s 968us/step - loss: 0.0348 - mean_absolute_error: 0.1348\n",
            "Epoch 122/500\n",
            "73/73 [==============================] - 0s 966us/step - loss: 0.0352 - mean_absolute_error: 0.1379\n",
            "Epoch 123/500\n",
            "73/73 [==============================] - 0s 859us/step - loss: 0.0323 - mean_absolute_error: 0.1337\n",
            "Epoch 124/500\n",
            "73/73 [==============================] - 0s 880us/step - loss: 0.0346 - mean_absolute_error: 0.1377\n",
            "Epoch 125/500\n",
            "73/73 [==============================] - 0s 880us/step - loss: 0.0354 - mean_absolute_error: 0.1410\n",
            "Epoch 126/500\n",
            "73/73 [==============================] - 0s 930us/step - loss: 0.0339 - mean_absolute_error: 0.1280\n",
            "Epoch 127/500\n",
            "73/73 [==============================] - 0s 1ms/step - loss: 0.0333 - mean_absolute_error: 0.1299\n",
            "Epoch 128/500\n",
            "73/73 [==============================] - 0s 1ms/step - loss: 0.0337 - mean_absolute_error: 0.1360\n",
            "Epoch 129/500\n",
            "73/73 [==============================] - 0s 980us/step - loss: 0.0366 - mean_absolute_error: 0.1413\n",
            "Epoch 130/500\n",
            "73/73 [==============================] - 0s 959us/step - loss: 0.0314 - mean_absolute_error: 0.1269\n",
            "Epoch 131/500\n",
            "73/73 [==============================] - 0s 887us/step - loss: 0.0321 - mean_absolute_error: 0.1315\n",
            "Epoch 132/500\n",
            "73/73 [==============================] - 0s 873us/step - loss: 0.0357 - mean_absolute_error: 0.1429\n",
            "Epoch 133/500\n",
            "73/73 [==============================] - 0s 919us/step - loss: 0.0351 - mean_absolute_error: 0.1309\n",
            "Epoch 134/500\n",
            "73/73 [==============================] - 0s 859us/step - loss: 0.0340 - mean_absolute_error: 0.1387\n",
            "Epoch 135/500\n",
            "73/73 [==============================] - 0s 909us/step - loss: 0.0322 - mean_absolute_error: 0.1342\n",
            "Epoch 136/500\n",
            "73/73 [==============================] - 0s 849us/step - loss: 0.0340 - mean_absolute_error: 0.1309\n",
            "Epoch 137/500\n",
            "73/73 [==============================] - 0s 884us/step - loss: 0.0316 - mean_absolute_error: 0.1325\n",
            "Epoch 138/500\n",
            "73/73 [==============================] - 0s 999us/step - loss: 0.0330 - mean_absolute_error: 0.1335\n",
            "Epoch 139/500\n",
            "73/73 [==============================] - 0s 909us/step - loss: 0.0356 - mean_absolute_error: 0.1407\n",
            "Epoch 140/500\n",
            "73/73 [==============================] - 0s 923us/step - loss: 0.0345 - mean_absolute_error: 0.1307\n",
            "Epoch 141/500\n",
            "73/73 [==============================] - 0s 1ms/step - loss: 0.0346 - mean_absolute_error: 0.1276\n",
            "Epoch 142/500\n",
            "73/73 [==============================] - 0s 920us/step - loss: 0.0332 - mean_absolute_error: 0.1345\n",
            "Epoch 143/500\n",
            "73/73 [==============================] - 0s 1ms/step - loss: 0.0384 - mean_absolute_error: 0.1461\n",
            "Epoch 144/500\n",
            "73/73 [==============================] - 0s 911us/step - loss: 0.0363 - mean_absolute_error: 0.1392\n",
            "Epoch 145/500\n",
            "73/73 [==============================] - 0s 989us/step - loss: 0.0324 - mean_absolute_error: 0.1269\n",
            "Epoch 146/500\n",
            "73/73 [==============================] - 0s 846us/step - loss: 0.0341 - mean_absolute_error: 0.1327\n",
            "Epoch 147/500\n",
            "73/73 [==============================] - 0s 866us/step - loss: 0.0353 - mean_absolute_error: 0.1393\n",
            "Epoch 148/500\n",
            "73/73 [==============================] - 0s 910us/step - loss: 0.0370 - mean_absolute_error: 0.1386\n",
            "Epoch 149/500\n",
            "73/73 [==============================] - 0s 839us/step - loss: 0.0353 - mean_absolute_error: 0.1408\n",
            "Epoch 150/500\n",
            "73/73 [==============================] - 0s 994us/step - loss: 0.0339 - mean_absolute_error: 0.1352\n",
            "Epoch 151/500\n",
            "73/73 [==============================] - 0s 925us/step - loss: 0.0279 - mean_absolute_error: 0.1203\n",
            "Epoch 152/500\n",
            "73/73 [==============================] - 0s 917us/step - loss: 0.0390 - mean_absolute_error: 0.1460\n",
            "Epoch 153/500\n",
            "73/73 [==============================] - 0s 957us/step - loss: 0.0328 - mean_absolute_error: 0.1316\n",
            "Epoch 154/500\n",
            "73/73 [==============================] - 0s 1ms/step - loss: 0.0313 - mean_absolute_error: 0.1279\n",
            "Epoch 155/500\n",
            "73/73 [==============================] - 0s 999us/step - loss: 0.0356 - mean_absolute_error: 0.1334\n",
            "Epoch 156/500\n",
            "73/73 [==============================] - 0s 938us/step - loss: 0.0363 - mean_absolute_error: 0.1341\n",
            "Epoch 157/500\n",
            "73/73 [==============================] - 0s 963us/step - loss: 0.0335 - mean_absolute_error: 0.1292\n",
            "Epoch 158/500\n",
            "73/73 [==============================] - 0s 897us/step - loss: 0.0322 - mean_absolute_error: 0.1257\n",
            "Epoch 159/500\n",
            "73/73 [==============================] - 0s 928us/step - loss: 0.0361 - mean_absolute_error: 0.1321\n",
            "Epoch 160/500\n",
            "73/73 [==============================] - 0s 913us/step - loss: 0.0341 - mean_absolute_error: 0.1338\n",
            "Epoch 161/500\n",
            "73/73 [==============================] - 0s 872us/step - loss: 0.0316 - mean_absolute_error: 0.1236\n",
            "Epoch 162/500\n",
            "73/73 [==============================] - 0s 892us/step - loss: 0.0298 - mean_absolute_error: 0.1202\n",
            "Epoch 163/500\n",
            "73/73 [==============================] - 0s 878us/step - loss: 0.0310 - mean_absolute_error: 0.1270\n",
            "Epoch 164/500\n",
            "73/73 [==============================] - 0s 854us/step - loss: 0.0303 - mean_absolute_error: 0.1235\n",
            "Epoch 165/500\n",
            "73/73 [==============================] - 0s 879us/step - loss: 0.0302 - mean_absolute_error: 0.1217\n",
            "Epoch 166/500\n",
            "73/73 [==============================] - 0s 828us/step - loss: 0.0301 - mean_absolute_error: 0.1204\n",
            "Epoch 167/500\n",
            "73/73 [==============================] - 0s 882us/step - loss: 0.0323 - mean_absolute_error: 0.1245\n",
            "Epoch 168/500\n",
            "73/73 [==============================] - 0s 1ms/step - loss: 0.0328 - mean_absolute_error: 0.1311\n",
            "Epoch 169/500\n",
            "73/73 [==============================] - 0s 1ms/step - loss: 0.0322 - mean_absolute_error: 0.1301\n",
            "Epoch 170/500\n",
            "73/73 [==============================] - 0s 867us/step - loss: 0.0325 - mean_absolute_error: 0.1266\n",
            "Epoch 171/500\n",
            "73/73 [==============================] - 0s 898us/step - loss: 0.0310 - mean_absolute_error: 0.1253\n",
            "Epoch 172/500\n",
            "73/73 [==============================] - 0s 970us/step - loss: 0.0340 - mean_absolute_error: 0.1344\n",
            "Epoch 173/500\n",
            "73/73 [==============================] - 0s 869us/step - loss: 0.0313 - mean_absolute_error: 0.1266\n",
            "Epoch 174/500\n",
            "73/73 [==============================] - 0s 866us/step - loss: 0.0365 - mean_absolute_error: 0.1394\n",
            "Epoch 175/500\n",
            "73/73 [==============================] - 0s 915us/step - loss: 0.0369 - mean_absolute_error: 0.1422\n",
            "Epoch 176/500\n",
            "73/73 [==============================] - 0s 901us/step - loss: 0.0295 - mean_absolute_error: 0.1215\n",
            "Epoch 177/500\n",
            "73/73 [==============================] - 0s 909us/step - loss: 0.0307 - mean_absolute_error: 0.1293\n",
            "Epoch 178/500\n",
            "73/73 [==============================] - 0s 871us/step - loss: 0.0317 - mean_absolute_error: 0.1292\n",
            "Epoch 179/500\n",
            "73/73 [==============================] - 0s 935us/step - loss: 0.0336 - mean_absolute_error: 0.1277\n",
            "Epoch 180/500\n",
            "73/73 [==============================] - 0s 971us/step - loss: 0.0325 - mean_absolute_error: 0.1303\n",
            "Epoch 181/500\n",
            "73/73 [==============================] - 0s 926us/step - loss: 0.0330 - mean_absolute_error: 0.1347\n",
            "Epoch 182/500\n",
            "73/73 [==============================] - 0s 1ms/step - loss: 0.0317 - mean_absolute_error: 0.1241\n",
            "Epoch 183/500\n",
            "73/73 [==============================] - 0s 857us/step - loss: 0.0307 - mean_absolute_error: 0.1266\n",
            "Epoch 184/500\n",
            "73/73 [==============================] - 0s 900us/step - loss: 0.0301 - mean_absolute_error: 0.1281\n",
            "Epoch 185/500\n",
            "73/73 [==============================] - 0s 868us/step - loss: 0.0335 - mean_absolute_error: 0.1299\n",
            "Epoch 186/500\n",
            "73/73 [==============================] - 0s 914us/step - loss: 0.0309 - mean_absolute_error: 0.1282\n",
            "Epoch 187/500\n",
            "73/73 [==============================] - 0s 942us/step - loss: 0.0288 - mean_absolute_error: 0.1169\n",
            "Epoch 188/500\n",
            "73/73 [==============================] - 0s 839us/step - loss: 0.0333 - mean_absolute_error: 0.1334\n",
            "Epoch 189/500\n",
            "73/73 [==============================] - 0s 871us/step - loss: 0.0293 - mean_absolute_error: 0.1193\n",
            "Epoch 190/500\n",
            "73/73 [==============================] - 0s 956us/step - loss: 0.0328 - mean_absolute_error: 0.1302\n",
            "Epoch 191/500\n",
            "73/73 [==============================] - 0s 952us/step - loss: 0.0335 - mean_absolute_error: 0.1340\n",
            "Epoch 192/500\n",
            "73/73 [==============================] - 0s 904us/step - loss: 0.0335 - mean_absolute_error: 0.1303\n",
            "Epoch 193/500\n",
            "73/73 [==============================] - 0s 887us/step - loss: 0.0308 - mean_absolute_error: 0.1232\n",
            "Epoch 194/500\n",
            "73/73 [==============================] - 0s 886us/step - loss: 0.0337 - mean_absolute_error: 0.1329\n",
            "Epoch 195/500\n",
            "73/73 [==============================] - 0s 992us/step - loss: 0.0310 - mean_absolute_error: 0.1209\n",
            "Epoch 196/500\n",
            "73/73 [==============================] - 0s 1ms/step - loss: 0.0285 - mean_absolute_error: 0.1178\n",
            "Epoch 197/500\n",
            "73/73 [==============================] - 0s 902us/step - loss: 0.0287 - mean_absolute_error: 0.1192\n",
            "Epoch 198/500\n",
            "73/73 [==============================] - 0s 1ms/step - loss: 0.0345 - mean_absolute_error: 0.1341\n",
            "Epoch 199/500\n",
            "73/73 [==============================] - 0s 1ms/step - loss: 0.0303 - mean_absolute_error: 0.1231\n",
            "Epoch 200/500\n",
            "73/73 [==============================] - 0s 910us/step - loss: 0.0338 - mean_absolute_error: 0.1231\n",
            "Epoch 201/500\n",
            "73/73 [==============================] - 0s 947us/step - loss: 0.0300 - mean_absolute_error: 0.1243\n",
            "Epoch 202/500\n",
            "73/73 [==============================] - 0s 888us/step - loss: 0.0294 - mean_absolute_error: 0.1252\n",
            "Epoch 203/500\n",
            "73/73 [==============================] - 0s 855us/step - loss: 0.0335 - mean_absolute_error: 0.1267\n",
            "Epoch 204/500\n",
            "73/73 [==============================] - 0s 778us/step - loss: 0.0328 - mean_absolute_error: 0.1271\n",
            "Epoch 205/500\n",
            "73/73 [==============================] - 0s 942us/step - loss: 0.0328 - mean_absolute_error: 0.1309\n",
            "Epoch 206/500\n",
            "73/73 [==============================] - 0s 936us/step - loss: 0.0334 - mean_absolute_error: 0.1315\n",
            "Epoch 207/500\n",
            "73/73 [==============================] - 0s 1ms/step - loss: 0.0311 - mean_absolute_error: 0.1254\n",
            "Epoch 208/500\n",
            "73/73 [==============================] - 0s 880us/step - loss: 0.0307 - mean_absolute_error: 0.1255\n",
            "Epoch 209/500\n",
            "73/73 [==============================] - 0s 991us/step - loss: 0.0301 - mean_absolute_error: 0.1252\n",
            "Epoch 210/500\n",
            "73/73 [==============================] - 0s 876us/step - loss: 0.0323 - mean_absolute_error: 0.1279\n",
            "Epoch 211/500\n",
            "73/73 [==============================] - 0s 854us/step - loss: 0.0334 - mean_absolute_error: 0.1301\n",
            "Epoch 212/500\n",
            "73/73 [==============================] - 0s 958us/step - loss: 0.0312 - mean_absolute_error: 0.1263\n",
            "Epoch 213/500\n",
            "73/73 [==============================] - 0s 945us/step - loss: 0.0304 - mean_absolute_error: 0.1243\n",
            "Epoch 214/500\n",
            "73/73 [==============================] - 0s 872us/step - loss: 0.0299 - mean_absolute_error: 0.1232\n",
            "Epoch 215/500\n",
            "73/73 [==============================] - 0s 894us/step - loss: 0.0291 - mean_absolute_error: 0.1150\n",
            "Epoch 216/500\n",
            "73/73 [==============================] - 0s 944us/step - loss: 0.0296 - mean_absolute_error: 0.1173\n",
            "Epoch 217/500\n",
            "73/73 [==============================] - 0s 906us/step - loss: 0.0310 - mean_absolute_error: 0.1304\n",
            "Epoch 218/500\n",
            "73/73 [==============================] - 0s 955us/step - loss: 0.0338 - mean_absolute_error: 0.1305\n",
            "Epoch 219/500\n",
            "73/73 [==============================] - 0s 950us/step - loss: 0.0288 - mean_absolute_error: 0.1185\n",
            "Epoch 220/500\n",
            "73/73 [==============================] - 0s 925us/step - loss: 0.0307 - mean_absolute_error: 0.1215\n",
            "Epoch 221/500\n",
            "73/73 [==============================] - 0s 889us/step - loss: 0.0299 - mean_absolute_error: 0.1204\n",
            "Epoch 222/500\n",
            "73/73 [==============================] - 0s 911us/step - loss: 0.0321 - mean_absolute_error: 0.1252\n",
            "Epoch 223/500\n",
            "73/73 [==============================] - 0s 1ms/step - loss: 0.0308 - mean_absolute_error: 0.1249\n",
            "Epoch 224/500\n",
            "73/73 [==============================] - 0s 930us/step - loss: 0.0310 - mean_absolute_error: 0.1228\n",
            "Epoch 225/500\n",
            "73/73 [==============================] - 0s 888us/step - loss: 0.0319 - mean_absolute_error: 0.1248\n",
            "Epoch 226/500\n",
            "73/73 [==============================] - 0s 953us/step - loss: 0.0305 - mean_absolute_error: 0.1217\n",
            "Epoch 227/500\n",
            "73/73 [==============================] - 0s 913us/step - loss: 0.0292 - mean_absolute_error: 0.1178\n",
            "Epoch 228/500\n",
            "73/73 [==============================] - 0s 917us/step - loss: 0.0321 - mean_absolute_error: 0.1256\n",
            "Epoch 229/500\n",
            "73/73 [==============================] - 0s 943us/step - loss: 0.0302 - mean_absolute_error: 0.1276\n",
            "Epoch 230/500\n",
            "73/73 [==============================] - 0s 997us/step - loss: 0.0294 - mean_absolute_error: 0.1173\n",
            "Epoch 231/500\n",
            "73/73 [==============================] - 0s 938us/step - loss: 0.0326 - mean_absolute_error: 0.1327\n",
            "Epoch 232/500\n",
            "73/73 [==============================] - 0s 897us/step - loss: 0.0324 - mean_absolute_error: 0.1280\n",
            "Epoch 233/500\n",
            "73/73 [==============================] - 0s 840us/step - loss: 0.0342 - mean_absolute_error: 0.1343\n",
            "Epoch 234/500\n",
            "73/73 [==============================] - 0s 984us/step - loss: 0.0291 - mean_absolute_error: 0.1173\n",
            "Epoch 235/500\n",
            "73/73 [==============================] - 0s 1ms/step - loss: 0.0302 - mean_absolute_error: 0.1194\n",
            "Epoch 236/500\n",
            "73/73 [==============================] - 0s 1ms/step - loss: 0.0295 - mean_absolute_error: 0.1224\n",
            "Epoch 237/500\n",
            "73/73 [==============================] - 0s 1ms/step - loss: 0.0313 - mean_absolute_error: 0.1237\n",
            "Epoch 238/500\n",
            "73/73 [==============================] - 0s 1ms/step - loss: 0.0315 - mean_absolute_error: 0.1239\n",
            "Epoch 239/500\n",
            "73/73 [==============================] - 0s 1ms/step - loss: 0.0301 - mean_absolute_error: 0.1309\n",
            "Epoch 240/500\n",
            "73/73 [==============================] - 0s 889us/step - loss: 0.0308 - mean_absolute_error: 0.1203\n",
            "Epoch 241/500\n",
            "73/73 [==============================] - 0s 959us/step - loss: 0.0302 - mean_absolute_error: 0.1268\n",
            "Epoch 242/500\n",
            "73/73 [==============================] - 0s 981us/step - loss: 0.0313 - mean_absolute_error: 0.1304\n",
            "Epoch 243/500\n",
            "73/73 [==============================] - 0s 888us/step - loss: 0.0313 - mean_absolute_error: 0.1234\n",
            "Epoch 244/500\n",
            "73/73 [==============================] - 0s 944us/step - loss: 0.0347 - mean_absolute_error: 0.1348\n",
            "Epoch 245/500\n",
            "73/73 [==============================] - 0s 912us/step - loss: 0.0302 - mean_absolute_error: 0.1226\n",
            "Epoch 246/500\n",
            "73/73 [==============================] - 0s 925us/step - loss: 0.0326 - mean_absolute_error: 0.1239\n",
            "Epoch 247/500\n",
            "73/73 [==============================] - 0s 1ms/step - loss: 0.0314 - mean_absolute_error: 0.1260\n",
            "Epoch 248/500\n",
            "73/73 [==============================] - 0s 916us/step - loss: 0.0310 - mean_absolute_error: 0.1251\n",
            "Epoch 249/500\n",
            "73/73 [==============================] - 0s 1ms/step - loss: 0.0316 - mean_absolute_error: 0.1252\n",
            "Epoch 250/500\n",
            "73/73 [==============================] - 0s 993us/step - loss: 0.0284 - mean_absolute_error: 0.1191\n",
            "Epoch 251/500\n",
            "73/73 [==============================] - 0s 1ms/step - loss: 0.0304 - mean_absolute_error: 0.1280\n",
            "Epoch 252/500\n",
            "73/73 [==============================] - 0s 963us/step - loss: 0.0298 - mean_absolute_error: 0.1201\n",
            "Epoch 253/500\n",
            "73/73 [==============================] - 0s 974us/step - loss: 0.0328 - mean_absolute_error: 0.1281\n",
            "Epoch 254/500\n",
            "73/73 [==============================] - 0s 1ms/step - loss: 0.0304 - mean_absolute_error: 0.1264\n",
            "Epoch 255/500\n",
            "73/73 [==============================] - 0s 885us/step - loss: 0.0317 - mean_absolute_error: 0.1266\n",
            "Epoch 256/500\n",
            "73/73 [==============================] - 0s 938us/step - loss: 0.0323 - mean_absolute_error: 0.1283\n",
            "Epoch 257/500\n",
            "73/73 [==============================] - 0s 949us/step - loss: 0.0298 - mean_absolute_error: 0.1251\n",
            "Epoch 258/500\n",
            "73/73 [==============================] - 0s 950us/step - loss: 0.0306 - mean_absolute_error: 0.1235\n",
            "Epoch 259/500\n",
            "73/73 [==============================] - 0s 957us/step - loss: 0.0289 - mean_absolute_error: 0.1214\n",
            "Epoch 260/500\n",
            "73/73 [==============================] - 0s 947us/step - loss: 0.0306 - mean_absolute_error: 0.1232\n",
            "Epoch 261/500\n",
            "73/73 [==============================] - 0s 935us/step - loss: 0.0307 - mean_absolute_error: 0.1245\n",
            "Epoch 262/500\n",
            "73/73 [==============================] - 0s 1ms/step - loss: 0.0304 - mean_absolute_error: 0.1231\n",
            "Epoch 263/500\n",
            "73/73 [==============================] - 0s 895us/step - loss: 0.0305 - mean_absolute_error: 0.1280\n",
            "Epoch 264/500\n",
            "73/73 [==============================] - 0s 1ms/step - loss: 0.0297 - mean_absolute_error: 0.1155\n",
            "Epoch 265/500\n",
            "73/73 [==============================] - 0s 898us/step - loss: 0.0326 - mean_absolute_error: 0.1307\n",
            "Epoch 266/500\n",
            "73/73 [==============================] - 0s 942us/step - loss: 0.0331 - mean_absolute_error: 0.1289\n",
            "Epoch 267/500\n",
            "73/73 [==============================] - 0s 866us/step - loss: 0.0300 - mean_absolute_error: 0.1203\n",
            "Epoch 268/500\n",
            "73/73 [==============================] - 0s 913us/step - loss: 0.0286 - mean_absolute_error: 0.1196\n",
            "Epoch 269/500\n",
            "73/73 [==============================] - 0s 867us/step - loss: 0.0302 - mean_absolute_error: 0.1260\n",
            "Epoch 270/500\n",
            "73/73 [==============================] - 0s 932us/step - loss: 0.0290 - mean_absolute_error: 0.1198\n",
            "Epoch 271/500\n",
            "73/73 [==============================] - 0s 975us/step - loss: 0.0288 - mean_absolute_error: 0.1182\n",
            "Epoch 272/500\n",
            "73/73 [==============================] - 0s 873us/step - loss: 0.0274 - mean_absolute_error: 0.1154\n",
            "Epoch 273/500\n",
            "73/73 [==============================] - 0s 841us/step - loss: 0.0316 - mean_absolute_error: 0.1227\n",
            "Epoch 274/500\n",
            "73/73 [==============================] - 0s 975us/step - loss: 0.0302 - mean_absolute_error: 0.1222\n",
            "Epoch 275/500\n",
            "73/73 [==============================] - 0s 1ms/step - loss: 0.0297 - mean_absolute_error: 0.1264\n",
            "Epoch 276/500\n",
            "73/73 [==============================] - 0s 1ms/step - loss: 0.0279 - mean_absolute_error: 0.1170\n",
            "Epoch 277/500\n",
            "73/73 [==============================] - 0s 928us/step - loss: 0.0306 - mean_absolute_error: 0.1245\n",
            "Epoch 278/500\n",
            "73/73 [==============================] - 0s 929us/step - loss: 0.0296 - mean_absolute_error: 0.1197\n",
            "Epoch 279/500\n",
            "73/73 [==============================] - 0s 911us/step - loss: 0.0284 - mean_absolute_error: 0.1237\n",
            "Epoch 280/500\n",
            "73/73 [==============================] - 0s 946us/step - loss: 0.0275 - mean_absolute_error: 0.1189\n",
            "Epoch 281/500\n",
            "73/73 [==============================] - 0s 895us/step - loss: 0.0289 - mean_absolute_error: 0.1189\n",
            "Epoch 282/500\n",
            "73/73 [==============================] - 0s 965us/step - loss: 0.0294 - mean_absolute_error: 0.1241\n",
            "Epoch 283/500\n",
            "73/73 [==============================] - 0s 861us/step - loss: 0.0334 - mean_absolute_error: 0.1283\n",
            "Epoch 284/500\n",
            "73/73 [==============================] - 0s 1ms/step - loss: 0.0311 - mean_absolute_error: 0.1254\n",
            "Epoch 285/500\n",
            "73/73 [==============================] - 0s 987us/step - loss: 0.0306 - mean_absolute_error: 0.1198\n",
            "Epoch 286/500\n",
            "73/73 [==============================] - 0s 1ms/step - loss: 0.0296 - mean_absolute_error: 0.1242\n",
            "Epoch 287/500\n",
            "73/73 [==============================] - 0s 918us/step - loss: 0.0304 - mean_absolute_error: 0.1218\n",
            "Epoch 288/500\n",
            "73/73 [==============================] - 0s 1ms/step - loss: 0.0295 - mean_absolute_error: 0.1216\n",
            "Epoch 289/500\n",
            "73/73 [==============================] - 0s 1ms/step - loss: 0.0305 - mean_absolute_error: 0.1211\n",
            "Epoch 290/500\n",
            "73/73 [==============================] - 0s 925us/step - loss: 0.0338 - mean_absolute_error: 0.1321\n",
            "Epoch 291/500\n",
            "73/73 [==============================] - 0s 963us/step - loss: 0.0317 - mean_absolute_error: 0.1310\n",
            "Epoch 292/500\n",
            "73/73 [==============================] - 0s 916us/step - loss: 0.0324 - mean_absolute_error: 0.1309\n",
            "Epoch 293/500\n",
            "73/73 [==============================] - 0s 959us/step - loss: 0.0322 - mean_absolute_error: 0.1273\n",
            "Epoch 294/500\n",
            "73/73 [==============================] - 0s 1ms/step - loss: 0.0321 - mean_absolute_error: 0.1219\n",
            "Epoch 295/500\n",
            "73/73 [==============================] - 0s 893us/step - loss: 0.0319 - mean_absolute_error: 0.1287\n",
            "Epoch 296/500\n",
            "73/73 [==============================] - 0s 932us/step - loss: 0.0314 - mean_absolute_error: 0.1265\n",
            "Epoch 297/500\n",
            "73/73 [==============================] - 0s 907us/step - loss: 0.0293 - mean_absolute_error: 0.1223\n",
            "Epoch 298/500\n",
            "73/73 [==============================] - 0s 971us/step - loss: 0.0287 - mean_absolute_error: 0.1155\n",
            "Epoch 299/500\n",
            "73/73 [==============================] - 0s 943us/step - loss: 0.0324 - mean_absolute_error: 0.1288\n",
            "Epoch 300/500\n",
            "73/73 [==============================] - 0s 907us/step - loss: 0.0311 - mean_absolute_error: 0.1248\n",
            "Epoch 301/500\n",
            "73/73 [==============================] - 0s 906us/step - loss: 0.0311 - mean_absolute_error: 0.1258\n",
            "Epoch 302/500\n",
            "73/73 [==============================] - 0s 1ms/step - loss: 0.0335 - mean_absolute_error: 0.1353\n",
            "Epoch 303/500\n",
            "73/73 [==============================] - 0s 957us/step - loss: 0.0295 - mean_absolute_error: 0.1213\n",
            "Epoch 304/500\n",
            "73/73 [==============================] - 0s 1ms/step - loss: 0.0273 - mean_absolute_error: 0.1154\n",
            "Epoch 305/500\n",
            "73/73 [==============================] - 0s 901us/step - loss: 0.0282 - mean_absolute_error: 0.1187\n",
            "Epoch 306/500\n",
            "73/73 [==============================] - 0s 887us/step - loss: 0.0314 - mean_absolute_error: 0.1235\n",
            "Epoch 307/500\n",
            "73/73 [==============================] - 0s 916us/step - loss: 0.0275 - mean_absolute_error: 0.1173\n",
            "Epoch 308/500\n",
            "73/73 [==============================] - 0s 908us/step - loss: 0.0289 - mean_absolute_error: 0.1228\n",
            "Epoch 309/500\n",
            "73/73 [==============================] - 0s 937us/step - loss: 0.0326 - mean_absolute_error: 0.1325\n",
            "Epoch 310/500\n",
            "73/73 [==============================] - 0s 915us/step - loss: 0.0274 - mean_absolute_error: 0.1076\n",
            "Epoch 311/500\n",
            "73/73 [==============================] - 0s 848us/step - loss: 0.0306 - mean_absolute_error: 0.1270\n",
            "Epoch 312/500\n",
            "73/73 [==============================] - 0s 1ms/step - loss: 0.0295 - mean_absolute_error: 0.1263\n",
            "Epoch 313/500\n",
            "73/73 [==============================] - 0s 955us/step - loss: 0.0305 - mean_absolute_error: 0.1223\n",
            "Epoch 314/500\n",
            "73/73 [==============================] - 0s 1ms/step - loss: 0.0284 - mean_absolute_error: 0.1202\n",
            "Epoch 315/500\n",
            "73/73 [==============================] - 0s 993us/step - loss: 0.0304 - mean_absolute_error: 0.1237\n",
            "Epoch 316/500\n",
            "73/73 [==============================] - 0s 1ms/step - loss: 0.0298 - mean_absolute_error: 0.1201\n",
            "Epoch 317/500\n",
            "73/73 [==============================] - 0s 988us/step - loss: 0.0307 - mean_absolute_error: 0.1286\n",
            "Epoch 318/500\n",
            "73/73 [==============================] - 0s 956us/step - loss: 0.0300 - mean_absolute_error: 0.1228\n",
            "Epoch 319/500\n",
            "73/73 [==============================] - 0s 947us/step - loss: 0.0322 - mean_absolute_error: 0.1239\n",
            "Epoch 320/500\n",
            "73/73 [==============================] - 0s 928us/step - loss: 0.0304 - mean_absolute_error: 0.1255\n",
            "Epoch 321/500\n",
            "73/73 [==============================] - 0s 939us/step - loss: 0.0305 - mean_absolute_error: 0.1223\n",
            "Epoch 322/500\n",
            "73/73 [==============================] - 0s 914us/step - loss: 0.0296 - mean_absolute_error: 0.1218\n",
            "Epoch 323/500\n",
            "73/73 [==============================] - 0s 907us/step - loss: 0.0324 - mean_absolute_error: 0.1257\n",
            "Epoch 324/500\n",
            "73/73 [==============================] - 0s 981us/step - loss: 0.0298 - mean_absolute_error: 0.1255\n",
            "Epoch 325/500\n",
            "73/73 [==============================] - 0s 1ms/step - loss: 0.0291 - mean_absolute_error: 0.1175\n",
            "Epoch 326/500\n",
            "73/73 [==============================] - 0s 921us/step - loss: 0.0308 - mean_absolute_error: 0.1243\n",
            "Epoch 327/500\n",
            "73/73 [==============================] - 0s 925us/step - loss: 0.0312 - mean_absolute_error: 0.1235\n",
            "Epoch 328/500\n",
            "73/73 [==============================] - 0s 1ms/step - loss: 0.0314 - mean_absolute_error: 0.1310\n",
            "Epoch 329/500\n",
            "73/73 [==============================] - 0s 978us/step - loss: 0.0314 - mean_absolute_error: 0.1224\n",
            "Epoch 330/500\n",
            "73/73 [==============================] - 0s 911us/step - loss: 0.0298 - mean_absolute_error: 0.1172\n",
            "Epoch 331/500\n",
            "73/73 [==============================] - 0s 945us/step - loss: 0.0313 - mean_absolute_error: 0.1254\n",
            "Epoch 332/500\n",
            "73/73 [==============================] - 0s 1ms/step - loss: 0.0329 - mean_absolute_error: 0.1299\n",
            "Epoch 333/500\n",
            "73/73 [==============================] - 0s 950us/step - loss: 0.0298 - mean_absolute_error: 0.1199\n",
            "Epoch 334/500\n",
            "73/73 [==============================] - 0s 1ms/step - loss: 0.0307 - mean_absolute_error: 0.1258\n",
            "Epoch 335/500\n",
            "73/73 [==============================] - 0s 942us/step - loss: 0.0289 - mean_absolute_error: 0.1237\n",
            "Epoch 336/500\n",
            "73/73 [==============================] - 0s 879us/step - loss: 0.0275 - mean_absolute_error: 0.1147\n",
            "Epoch 337/500\n",
            "73/73 [==============================] - 0s 1ms/step - loss: 0.0298 - mean_absolute_error: 0.1229\n",
            "Epoch 338/500\n",
            "73/73 [==============================] - 0s 901us/step - loss: 0.0281 - mean_absolute_error: 0.1159\n",
            "Epoch 339/500\n",
            "73/73 [==============================] - 0s 929us/step - loss: 0.0279 - mean_absolute_error: 0.1190\n",
            "Epoch 340/500\n",
            "73/73 [==============================] - 0s 921us/step - loss: 0.0305 - mean_absolute_error: 0.1228\n",
            "Epoch 341/500\n",
            "73/73 [==============================] - 0s 1ms/step - loss: 0.0326 - mean_absolute_error: 0.1270\n",
            "Epoch 342/500\n",
            "73/73 [==============================] - 0s 1ms/step - loss: 0.0297 - mean_absolute_error: 0.1229\n",
            "Epoch 343/500\n",
            "73/73 [==============================] - 0s 1ms/step - loss: 0.0299 - mean_absolute_error: 0.1240\n",
            "Epoch 344/500\n",
            "73/73 [==============================] - 0s 1ms/step - loss: 0.0292 - mean_absolute_error: 0.1211\n",
            "Epoch 345/500\n",
            "73/73 [==============================] - 0s 947us/step - loss: 0.0311 - mean_absolute_error: 0.1253\n",
            "Epoch 346/500\n",
            "73/73 [==============================] - 0s 949us/step - loss: 0.0300 - mean_absolute_error: 0.1259\n",
            "Epoch 347/500\n",
            "73/73 [==============================] - 0s 881us/step - loss: 0.0308 - mean_absolute_error: 0.1240\n",
            "Epoch 348/500\n",
            "73/73 [==============================] - 0s 936us/step - loss: 0.0321 - mean_absolute_error: 0.1251\n",
            "Epoch 349/500\n",
            "73/73 [==============================] - 0s 938us/step - loss: 0.0317 - mean_absolute_error: 0.1224\n",
            "Epoch 350/500\n",
            "73/73 [==============================] - 0s 870us/step - loss: 0.0295 - mean_absolute_error: 0.1179\n",
            "Epoch 351/500\n",
            "73/73 [==============================] - 0s 1ms/step - loss: 0.0283 - mean_absolute_error: 0.1238\n",
            "Epoch 352/500\n",
            "73/73 [==============================] - 0s 955us/step - loss: 0.0284 - mean_absolute_error: 0.1194\n",
            "Epoch 353/500\n",
            "73/73 [==============================] - 0s 909us/step - loss: 0.0291 - mean_absolute_error: 0.1203\n",
            "Epoch 354/500\n",
            "73/73 [==============================] - 0s 1ms/step - loss: 0.0304 - mean_absolute_error: 0.1252\n",
            "Epoch 355/500\n",
            "73/73 [==============================] - 0s 1ms/step - loss: 0.0318 - mean_absolute_error: 0.1292\n",
            "Epoch 356/500\n",
            "73/73 [==============================] - 0s 915us/step - loss: 0.0274 - mean_absolute_error: 0.1153\n",
            "Epoch 357/500\n",
            "73/73 [==============================] - 0s 958us/step - loss: 0.0292 - mean_absolute_error: 0.1229\n",
            "Epoch 358/500\n",
            "73/73 [==============================] - 0s 999us/step - loss: 0.0306 - mean_absolute_error: 0.1263\n",
            "Epoch 359/500\n",
            "73/73 [==============================] - 0s 902us/step - loss: 0.0295 - mean_absolute_error: 0.1233\n",
            "Epoch 360/500\n",
            "73/73 [==============================] - 0s 980us/step - loss: 0.0307 - mean_absolute_error: 0.1219\n",
            "Epoch 361/500\n",
            "73/73 [==============================] - 0s 1ms/step - loss: 0.0308 - mean_absolute_error: 0.1205\n",
            "Epoch 362/500\n",
            "73/73 [==============================] - 0s 1ms/step - loss: 0.0306 - mean_absolute_error: 0.1221\n",
            "Epoch 363/500\n",
            "73/73 [==============================] - 0s 895us/step - loss: 0.0304 - mean_absolute_error: 0.1218\n",
            "Epoch 364/500\n",
            "73/73 [==============================] - 0s 993us/step - loss: 0.0284 - mean_absolute_error: 0.1202\n",
            "Epoch 365/500\n",
            "73/73 [==============================] - 0s 1ms/step - loss: 0.0286 - mean_absolute_error: 0.1173\n",
            "Epoch 366/500\n",
            "73/73 [==============================] - 0s 995us/step - loss: 0.0251 - mean_absolute_error: 0.1147\n",
            "Epoch 367/500\n",
            "73/73 [==============================] - 0s 2ms/step - loss: 0.0296 - mean_absolute_error: 0.1199\n",
            "Epoch 368/500\n",
            "73/73 [==============================] - 0s 2ms/step - loss: 0.0277 - mean_absolute_error: 0.1144\n",
            "Epoch 369/500\n",
            "73/73 [==============================] - 0s 940us/step - loss: 0.0298 - mean_absolute_error: 0.1187\n",
            "Epoch 370/500\n",
            "73/73 [==============================] - 0s 1ms/step - loss: 0.0275 - mean_absolute_error: 0.1171\n",
            "Epoch 371/500\n",
            "73/73 [==============================] - 0s 943us/step - loss: 0.0313 - mean_absolute_error: 0.1240\n",
            "Epoch 372/500\n",
            "73/73 [==============================] - 0s 1ms/step - loss: 0.0304 - mean_absolute_error: 0.1254\n",
            "Epoch 373/500\n",
            "73/73 [==============================] - 0s 891us/step - loss: 0.0325 - mean_absolute_error: 0.1301\n",
            "Epoch 374/500\n",
            "73/73 [==============================] - 0s 908us/step - loss: 0.0319 - mean_absolute_error: 0.1248\n",
            "Epoch 375/500\n",
            "73/73 [==============================] - 0s 1ms/step - loss: 0.0287 - mean_absolute_error: 0.1189\n",
            "Epoch 376/500\n",
            "73/73 [==============================] - 0s 915us/step - loss: 0.0264 - mean_absolute_error: 0.1126\n",
            "Epoch 377/500\n",
            "73/73 [==============================] - 0s 1ms/step - loss: 0.0268 - mean_absolute_error: 0.1147\n",
            "Epoch 378/500\n",
            "73/73 [==============================] - 0s 901us/step - loss: 0.0290 - mean_absolute_error: 0.1190\n",
            "Epoch 379/500\n",
            "73/73 [==============================] - 0s 1ms/step - loss: 0.0292 - mean_absolute_error: 0.1184\n",
            "Epoch 380/500\n",
            "73/73 [==============================] - 0s 1ms/step - loss: 0.0301 - mean_absolute_error: 0.1195\n",
            "Epoch 381/500\n",
            "73/73 [==============================] - 0s 1ms/step - loss: 0.0276 - mean_absolute_error: 0.1155\n",
            "Epoch 382/500\n",
            "73/73 [==============================] - 0s 1ms/step - loss: 0.0269 - mean_absolute_error: 0.1146\n",
            "Epoch 383/500\n",
            "73/73 [==============================] - 0s 920us/step - loss: 0.0282 - mean_absolute_error: 0.1191\n",
            "Epoch 384/500\n",
            "73/73 [==============================] - 0s 972us/step - loss: 0.0294 - mean_absolute_error: 0.1213\n",
            "Epoch 385/500\n",
            "73/73 [==============================] - 0s 955us/step - loss: 0.0302 - mean_absolute_error: 0.1245\n",
            "Epoch 386/500\n",
            "73/73 [==============================] - 0s 962us/step - loss: 0.0295 - mean_absolute_error: 0.1205\n",
            "Epoch 387/500\n",
            "73/73 [==============================] - 0s 972us/step - loss: 0.0301 - mean_absolute_error: 0.1235\n",
            "Epoch 388/500\n",
            "73/73 [==============================] - 0s 943us/step - loss: 0.0297 - mean_absolute_error: 0.1229\n",
            "Epoch 389/500\n",
            "73/73 [==============================] - 0s 1ms/step - loss: 0.0289 - mean_absolute_error: 0.1161\n",
            "Epoch 390/500\n",
            "73/73 [==============================] - 0s 915us/step - loss: 0.0281 - mean_absolute_error: 0.1189\n",
            "Epoch 391/500\n",
            "73/73 [==============================] - 0s 1ms/step - loss: 0.0307 - mean_absolute_error: 0.1240\n",
            "Epoch 392/500\n",
            "73/73 [==============================] - 0s 1ms/step - loss: 0.0309 - mean_absolute_error: 0.1251\n",
            "Epoch 393/500\n",
            "73/73 [==============================] - 0s 1ms/step - loss: 0.0293 - mean_absolute_error: 0.1234\n",
            "Epoch 394/500\n",
            "73/73 [==============================] - 0s 1ms/step - loss: 0.0298 - mean_absolute_error: 0.1187\n",
            "Epoch 395/500\n",
            "73/73 [==============================] - 0s 949us/step - loss: 0.0280 - mean_absolute_error: 0.1187\n",
            "Epoch 396/500\n",
            "73/73 [==============================] - 0s 1ms/step - loss: 0.0292 - mean_absolute_error: 0.1196\n",
            "Epoch 397/500\n",
            "73/73 [==============================] - 0s 936us/step - loss: 0.0323 - mean_absolute_error: 0.1347\n",
            "Epoch 398/500\n",
            "73/73 [==============================] - 0s 966us/step - loss: 0.0305 - mean_absolute_error: 0.1257\n",
            "Epoch 399/500\n",
            "73/73 [==============================] - 0s 928us/step - loss: 0.0313 - mean_absolute_error: 0.1250\n",
            "Epoch 400/500\n",
            "73/73 [==============================] - 0s 919us/step - loss: 0.0302 - mean_absolute_error: 0.1208\n",
            "Epoch 401/500\n",
            "73/73 [==============================] - 0s 1ms/step - loss: 0.0288 - mean_absolute_error: 0.1141\n",
            "Epoch 402/500\n",
            "73/73 [==============================] - 0s 911us/step - loss: 0.0298 - mean_absolute_error: 0.1281\n",
            "Epoch 403/500\n",
            "73/73 [==============================] - 0s 933us/step - loss: 0.0294 - mean_absolute_error: 0.1210\n",
            "Epoch 404/500\n",
            "73/73 [==============================] - 0s 1ms/step - loss: 0.0279 - mean_absolute_error: 0.1207\n",
            "Epoch 405/500\n",
            "73/73 [==============================] - 0s 1ms/step - loss: 0.0287 - mean_absolute_error: 0.1173\n",
            "Epoch 406/500\n",
            "73/73 [==============================] - 0s 1ms/step - loss: 0.0307 - mean_absolute_error: 0.1265\n",
            "Epoch 407/500\n",
            "73/73 [==============================] - 0s 1ms/step - loss: 0.0288 - mean_absolute_error: 0.1177\n",
            "Epoch 408/500\n",
            "73/73 [==============================] - 0s 925us/step - loss: 0.0333 - mean_absolute_error: 0.1308\n",
            "Epoch 409/500\n",
            "73/73 [==============================] - 0s 1ms/step - loss: 0.0310 - mean_absolute_error: 0.1246\n",
            "Epoch 410/500\n",
            "73/73 [==============================] - 0s 932us/step - loss: 0.0270 - mean_absolute_error: 0.1140\n",
            "Epoch 411/500\n",
            "73/73 [==============================] - 0s 1ms/step - loss: 0.0306 - mean_absolute_error: 0.1224\n",
            "Epoch 412/500\n",
            "73/73 [==============================] - 0s 1ms/step - loss: 0.0292 - mean_absolute_error: 0.1191\n",
            "Epoch 413/500\n",
            "73/73 [==============================] - 0s 1ms/step - loss: 0.0307 - mean_absolute_error: 0.1231\n",
            "Epoch 414/500\n",
            "73/73 [==============================] - 0s 884us/step - loss: 0.0294 - mean_absolute_error: 0.1216\n",
            "Epoch 415/500\n",
            "73/73 [==============================] - 0s 885us/step - loss: 0.0294 - mean_absolute_error: 0.1296\n",
            "Epoch 416/500\n",
            "73/73 [==============================] - 0s 1ms/step - loss: 0.0288 - mean_absolute_error: 0.1215\n",
            "Epoch 417/500\n",
            "73/73 [==============================] - 0s 1ms/step - loss: 0.0265 - mean_absolute_error: 0.1180\n",
            "Epoch 418/500\n",
            "73/73 [==============================] - 0s 981us/step - loss: 0.0288 - mean_absolute_error: 0.1195\n",
            "Epoch 419/500\n",
            "73/73 [==============================] - 0s 910us/step - loss: 0.0280 - mean_absolute_error: 0.1171\n",
            "Epoch 420/500\n",
            "73/73 [==============================] - 0s 903us/step - loss: 0.0306 - mean_absolute_error: 0.1229\n",
            "Epoch 421/500\n",
            "73/73 [==============================] - 0s 903us/step - loss: 0.0287 - mean_absolute_error: 0.1190\n",
            "Epoch 422/500\n",
            "73/73 [==============================] - 0s 918us/step - loss: 0.0319 - mean_absolute_error: 0.1321\n",
            "Epoch 423/500\n",
            "73/73 [==============================] - 0s 1ms/step - loss: 0.0294 - mean_absolute_error: 0.1207\n",
            "Epoch 424/500\n",
            "73/73 [==============================] - 0s 990us/step - loss: 0.0288 - mean_absolute_error: 0.1173\n",
            "Epoch 425/500\n",
            "73/73 [==============================] - 0s 1ms/step - loss: 0.0306 - mean_absolute_error: 0.1283\n",
            "Epoch 426/500\n",
            "73/73 [==============================] - 0s 1ms/step - loss: 0.0275 - mean_absolute_error: 0.1173\n",
            "Epoch 427/500\n",
            "73/73 [==============================] - 0s 1ms/step - loss: 0.0274 - mean_absolute_error: 0.1160\n",
            "Epoch 428/500\n",
            "73/73 [==============================] - 0s 1ms/step - loss: 0.0285 - mean_absolute_error: 0.1229\n",
            "Epoch 429/500\n",
            "73/73 [==============================] - 0s 1ms/step - loss: 0.0291 - mean_absolute_error: 0.1247\n",
            "Epoch 430/500\n",
            "73/73 [==============================] - 0s 960us/step - loss: 0.0281 - mean_absolute_error: 0.1178\n",
            "Epoch 431/500\n",
            "73/73 [==============================] - 0s 968us/step - loss: 0.0305 - mean_absolute_error: 0.1251\n",
            "Epoch 432/500\n",
            "73/73 [==============================] - 0s 882us/step - loss: 0.0286 - mean_absolute_error: 0.1148\n",
            "Epoch 433/500\n",
            "73/73 [==============================] - 0s 901us/step - loss: 0.0270 - mean_absolute_error: 0.1174\n",
            "Epoch 434/500\n",
            "73/73 [==============================] - 0s 1ms/step - loss: 0.0280 - mean_absolute_error: 0.1188\n",
            "Epoch 435/500\n",
            "73/73 [==============================] - 0s 986us/step - loss: 0.0294 - mean_absolute_error: 0.1244\n",
            "Epoch 436/500\n",
            "73/73 [==============================] - 0s 1ms/step - loss: 0.0283 - mean_absolute_error: 0.1178\n",
            "Epoch 437/500\n",
            "73/73 [==============================] - 0s 1ms/step - loss: 0.0271 - mean_absolute_error: 0.1167\n",
            "Epoch 438/500\n",
            "73/73 [==============================] - 0s 1ms/step - loss: 0.0270 - mean_absolute_error: 0.1151\n",
            "Epoch 439/500\n",
            "73/73 [==============================] - 0s 930us/step - loss: 0.0268 - mean_absolute_error: 0.1159\n",
            "Epoch 440/500\n",
            "73/73 [==============================] - 0s 953us/step - loss: 0.0284 - mean_absolute_error: 0.1209\n",
            "Epoch 441/500\n",
            "73/73 [==============================] - 0s 902us/step - loss: 0.0284 - mean_absolute_error: 0.1192\n",
            "Epoch 442/500\n",
            "73/73 [==============================] - 0s 1ms/step - loss: 0.0280 - mean_absolute_error: 0.1160\n",
            "Epoch 443/500\n",
            "73/73 [==============================] - 0s 1ms/step - loss: 0.0277 - mean_absolute_error: 0.1152\n",
            "Epoch 444/500\n",
            "73/73 [==============================] - 0s 1ms/step - loss: 0.0300 - mean_absolute_error: 0.1197\n",
            "Epoch 445/500\n",
            "73/73 [==============================] - 0s 1ms/step - loss: 0.0273 - mean_absolute_error: 0.1152\n",
            "Epoch 446/500\n",
            "73/73 [==============================] - 0s 942us/step - loss: 0.0302 - mean_absolute_error: 0.1243\n",
            "Epoch 447/500\n",
            "73/73 [==============================] - 0s 963us/step - loss: 0.0280 - mean_absolute_error: 0.1208\n",
            "Epoch 448/500\n",
            "73/73 [==============================] - 0s 878us/step - loss: 0.0277 - mean_absolute_error: 0.1207\n",
            "Epoch 449/500\n",
            "73/73 [==============================] - 0s 979us/step - loss: 0.0305 - mean_absolute_error: 0.1239\n",
            "Epoch 450/500\n",
            "73/73 [==============================] - 0s 890us/step - loss: 0.0303 - mean_absolute_error: 0.1207\n",
            "Epoch 451/500\n",
            "73/73 [==============================] - 0s 991us/step - loss: 0.0272 - mean_absolute_error: 0.1115\n",
            "Epoch 452/500\n",
            "73/73 [==============================] - 0s 967us/step - loss: 0.0292 - mean_absolute_error: 0.1228\n",
            "Epoch 453/500\n",
            "73/73 [==============================] - 0s 1ms/step - loss: 0.0310 - mean_absolute_error: 0.1251\n",
            "Epoch 454/500\n",
            "73/73 [==============================] - 0s 1ms/step - loss: 0.0269 - mean_absolute_error: 0.1163\n",
            "Epoch 455/500\n",
            "73/73 [==============================] - 0s 1ms/step - loss: 0.0290 - mean_absolute_error: 0.1155\n",
            "Epoch 456/500\n",
            "73/73 [==============================] - 0s 1ms/step - loss: 0.0277 - mean_absolute_error: 0.1176\n",
            "Epoch 457/500\n",
            "73/73 [==============================] - 0s 991us/step - loss: 0.0262 - mean_absolute_error: 0.1149\n",
            "Epoch 458/500\n",
            "73/73 [==============================] - 0s 974us/step - loss: 0.0299 - mean_absolute_error: 0.1211\n",
            "Epoch 459/500\n",
            "73/73 [==============================] - 0s 968us/step - loss: 0.0299 - mean_absolute_error: 0.1195\n",
            "Epoch 460/500\n",
            "73/73 [==============================] - 0s 1ms/step - loss: 0.0284 - mean_absolute_error: 0.1201\n",
            "Epoch 461/500\n",
            "73/73 [==============================] - 0s 1ms/step - loss: 0.0294 - mean_absolute_error: 0.1192\n",
            "Epoch 462/500\n",
            "73/73 [==============================] - 0s 929us/step - loss: 0.0292 - mean_absolute_error: 0.1190\n",
            "Epoch 463/500\n",
            "73/73 [==============================] - 0s 1ms/step - loss: 0.0268 - mean_absolute_error: 0.1119\n",
            "Epoch 464/500\n",
            "73/73 [==============================] - 0s 991us/step - loss: 0.0276 - mean_absolute_error: 0.1143\n",
            "Epoch 465/500\n",
            "73/73 [==============================] - 0s 1ms/step - loss: 0.0273 - mean_absolute_error: 0.1181\n",
            "Epoch 466/500\n",
            "73/73 [==============================] - 0s 1ms/step - loss: 0.0291 - mean_absolute_error: 0.1223\n",
            "Epoch 467/500\n",
            "73/73 [==============================] - 0s 1ms/step - loss: 0.0306 - mean_absolute_error: 0.1221\n",
            "Epoch 468/500\n",
            "73/73 [==============================] - 0s 972us/step - loss: 0.0307 - mean_absolute_error: 0.1225\n",
            "Epoch 469/500\n",
            "73/73 [==============================] - 0s 1ms/step - loss: 0.0303 - mean_absolute_error: 0.1268\n",
            "Epoch 470/500\n",
            "73/73 [==============================] - 0s 919us/step - loss: 0.0308 - mean_absolute_error: 0.1251\n",
            "Epoch 471/500\n",
            "73/73 [==============================] - 0s 981us/step - loss: 0.0295 - mean_absolute_error: 0.1249\n",
            "Epoch 472/500\n",
            "73/73 [==============================] - 0s 1ms/step - loss: 0.0282 - mean_absolute_error: 0.1191\n",
            "Epoch 473/500\n",
            "73/73 [==============================] - 0s 941us/step - loss: 0.0290 - mean_absolute_error: 0.1254\n",
            "Epoch 474/500\n",
            "73/73 [==============================] - 0s 1ms/step - loss: 0.0254 - mean_absolute_error: 0.1128\n",
            "Epoch 475/500\n",
            "73/73 [==============================] - 0s 959us/step - loss: 0.0300 - mean_absolute_error: 0.1219\n",
            "Epoch 476/500\n",
            "73/73 [==============================] - 0s 1ms/step - loss: 0.0276 - mean_absolute_error: 0.1177\n",
            "Epoch 477/500\n",
            "73/73 [==============================] - 0s 1ms/step - loss: 0.0301 - mean_absolute_error: 0.1212\n",
            "Epoch 478/500\n",
            "73/73 [==============================] - 0s 927us/step - loss: 0.0281 - mean_absolute_error: 0.1183\n",
            "Epoch 479/500\n",
            "73/73 [==============================] - 0s 1ms/step - loss: 0.0286 - mean_absolute_error: 0.1183\n",
            "Epoch 480/500\n",
            "73/73 [==============================] - 0s 1ms/step - loss: 0.0266 - mean_absolute_error: 0.1168\n",
            "Epoch 481/500\n",
            "73/73 [==============================] - 0s 1ms/step - loss: 0.0289 - mean_absolute_error: 0.1188\n",
            "Epoch 482/500\n",
            "73/73 [==============================] - 0s 941us/step - loss: 0.0282 - mean_absolute_error: 0.1190\n",
            "Epoch 483/500\n",
            "73/73 [==============================] - 0s 936us/step - loss: 0.0268 - mean_absolute_error: 0.1205\n",
            "Epoch 484/500\n",
            "73/73 [==============================] - 0s 933us/step - loss: 0.0266 - mean_absolute_error: 0.1164\n",
            "Epoch 485/500\n",
            "73/73 [==============================] - 0s 1ms/step - loss: 0.0253 - mean_absolute_error: 0.1114\n",
            "Epoch 486/500\n",
            "73/73 [==============================] - 0s 985us/step - loss: 0.0309 - mean_absolute_error: 0.1238\n",
            "Epoch 487/500\n",
            "73/73 [==============================] - 0s 946us/step - loss: 0.0279 - mean_absolute_error: 0.1187\n",
            "Epoch 488/500\n",
            "73/73 [==============================] - 0s 994us/step - loss: 0.0263 - mean_absolute_error: 0.1142\n",
            "Epoch 489/500\n",
            "73/73 [==============================] - 0s 898us/step - loss: 0.0294 - mean_absolute_error: 0.1209\n",
            "Epoch 490/500\n",
            "73/73 [==============================] - 0s 977us/step - loss: 0.0278 - mean_absolute_error: 0.1195\n",
            "Epoch 491/500\n",
            "73/73 [==============================] - 0s 1ms/step - loss: 0.0278 - mean_absolute_error: 0.1163\n",
            "Epoch 492/500\n",
            "73/73 [==============================] - 0s 1ms/step - loss: 0.0267 - mean_absolute_error: 0.1198\n",
            "Epoch 493/500\n",
            "73/73 [==============================] - 0s 1ms/step - loss: 0.0279 - mean_absolute_error: 0.1177\n",
            "Epoch 494/500\n",
            "73/73 [==============================] - 0s 1ms/step - loss: 0.0305 - mean_absolute_error: 0.1225\n",
            "Epoch 495/500\n",
            "73/73 [==============================] - 0s 1ms/step - loss: 0.0262 - mean_absolute_error: 0.1140\n",
            "Epoch 496/500\n",
            "73/73 [==============================] - 0s 1ms/step - loss: 0.0272 - mean_absolute_error: 0.1124\n",
            "Epoch 497/500\n",
            "73/73 [==============================] - 0s 1ms/step - loss: 0.0262 - mean_absolute_error: 0.1146\n",
            "Epoch 498/500\n",
            "73/73 [==============================] - 0s 1ms/step - loss: 0.0302 - mean_absolute_error: 0.1273\n",
            "Epoch 499/500\n",
            "73/73 [==============================] - 0s 995us/step - loss: 0.0280 - mean_absolute_error: 0.1272\n",
            "Epoch 500/500\n",
            "73/73 [==============================] - 0s 1ms/step - loss: 0.0272 - mean_absolute_error: 0.1151\n"
          ],
          "name": "stdout"
        },
        {
          "output_type": "execute_result",
          "data": {
            "text/plain": [
              "<keras.callbacks.callbacks.History at 0x7fa0c7e0cb50>"
            ]
          },
          "metadata": {
            "tags": []
          },
          "execution_count": 12
        }
      ]
    },
    {
      "cell_type": "markdown",
      "metadata": {
        "id": "gwpyImwA3yon"
      },
      "source": [
        "## Parte 3 - Fazer as previsões e analisar os resultados"
      ]
    },
    {
      "cell_type": "markdown",
      "metadata": {
        "id": "wkXRvDjT4V-B"
      },
      "source": [
        "### Base de teste"
      ]
    },
    {
      "cell_type": "markdown",
      "metadata": {
        "id": "EOo84exH4bfs"
      },
      "source": [
        "### Construir a estrutura para teste"
      ]
    },
    {
      "cell_type": "code",
      "metadata": {
        "id": "ob_-mGA_B5px"
      },
      "source": [
        "test_set_scaled = sc.transform(test_set)\n",
        "\n",
        "X_test = []\n",
        "y_test = []\n",
        "\n",
        "X_test, y_test = prepareSetRN(window, output_size, test_set_scaled)\n",
        "\n",
        "X_test = np.reshape(X_test, (X_test.shape[0], X_test.shape[1], 1))"
      ],
      "execution_count": 13,
      "outputs": []
    },
    {
      "cell_type": "markdown",
      "metadata": {
        "id": "rtkB4NA74e1B"
      },
      "source": [
        "### Fazer as previsões"
      ]
    },
    {
      "cell_type": "code",
      "metadata": {
        "id": "nKIq1h-E4g9Z"
      },
      "source": [
        "def backToFlat( windowSet ):\n",
        "    flatSet     = []\n",
        "    window_size = windowSet.shape[1]\n",
        "    setSize     = len(windowSet)\n",
        "\n",
        "    for i in range(0, setSize):\n",
        "        flatSet.append(windowSet[i, 0])\n",
        "        \n",
        "    flatSet.append(windowSet[setSize-1, 1])\n",
        "    flatSet.append(windowSet[setSize-1, 2])\n",
        "\n",
        "    flatSet = np.array(flatSet)\n",
        "\n",
        "    return np.reshape(flatSet, (flatSet.shape[0], 1)) \n",
        "\n",
        "predicted = regressor.predict(X_test)\n",
        "predicted = sc.inverse_transform(predicted)\n",
        "\n",
        "test_predicted = backToFlat(predicted)\n",
        "\n",
        "predicted = regressor.predict(X_train)\n",
        "predicted = sc.inverse_transform(predicted)\n",
        "\n",
        "training_predicted = backToFlat(predicted)"
      ],
      "execution_count": 31,
      "outputs": []
    },
    {
      "cell_type": "markdown",
      "metadata": {
        "id": "guvk7yXr4o0g"
      },
      "source": [
        "### Visualizar os resultados de treino e teste"
      ]
    },
    {
      "cell_type": "code",
      "metadata": {
        "colab": {
          "base_uri": "https://localhost:8080/"
        },
        "id": "2uuASLCgUqRu",
        "outputId": "0694968e-c1fa-428d-8dc6-14f6a3019cfb"
      },
      "source": [
        "len(train_set) + len(test_set)"
      ],
      "execution_count": 33,
      "outputs": [
        {
          "output_type": "execute_result",
          "data": {
            "text/plain": [
              "102"
            ]
          },
          "metadata": {
            "tags": []
          },
          "execution_count": 33
        }
      ]
    },
    {
      "cell_type": "code",
      "metadata": {
        "colab": {
          "base_uri": "https://localhost:8080/"
        },
        "id": "QZNVQ2ngUweV",
        "outputId": "9196fa10-1af7-4729-c630-30db9a43f123"
      },
      "source": [
        "len(train_set[0:window]), len(training_predicted), len(test_predicted)"
      ],
      "execution_count": 36,
      "outputs": [
        {
          "output_type": "execute_result",
          "data": {
            "text/plain": [
              "(5, 75, 17)"
            ]
          },
          "metadata": {
            "tags": []
          },
          "execution_count": 36
        }
      ]
    },
    {
      "cell_type": "code",
      "metadata": {
        "id": "tstXl2oS4rIo",
        "colab": {
          "base_uri": "https://localhost:8080/",
          "height": 295
        },
        "outputId": "956fe846-281f-4956-c1ee-3d7ade72dfc3"
      },
      "source": [
        "allTargetData = np.vstack((train_set, test_set))\n",
        "allForecastedData = np.vstack((train_set[0:window], training_predicted, test_set[0:window], test_predicted))\n",
        "plt.plot(allTargetData, color = 'red', label = 'Real')\n",
        "plt.plot(allForecastedData, color = 'blue', label = 'Previsto')\n",
        "plt.title('Previsão de série temporal')\n",
        "plt.xlabel('Tempo')\n",
        "plt.ylabel('Temperatura')\n",
        "plt.legend()\n",
        "plt.savefig('predictions_training_test.svg')\n",
        "plt.show()"
      ],
      "execution_count": 32,
      "outputs": [
        {
          "output_type": "display_data",
          "data": {
            "image/png": "[encoded data removed]",
            "text/plain": [
              "<Figure size 432x288 with 1 Axes>"
            ]
          },
          "metadata": {
            "tags": [],
            "needs_background": "light"
          }
        }
      ]
    },
    {
      "cell_type": "markdown",
      "metadata": {
        "id": "ytEVhQht4we3"
      },
      "source": [
        "## Parte 4 - Métricas de avaliação"
      ]
    },
    {
      "cell_type": "code",
      "metadata": {
        "id": "rqOonVj64ydu"
      },
      "source": [
        "import math\n",
        "from sklearn.metrics import mean_squared_error\n",
        "rmse = math.sqrt(mean_squared_error(test_pul, predicted))\n",
        "print('RMSE: ', rmse)"
      ],
      "execution_count": null,
      "outputs": []
    },
    {
      "cell_type": "code",
      "metadata": {
        "id": "ODeley1K42WW"
      },
      "source": [
        "mse = mean_squared_error(test_pul, predicted)\n",
        "print('MSE: ',mse)"
      ],
      "execution_count": null,
      "outputs": []
    },
    {
      "cell_type": "code",
      "metadata": {
        "id": "L7_uU_8T44QA"
      },
      "source": [
        "mape = np.mean(np.abs((test_pul - predicted) / test_pul)) * 100\n",
        "print('MAPE: ',mape, '%')"
      ],
      "execution_count": null,
      "outputs": []
    },
    {
      "cell_type": "code",
      "metadata": {
        "id": "mgmtdSOq7rG0"
      },
      "source": [
        ""
      ],
      "execution_count": null,
      "outputs": []
    }
  ]
}