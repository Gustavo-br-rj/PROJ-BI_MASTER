{
  "nbformat": 4,
  "nbformat_minor": 0,
  "metadata": {
    "colab": {
      "name": "3_SALVA_MODELOS.ipynb",
      "provenance": [],
      "authorship_tag": "ABX9TyPJ1+Y1YVevQb2u/l0lKCgh",
      "include_colab_link": true
    },
    "kernelspec": {
      "name": "python3",
      "display_name": "Python 3"
    },
    "language_info": {
      "name": "python"
    }
  },
  "cells": [
    {
      "cell_type": "markdown",
      "metadata": {
        "id": "view-in-github",
        "colab_type": "text"
      },
      "source": [
        "<a href=\"https://colab.research.google.com/github/Gustavo-br-rj/PROJ-BI_MASTER/blob/main/3_SALVA_MODELOS.ipynb\" target=\"_parent\"><img src=\"https://colab.research.google.com/assets/colab-badge.svg\" alt=\"Open In Colab\"/></a>"
      ]
    },
    {
      "cell_type": "code",
      "metadata": {
        "colab": {
          "base_uri": "https://localhost:8080/"
        },
        "id": "hu-EtboQhW92",
        "outputId": "82765c90-f697-426c-b503-669f71608b86"
      },
      "source": [
        "from google.colab import drive\n",
        "drive.mount('/content/drive')"
      ],
      "execution_count": 1,
      "outputs": [
        {
          "output_type": "stream",
          "name": "stdout",
          "text": [
            "Drive already mounted at /content/drive; to attempt to forcibly remount, call drive.mount(\"/content/drive\", force_remount=True).\n"
          ]
        }
      ]
    },
    {
      "cell_type": "markdown",
      "metadata": {
        "id": "xo0ZNiRv6IUn"
      },
      "source": [
        "# Previsão de Série Temporal da Temperatura de Mancais Utilizando LSTM"
      ]
    },
    {
      "cell_type": "markdown",
      "metadata": {
        "id": "S7DgT-Yp6M7K"
      },
      "source": [
        "## Parte 0 - Importação das Bibliotecas\n"
      ]
    },
    {
      "cell_type": "code",
      "metadata": {
        "id": "Ank47ogjl6KN"
      },
      "source": [
        "#%tensorflow_version 1.x\n",
        "import tensorflow as tf\n",
        "import numpy as np\n",
        "import matplotlib.pyplot as plt\n",
        "import pandas as pd\n",
        "import os\n",
        "import math\n",
        "import json\n",
        "\n",
        "from sklearn.preprocessing import MinMaxScaler\n",
        "from sklearn.metrics import mean_squared_error\n",
        "from keras.models import Sequential\n",
        "from keras.models import load_model\n",
        "from keras.layers import Dense\n",
        "from keras.layers import LSTM\n",
        "from keras.layers import Dropout\n",
        "\n",
        "#tf.__version__"
      ],
      "execution_count": 2,
      "outputs": []
    },
    {
      "cell_type": "markdown",
      "metadata": {
        "id": "thp3WPqW6kkI"
      },
      "source": [
        "## Parte 1 - Importação do Dataset"
      ]
    },
    {
      "cell_type": "code",
      "metadata": {
        "id": "GA9IyrqC7IXX"
      },
      "source": [
        "dataset = pd.read_csv('/content/drive/MyDrive/BI_MASTER/PROJETO_FINAL_BIMASTER/DATASETS/dataset_C-4451_08001A.csv')\n",
        "\n",
        "#Conversão do campo data para datetime e ordenação do dataset\n",
        "dataset['DATA'] = pd.to_datetime(dataset['DATA'],dayfirst=True)\n",
        "dataset = dataset.sort_values(['EQUIPAMENTO', 'MANCAL', 'DATA'], ascending=[1, 1, 1])"
      ],
      "execution_count": 3,
      "outputs": []
    },
    {
      "cell_type": "markdown",
      "metadata": {
        "id": "3w7siR9A7dJs"
      },
      "source": [
        "## Parte 2 - Declaração de Funções"
      ]
    },
    {
      "cell_type": "code",
      "metadata": {
        "id": "pl_RXOuqrh0t"
      },
      "source": [
        "#Função para conversão para tipos serializáveis \n",
        "def converter(obj):\n",
        "  if isinstance(obj, np.integer):\n",
        "    return int(obj)\n",
        "  elif isinstance(obj, np.floating):\n",
        "    return float(obj)\n",
        "  elif isinstance(obj, np.ndarray):\n",
        "    return obj.tolist()\n",
        "  elif isinstance(obj, datetime.datetime):\n",
        "    return obj.__str__()"
      ],
      "execution_count": 4,
      "outputs": []
    },
    {
      "cell_type": "code",
      "metadata": {
        "id": "g0JaUGzsxlEK"
      },
      "source": [
        "# Função para retornar os melhores parâmetros para a construção da RN do mancal, considerando a métrica e o output\n",
        "def returnBestParams(data_set_param, metric, output):\n",
        "  #RMSE, MSE, MAPE\n",
        "  if ( metric == 'RMSE' or metric == 'MSE' or metric == 'MAPE' ):\n",
        "    ds_aux = data_set_param.loc[data_set_param['OUTPUT'] == output]\n",
        "    bestParams = ds_aux.loc[ds_aux[metric] == ds_aux[metric].min()]\n",
        "\n",
        "  return bestParams"
      ],
      "execution_count": 5,
      "outputs": []
    },
    {
      "cell_type": "code",
      "metadata": {
        "id": "DXa4xIXK9B2w"
      },
      "source": [
        "# Função para criar a estrutura de dados com janela WINDOW e output OUTPUTSIZE para entrada na RN\n",
        "def prepareSetRN(windowSize, outputSize, flatSet ):\n",
        "  preparedX = []\n",
        "  preparedY = []\n",
        "  setSize = len(flatSet)\n",
        "  for i in range(windowSize, setSize - (outputSize-1)):\n",
        "    preparedX.append(flatSet[i-windowSize:i, 0])\n",
        "    preparedY.append(flatSet[i:i + outputSize, 0])\n",
        "\n",
        "  preparedX, preparedY = np.array(preparedX), np.array(preparedY)\n",
        "  return preparedX, preparedY"
      ],
      "execution_count": 6,
      "outputs": []
    },
    {
      "cell_type": "code",
      "metadata": {
        "id": "3cq4Vbe_1X27"
      },
      "source": [
        "# Função para criar a RN com base nos parâmetros informados\n",
        "def criaRN(outputParam, layerParam, unitParam, dropoutParam, optmizerParam, X_trainParam):\n",
        "  # Inicializar a RNN\n",
        "  regressor = Sequential()\n",
        "\n",
        "  # Adicionar a primeira camada LSTM e Dropout \n",
        "  regressor.add(LSTM(units = unitParam[0], return_sequences = (layerParam > 1), input_shape = (X_trainParam.shape[1], 1)))\n",
        "  regressor.add(Dropout(dropoutParam))\n",
        " \n",
        "  if ( layerParam >= 2 ):\n",
        "    # Adicionar a segunda camada LSTM e Dropout\n",
        "    regressor.add(LSTM(units = unitParam[1], return_sequences = (layerParam > 2)))\n",
        "    regressor.add(Dropout(dropoutParam))\n",
        "\n",
        "  if ( layerParam >= 3):\n",
        "    # Adicionar a terceira camada LSTM e Dropout\n",
        "    regressor.add(LSTM(units = unitParam[2], return_sequences = (layerParam > 3)))\n",
        "    regressor.add(Dropout(dropoutParam))\n",
        "\n",
        "  # camada de saída\n",
        "  regressor.add(Dense(units = outputParam, activation='linear'))\n",
        "  #Testar sigmoid e linear\n",
        "\n",
        "  # Compilar a rede\n",
        "  regressor.compile(optimizer = optmizerParam, loss = 'mean_squared_error', metrics=['accuracy'])\n",
        "\n",
        "  # Visualizar a rede\n",
        "  #regressor.summary()\n",
        "\n",
        "  return regressor"
      ],
      "execution_count": 7,
      "outputs": []
    },
    {
      "cell_type": "markdown",
      "metadata": {
        "id": "0wn8IezV47qP"
      },
      "source": [
        "# 3 - Obtendo os melhores parâmetros encontrados para a criação da RN de cada Mancal "
      ]
    },
    {
      "cell_type": "code",
      "metadata": {
        "id": "c7FgWW4EmD7P"
      },
      "source": [
        "# Importação dos resultados da avaliação dos parâmetros da RN para obtenção do melhor resultado para cada MANCAL\n",
        "path = '/content/drive/MyDrive/BI_MASTER/PROJETO_FINAL_BIMASTER/AVALIACAO_REDES/'\n",
        "\n",
        "files = os.listdir(path)\n",
        "\n",
        "for f in files:\n",
        "  if f.endswith(\"_results.csv\"):\n",
        "    result4RN = pd.read_csv(path + f)\n",
        "    bestParams = returnBestParams(result4RN, 'RMSE', 3 )\n",
        "\n",
        "    equipamento = bestParams.iloc[0]['EQUIPAMENTO']\n",
        "    mancal      = bestParams.iloc[0]['MANCAL']\n",
        "    window      = bestParams.iloc[0]['WINDOW']\n",
        "    output      = bestParams.iloc[0]['OUTPUT']\n",
        "    layer       = bestParams.iloc[0]['NUM. CAMADAS']\n",
        "    unit1       = bestParams.iloc[0]['NUM. NEURONIOS CAMADA 1']\n",
        "    unit2       = bestParams.iloc[0]['NUM. NEURONIOS CAMADA 2']\n",
        "    unit3       = bestParams.iloc[0]['NUM. NEURONIOS CAMADA 3']\n",
        "    unit        = [unit1,unit2,unit3]\n",
        "    dropout     = bestParams.iloc[0]['DROPOUT']\n",
        "    optmizer    = bestParams.iloc[0]['OTIMIZADOR']\n",
        "    epochs      = bestParams.iloc[0]['EPOCHS']\n",
        "    batch_size  = bestParams.iloc[0]['BATCH_SIZE']\n",
        "\n",
        "    datasetMancal = dataset.loc[(dataset['MANCAL'] == mancal)]\n",
        "    #Calculando tamanho dos conjuntos de treino e teste\n",
        "    train_size = math.ceil(len(datasetMancal)*0.85)\n",
        "    test_size  = len(datasetMancal) - train_size\n",
        "\n",
        "    #Separando conjuto de treino e teste apenas com valor da série\n",
        "    train_set = datasetMancal.iloc[0:train_size, 3:4].values\n",
        "    test_set  = datasetMancal.iloc[train_size:(train_size + test_size), 3:4].values\n",
        "\n",
        "    #Normalização\n",
        "    sc = MinMaxScaler(feature_range = (0, 1))\n",
        "    training_set_scaled = sc.fit_transform(train_set)\n",
        "\n",
        "    X_train = []\n",
        "    y_train = []\n",
        "    \n",
        "    X_train, y_train = prepareSetRN(window, output, training_set_scaled)\n",
        "    X_train = np.reshape(X_train, (X_train.shape[0], X_train.shape[1], 1))\n",
        "\n",
        "    regressor = criaRN(output, layer, unit, dropout, optmizer, X_train)\n",
        "    regressor.fit(X_train, y_train, epochs = epochs, batch_size = batch_size)\n",
        "\n",
        "    #Salvar modelo\n",
        "    dirModels = '/content/drive/MyDrive/BI_MASTER/PROJETO_FINAL_BIMASTER/MODELOS/'\n",
        "    nomeModelo = '{0}{1}__{2}_model'.format(dirModels,equipamento, mancal)\n",
        "    regressor.save(nomeModelo)\n",
        "\n",
        "    #Salvar parâmetros\n",
        "    nomeArq   = '{0}__{1}_params.json'.format(equipamento, mancal)\n",
        "    arquivo   = '{0}{1}'.format(dirModels,nomeArq)\n",
        "    fParams   = open(arquivo,\"w+\")\n",
        "\n",
        "    param_set = {\"equipamento\": equipamento, \"mancal\": mancal, \"window\": window, \n",
        "                 \"output\": output, \"layer\": layer, \"unit\": unit, \"dropout\": dropout, \n",
        "                 \"optmizer\": optmizer, \"epochs\": epochs, \"batch_size\": batch_size}\n",
        "\n",
        "    json_dump = json.dumps(param_set, default=converter)\n",
        "    fParams.write(json_dump)\n",
        "    fParams.close()  "
      ],
      "execution_count": null,
      "outputs": []
    }
  ]
}