{
  "nbformat": 4,
  "nbformat_minor": 0,
  "metadata": {
    "accelerator": "GPU",
    "colab": {
      "name": "4_PREVER_TEMP_MANCAL.ipynb",
      "provenance": [],
      "collapsed_sections": [],
      "include_colab_link": true
    },
    "kernelspec": {
      "display_name": "Python 3",
      "name": "python3"
    }
  },
  "cells": [
    {
      "cell_type": "markdown",
      "metadata": {
        "id": "view-in-github",
        "colab_type": "text"
      },
      "source": [
        "<a href=\"https://colab.research.google.com/github/Gustavo-br-rj/PROJ-BI_MASTER/blob/main/4_PREVER_TEMP_MANCAL.ipynb\" target=\"_parent\"><img src=\"https://colab.research.google.com/assets/colab-badge.svg\" alt=\"Open In Colab\"/></a>"
      ]
    },
    {
      "cell_type": "code",
      "metadata": {
        "id": "9cXtNdOXz_lv",
        "colab": {
          "base_uri": "https://localhost:8080/"
        },
        "outputId": "011327a7-1c36-4d66-d132-50108ec12daa"
      },
      "source": [
        "from google.colab import drive\n",
        "drive.mount('/content/drive')"
      ],
      "execution_count": 1,
      "outputs": [
        {
          "output_type": "stream",
          "name": "stdout",
          "text": [
            "Mounted at /content/drive\n"
          ]
        }
      ]
    },
    {
      "cell_type": "markdown",
      "metadata": {
        "id": "bgc8yb4c2W0g"
      },
      "source": [
        "# Previsão de Série Temporal da Temperatura de Mancais Utilizando LSTM\n"
      ]
    },
    {
      "cell_type": "markdown",
      "metadata": {
        "id": "1EQYV0pwuxBz"
      },
      "source": [
        "## Parte 0 - Importação das Bibliotecas"
      ]
    },
    {
      "cell_type": "code",
      "metadata": {
        "id": "RASZBW_Fu8Ze"
      },
      "source": [
        "#%tensorflow_version 1.x\n",
        "import tensorflow as tf\n",
        "import numpy as np\n",
        "import matplotlib.pyplot as plt\n",
        "import pandas as pd\n",
        "import os\n",
        "import math\n",
        "import json\n",
        "\n",
        "from sklearn.metrics import mean_squared_error\n",
        "from sklearn.preprocessing import MinMaxScaler\n",
        "from keras.models import Sequential\n",
        "from keras.models import load_model\n",
        "from keras.layers import Dense\n",
        "from keras.layers import LSTM\n",
        "from keras.layers import Dropout\n",
        "\n",
        "#tf.__version__"
      ],
      "execution_count": 2,
      "outputs": []
    },
    {
      "cell_type": "code",
      "metadata": {
        "id": "WIsOTx6MHBAH"
      },
      "source": [
        "def prepareSetRN(windowSize, outputSize, flatSet ):\n",
        "  preparedX = []\n",
        "  preparedY = []\n",
        "  setSize = len(flatSet)\n",
        "  for i in range(windowSize, setSize - (outputSize-1)):\n",
        "    preparedX.append(flatSet[i-windowSize:i, 0])\n",
        "    preparedY.append(flatSet[i:i + outputSize, 0])\n",
        "\n",
        "  preparedX, preparedY = np.array(preparedX), np.array(preparedY)\n",
        "  return preparedX, preparedY"
      ],
      "execution_count": 18,
      "outputs": []
    },
    {
      "cell_type": "markdown",
      "metadata": {
        "id": "MU5Q6M1nuEr_"
      },
      "source": [
        "## Parte 1 - Importação do Dataset"
      ]
    },
    {
      "cell_type": "code",
      "metadata": {
        "id": "fKi18czKK2RC"
      },
      "source": [
        "# Importação da Base de Dados\n",
        "dataset = pd.read_csv('/content/drive/MyDrive/BI_MASTER/PROJETO_FINAL_BIMASTER/DATASETS/dataset_C-4451_08001A.csv')"
      ],
      "execution_count": 3,
      "outputs": []
    },
    {
      "cell_type": "code",
      "metadata": {
        "id": "O9Ywtc8ncBx_"
      },
      "source": [
        "#Conversão do campo data para datetime e ordenação do dataset\n",
        "dataset['DATA'] = pd.to_datetime(dataset['DATA'],dayfirst=True)\n",
        "dataset = dataset.sort_values(['EQUIPAMENTO', 'MANCAL', 'DATA'], ascending=[1, 1, 1])"
      ],
      "execution_count": 4,
      "outputs": []
    },
    {
      "cell_type": "code",
      "metadata": {
        "id": "tO1BKMy5lmt8",
        "colab": {
          "base_uri": "https://localhost:8080/",
          "height": 231
        },
        "outputId": "b218ee2a-ca05-41ea-d22d-817c95808d50"
      },
      "source": [
        "#Diretório dos modelos de RN para cada mancal\n",
        "dirModel = '/content/drive/MyDrive/BI_MASTER/PROJETO_FINAL_BIMASTER/MODELOS/'\n",
        "\n",
        "#Buscando a identificação dos mancais\n",
        "mancais = dataset['MANCAL'].unique().tolist()\n",
        "\n",
        "for i in range(len(mancais)):\n",
        "  manc = dataset.loc[(dataset[\"MANCAL\"] == mancais[i]), [\"EQUIPAMENTO\",\"MANCAL\",\"DATA\",\"TEMPERATURA\"]]\n",
        "  manc = manc.reset_index(drop=True)\n",
        "\n",
        "  nomeModelo  = '{0}{1}__{2}_model'.format(dirModel,manc['EQUIPAMENTO'].to_numpy()[0], manc['MANCAL'].to_numpy()[0])\n",
        "  paramModelo = '{0}{1}__{2}_params.json'.format(dirModel,manc['EQUIPAMENTO'].to_numpy()[0], manc['MANCAL'].to_numpy()[0])\n",
        "\n",
        "  #Obtendo o arquivo de parâmetros\n",
        "  f_json = open(paramModelo,)\n",
        "  json_param = json.load(f_json)\n",
        "  f_json.close()\n",
        "\n",
        "  #Reconstruindo o modelo\n",
        "  reconstructed_model = load_model(nomeModelo)\n",
        "\n",
        "  #Pegando a última janela de dados do conjunto\n",
        "  window = json_param[\"window\"]\n",
        "  last_window_set = manc.tail(window)\n",
        "  last_window_set = last_window_set.iloc[0:window, 3:4].values\n",
        "  \n",
        "  #Normalizando\n",
        "  sc = MinMaxScaler(feature_range = (0, 1))\n",
        "  last_window_set_scaled = sc.fit_transform(last_window_set)\n",
        "\n",
        "  output = json_param[\"output\"]\n",
        "  #Prever temperatura\n",
        "  X_last_window = []\n",
        "  y_last_window = []\n",
        "  X_last_window, y_last_window = prepareSetRN(window, output, last_window_set_scaled)\n",
        "  X_last_window = np.reshape(X_last_window, (X_last_window.shape[0], X_last_window.shape[1], 1))\n",
        "\n",
        "  predicted = reconstructed_model.predict(X_last_window)\n",
        "  predicted = sc.inverse_transform(predicted)\n",
        "\n",
        "  break\n",
        "\n",
        "predicted "
      ],
      "execution_count": 19,
      "outputs": [
        {
          "output_type": "error",
          "ename": "IndexError",
          "evalue": "ignored",
          "traceback": [
            "\u001b[0;31m---------------------------------------------------------------------------\u001b[0m",
            "\u001b[0;31mIndexError\u001b[0m                                Traceback (most recent call last)",
            "\u001b[0;32m<ipython-input-19-f9ccb8c9442e>\u001b[0m in \u001b[0;36m<module>\u001b[0;34m()\u001b[0m\n\u001b[1;32m     34\u001b[0m   \u001b[0my_last_window\u001b[0m \u001b[0;34m=\u001b[0m \u001b[0;34m[\u001b[0m\u001b[0;34m]\u001b[0m\u001b[0;34m\u001b[0m\u001b[0;34m\u001b[0m\u001b[0m\n\u001b[1;32m     35\u001b[0m   \u001b[0mX_last_window\u001b[0m\u001b[0;34m,\u001b[0m \u001b[0my_last_window\u001b[0m \u001b[0;34m=\u001b[0m \u001b[0mprepareSetRN\u001b[0m\u001b[0;34m(\u001b[0m\u001b[0mwindow\u001b[0m\u001b[0;34m,\u001b[0m \u001b[0moutput\u001b[0m\u001b[0;34m,\u001b[0m \u001b[0mlast_window_set_scaled\u001b[0m\u001b[0;34m)\u001b[0m\u001b[0;34m\u001b[0m\u001b[0;34m\u001b[0m\u001b[0m\n\u001b[0;32m---> 36\u001b[0;31m   \u001b[0mX_last_window\u001b[0m \u001b[0;34m=\u001b[0m \u001b[0mnp\u001b[0m\u001b[0;34m.\u001b[0m\u001b[0mreshape\u001b[0m\u001b[0;34m(\u001b[0m\u001b[0mX_last_window\u001b[0m\u001b[0;34m,\u001b[0m \u001b[0;34m(\u001b[0m\u001b[0mX_last_window\u001b[0m\u001b[0;34m.\u001b[0m\u001b[0mshape\u001b[0m\u001b[0;34m[\u001b[0m\u001b[0;36m0\u001b[0m\u001b[0;34m]\u001b[0m\u001b[0;34m,\u001b[0m \u001b[0mX_last_window\u001b[0m\u001b[0;34m.\u001b[0m\u001b[0mshape\u001b[0m\u001b[0;34m[\u001b[0m\u001b[0;36m1\u001b[0m\u001b[0;34m]\u001b[0m\u001b[0;34m,\u001b[0m \u001b[0;36m1\u001b[0m\u001b[0;34m)\u001b[0m\u001b[0;34m)\u001b[0m\u001b[0;34m\u001b[0m\u001b[0;34m\u001b[0m\u001b[0m\n\u001b[0m\u001b[1;32m     37\u001b[0m \u001b[0;34m\u001b[0m\u001b[0m\n\u001b[1;32m     38\u001b[0m   \u001b[0mpredicted\u001b[0m \u001b[0;34m=\u001b[0m \u001b[0mreconstructed_model\u001b[0m\u001b[0;34m.\u001b[0m\u001b[0mpredict\u001b[0m\u001b[0;34m(\u001b[0m\u001b[0mX_last_window\u001b[0m\u001b[0;34m)\u001b[0m\u001b[0;34m\u001b[0m\u001b[0;34m\u001b[0m\u001b[0m\n",
            "\u001b[0;31mIndexError\u001b[0m: tuple index out of range"
          ]
        }
      ]
    },
    {
      "cell_type": "markdown",
      "metadata": {
        "id": "aew2N81e35Uc"
      },
      "source": [
        "## Parte 2 - Preprocessamento de Dados"
      ]
    },
    {
      "cell_type": "markdown",
      "metadata": {
        "id": "uQP8Q7MI21Y9"
      },
      "source": [
        "### Criar a estrutura de dados com janela WINDOW e output OUTPUTSIZE para entrada na RN"
      ]
    },
    {
      "cell_type": "code",
      "metadata": {
        "id": "C6Ge9ql922cb"
      },
      "source": [
        "def prepareSetRN(windowSize, outputSize, flatSet ):\n",
        "  preparedX = []\n",
        "  preparedY = []\n",
        "  setSize = len(flatSet)\n",
        "  for i in range(windowSize, setSize - (outputSize-1)):\n",
        "    preparedX.append(flatSet[i-windowSize:i, 0])\n",
        "    preparedY.append(flatSet[i:i + outputSize, 0])\n",
        "\n",
        "  preparedX, preparedY = np.array(preparedX), np.array(preparedY)\n",
        "  return preparedX, preparedY"
      ],
      "execution_count": null,
      "outputs": []
    },
    {
      "cell_type": "markdown",
      "metadata": {
        "id": "kordpD0_3H7b"
      },
      "source": [
        "### Construção da Rede completa"
      ]
    },
    {
      "cell_type": "code",
      "metadata": {
        "id": "3yto6BQcdWlW"
      },
      "source": [
        "def backToFlat( windowSet ):\n",
        "    flatSet     = []\n",
        "    window_size = windowSet.shape[1]\n",
        "    setSize     = len(windowSet)\n",
        "\n",
        "    #Adiciona as primeiras colunas do primeiro registro quando a janela > 1\n",
        "    if window_size > 1:\n",
        "      for i in range(0, window_size-1):\n",
        "        flatSet.append(windowSet[0, i])\n",
        "\n",
        "    for i in range(0, setSize):\n",
        "        flatSet.append(windowSet[i, window_size-1])\n",
        "\n",
        "    flatSet = np.array(flatSet)\n",
        "\n",
        "    return np.reshape(flatSet, (flatSet.shape[0], 1)) "
      ],
      "execution_count": null,
      "outputs": []
    }
  ]
}