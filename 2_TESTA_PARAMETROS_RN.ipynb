{
  "nbformat": 4,
  "nbformat_minor": 0,
  "metadata": {
    "accelerator": "GPU",
    "colab": {
      "name": "2_TESTA_PARAMETROS_RN.ipynb",
      "provenance": [],
      "collapsed_sections": [],
      "include_colab_link": true
    },
    "kernelspec": {
      "display_name": "Python 3",
      "name": "python3"
    }
  },
  "cells": [
    {
      "cell_type": "markdown",
      "metadata": {
        "id": "view-in-github",
        "colab_type": "text"
      },
      "source": [
        "<a href=\"https://colab.research.google.com/github/Gustavo-br-rj/PROJ-BI_MASTER/blob/main/2_TESTA_PARAMETROS_RN.ipynb\" target=\"_parent\"><img src=\"https://colab.research.google.com/assets/colab-badge.svg\" alt=\"Open In Colab\"/></a>"
      ]
    },
    {
      "cell_type": "code",
      "metadata": {
        "colab": {
          "base_uri": "https://localhost:8080/"
        },
        "id": "9cXtNdOXz_lv",
        "outputId": "fb373150-6e62-4b0f-a588-79c0f17032d3"
      },
      "source": [
        "from google.colab import drive\n",
        "drive.mount('/content/drive')"
      ],
      "execution_count": null,
      "outputs": [
        {
          "output_type": "stream",
          "name": "stdout",
          "text": [
            "Mounted at /content/drive\n"
          ]
        }
      ]
    },
    {
      "cell_type": "markdown",
      "metadata": {
        "id": "bgc8yb4c2W0g"
      },
      "source": [
        "# Previsão de Série Temporal da Temperatura de Mancais Utilizando LSTM\n"
      ]
    },
    {
      "cell_type": "markdown",
      "metadata": {
        "id": "1EQYV0pwuxBz"
      },
      "source": [
        "## Parte 0 - Importação das Bibliotecas"
      ]
    },
    {
      "cell_type": "code",
      "metadata": {
        "id": "RASZBW_Fu8Ze"
      },
      "source": [
        "#%tensorflow_version 1.x\n",
        "import tensorflow as tf\n",
        "import numpy as np\n",
        "import matplotlib.pyplot as plt\n",
        "import pandas as pd\n",
        "import os\n",
        "import math\n",
        "\n",
        "from sklearn.metrics import mean_squared_error\n",
        "from keras.models import Sequential\n",
        "from keras.layers import Dense\n",
        "from keras.layers import LSTM\n",
        "from keras.layers import Dropout\n",
        "\n",
        "#tf.__version__"
      ],
      "execution_count": null,
      "outputs": []
    },
    {
      "cell_type": "markdown",
      "metadata": {
        "id": "MU5Q6M1nuEr_"
      },
      "source": [
        "## Parte 1 - Importação do Dataset e Estatística Descritiva"
      ]
    },
    {
      "cell_type": "code",
      "metadata": {
        "id": "fKi18czKK2RC"
      },
      "source": [
        "# Importação da Base de Dados\n",
        "dataset = pd.read_csv('/content/drive/MyDrive/BI_MASTER/PROJETO_FINAL_BIMASTER/DATASETS/dataset_C-4451_08001A.csv')"
      ],
      "execution_count": null,
      "outputs": []
    },
    {
      "cell_type": "code",
      "metadata": {
        "id": "NUfcWh7j-3kQ"
      },
      "source": [
        "#Conversão do campo data para datetime e ordenação do dataset\n",
        "dataset['DATA'] = pd.to_datetime(dataset['DATA'],dayfirst=True)\n",
        "dataset = dataset.sort_values(['EQUIPAMENTO', 'MANCAL', 'DATA'], ascending=[1, 1, 1])"
      ],
      "execution_count": null,
      "outputs": []
    },
    {
      "cell_type": "code",
      "metadata": {
        "colab": {
          "base_uri": "https://localhost:8080/",
          "height": 607
        },
        "id": "KuyMFVw-NJqv",
        "outputId": "24eb2a3a-2061-4226-c613-586535d75324"
      },
      "source": [
        "dataset.groupby(['EQUIPAMENTO','MANCAL']).count()"
      ],
      "execution_count": null,
      "outputs": [
        {
          "output_type": "execute_result",
          "data": {
            "text/html": [
              "<div>\n",
              "<style scoped>\n",
              "    .dataframe tbody tr th:only-of-type {\n",
              "        vertical-align: middle;\n",
              "    }\n",
              "\n",
              "    .dataframe tbody tr th {\n",
              "        vertical-align: top;\n",
              "    }\n",
              "\n",
              "    .dataframe thead th {\n",
              "        text-align: right;\n",
              "    }\n",
              "</style>\n",
              "<table border=\"1\" class=\"dataframe\">\n",
              "  <thead>\n",
              "    <tr style=\"text-align: right;\">\n",
              "      <th></th>\n",
              "      <th></th>\n",
              "      <th>DATA</th>\n",
              "      <th>TEMPERATURA</th>\n",
              "    </tr>\n",
              "    <tr>\n",
              "      <th>EQUIPAMENTO</th>\n",
              "      <th>MANCAL</th>\n",
              "      <th></th>\n",
              "      <th></th>\n",
              "    </tr>\n",
              "  </thead>\n",
              "  <tbody>\n",
              "    <tr>\n",
              "      <th rowspan=\"17\" valign=\"top\">C-4451.08001A</th>\n",
              "      <th>EJA1.A-TC21.F_CV</th>\n",
              "      <td>132</td>\n",
              "      <td>132</td>\n",
              "    </tr>\n",
              "    <tr>\n",
              "      <th>EJA1.A-TC22.F_CV</th>\n",
              "      <td>132</td>\n",
              "      <td>132</td>\n",
              "    </tr>\n",
              "    <tr>\n",
              "      <th>EJA1.A-TC23.F_CV</th>\n",
              "      <td>132</td>\n",
              "      <td>132</td>\n",
              "    </tr>\n",
              "    <tr>\n",
              "      <th>EJA1.A-TC25.F_CV</th>\n",
              "      <td>132</td>\n",
              "      <td>132</td>\n",
              "    </tr>\n",
              "    <tr>\n",
              "      <th>EJA1.A-TC250.F_CV</th>\n",
              "      <td>133</td>\n",
              "      <td>133</td>\n",
              "    </tr>\n",
              "    <tr>\n",
              "      <th>EJA1.A-TC251.F_CV</th>\n",
              "      <td>132</td>\n",
              "      <td>132</td>\n",
              "    </tr>\n",
              "    <tr>\n",
              "      <th>EJA1.A-TC26.F_CV</th>\n",
              "      <td>132</td>\n",
              "      <td>132</td>\n",
              "    </tr>\n",
              "    <tr>\n",
              "      <th>EJA1.A-TC27.F_CV</th>\n",
              "      <td>132</td>\n",
              "      <td>132</td>\n",
              "    </tr>\n",
              "    <tr>\n",
              "      <th>EJA1.A-TC28.F_CV</th>\n",
              "      <td>132</td>\n",
              "      <td>132</td>\n",
              "    </tr>\n",
              "    <tr>\n",
              "      <th>EJA1.A-TE1200A.F_CV</th>\n",
              "      <td>132</td>\n",
              "      <td>132</td>\n",
              "    </tr>\n",
              "    <tr>\n",
              "      <th>EJA1.A-TE1200B.F_CV</th>\n",
              "      <td>132</td>\n",
              "      <td>132</td>\n",
              "    </tr>\n",
              "    <tr>\n",
              "      <th>EJA1.A-TE1203A.F_CV</th>\n",
              "      <td>132</td>\n",
              "      <td>132</td>\n",
              "    </tr>\n",
              "    <tr>\n",
              "      <th>EJA1.A-TE1203B.F_CV</th>\n",
              "      <td>132</td>\n",
              "      <td>132</td>\n",
              "    </tr>\n",
              "    <tr>\n",
              "      <th>EJA1.A-TE1206A.F_CV</th>\n",
              "      <td>132</td>\n",
              "      <td>132</td>\n",
              "    </tr>\n",
              "    <tr>\n",
              "      <th>EJA1.A-TE1206B.F_CV</th>\n",
              "      <td>132</td>\n",
              "      <td>132</td>\n",
              "    </tr>\n",
              "    <tr>\n",
              "      <th>EJA1.A-TE1209A.F_CV</th>\n",
              "      <td>132</td>\n",
              "      <td>132</td>\n",
              "    </tr>\n",
              "    <tr>\n",
              "      <th>EJA1.A-TE1209B.F_CV</th>\n",
              "      <td>132</td>\n",
              "      <td>132</td>\n",
              "    </tr>\n",
              "  </tbody>\n",
              "</table>\n",
              "</div>"
            ],
            "text/plain": [
              "                                   DATA  TEMPERATURA\n",
              "EQUIPAMENTO   MANCAL                                \n",
              "C-4451.08001A EJA1.A-TC21.F_CV      132          132\n",
              "              EJA1.A-TC22.F_CV      132          132\n",
              "              EJA1.A-TC23.F_CV      132          132\n",
              "              EJA1.A-TC25.F_CV      132          132\n",
              "              EJA1.A-TC250.F_CV     133          133\n",
              "              EJA1.A-TC251.F_CV     132          132\n",
              "              EJA1.A-TC26.F_CV      132          132\n",
              "              EJA1.A-TC27.F_CV      132          132\n",
              "              EJA1.A-TC28.F_CV      132          132\n",
              "              EJA1.A-TE1200A.F_CV   132          132\n",
              "              EJA1.A-TE1200B.F_CV   132          132\n",
              "              EJA1.A-TE1203A.F_CV   132          132\n",
              "              EJA1.A-TE1203B.F_CV   132          132\n",
              "              EJA1.A-TE1206A.F_CV   132          132\n",
              "              EJA1.A-TE1206B.F_CV   132          132\n",
              "              EJA1.A-TE1209A.F_CV   132          132\n",
              "              EJA1.A-TE1209B.F_CV   132          132"
            ]
          },
          "metadata": {},
          "execution_count": 4
        }
      ]
    },
    {
      "cell_type": "code",
      "metadata": {
        "id": "tO1BKMy5lmt8"
      },
      "source": [
        "#Separação do dataset por mancais\n",
        "mancais = dataset['MANCAL'].unique().tolist()\n",
        "\n",
        "manc1 = dataset[dataset['MANCAL'] == mancais[0]]\n",
        "manc2 = dataset[dataset['MANCAL'] == mancais[1]]\n",
        "manc3 = dataset[dataset['MANCAL'] == mancais[2]]\n",
        "manc4 = dataset[dataset['MANCAL'] == mancais[3]]\n",
        "manc5 = dataset[dataset['MANCAL'] == mancais[4]]\n",
        "manc6 = dataset[dataset['MANCAL'] == mancais[5]]\n",
        "manc7 = dataset[dataset['MANCAL'] == mancais[6]]\n",
        "manc8 = dataset[dataset['MANCAL'] == mancais[7]]\n",
        "manc9 = dataset[dataset['MANCAL'] == mancais[8]]\n",
        "manc10 = dataset[dataset['MANCAL'] == mancais[9]]\n",
        "manc11 = dataset[dataset['MANCAL'] == mancais[10]]\n",
        "manc12 = dataset[dataset['MANCAL'] == mancais[11]]\n",
        "manc13 = dataset[dataset['MANCAL'] == mancais[12]]\n",
        "manc14 = dataset[dataset['MANCAL'] == mancais[13]]\n",
        "manc15 = dataset[dataset['MANCAL'] == mancais[14]]\n",
        "manc16 = dataset[dataset['MANCAL'] == mancais[15]]\n",
        "manc17 = dataset[dataset['MANCAL'] == mancais[16]]"
      ],
      "execution_count": null,
      "outputs": []
    },
    {
      "cell_type": "markdown",
      "metadata": {
        "id": "aew2N81e35Uc"
      },
      "source": [
        "## Parte 2 - Preprocessamento de Dados"
      ]
    },
    {
      "cell_type": "markdown",
      "metadata": {
        "id": "36Q16Udt2l3W"
      },
      "source": [
        "### Separação do conjunto de Treino e Teste"
      ]
    },
    {
      "cell_type": "code",
      "metadata": {
        "id": "1ivhnWxD2eEG"
      },
      "source": [
        "datasetMancal = manc15\n",
        "\n",
        "#Calculando tamanho dos conjuntos de treino e teste\n",
        "train_size = math.ceil(len(datasetMancal)*0.85)\n",
        "test_size  = len(datasetMancal) - train_size\n",
        "\n",
        "#Separando conjuto de treino e teste apenas com valor da série\n",
        "train_set = datasetMancal.iloc[0:train_size, 3:4].values\n",
        "test_set  = datasetMancal.iloc[train_size:(train_size + test_size), 3:4].values"
      ],
      "execution_count": null,
      "outputs": []
    },
    {
      "cell_type": "markdown",
      "metadata": {
        "id": "7p1F7HdB2uJU"
      },
      "source": [
        "### Normalização"
      ]
    },
    {
      "cell_type": "code",
      "metadata": {
        "id": "foeHRZr-2u-L"
      },
      "source": [
        "from sklearn.preprocessing import MinMaxScaler\n",
        "sc = MinMaxScaler(feature_range = (0, 1))\n",
        "training_set_scaled = sc.fit_transform(train_set)"
      ],
      "execution_count": null,
      "outputs": []
    },
    {
      "cell_type": "markdown",
      "metadata": {
        "id": "uQP8Q7MI21Y9"
      },
      "source": [
        "### Criar a estrutura de dados com janela WINDOW e output OUTPUTSIZE para entrada na RN"
      ]
    },
    {
      "cell_type": "code",
      "metadata": {
        "id": "C6Ge9ql922cb"
      },
      "source": [
        "def prepareSetRN(windowSize, outputSize, flatSet ):\n",
        "  preparedX = []\n",
        "  preparedY = []\n",
        "  setSize = len(flatSet)\n",
        "  for i in range(windowSize, setSize - (outputSize-1)):\n",
        "    preparedX.append(flatSet[i-windowSize:i, 0])\n",
        "    preparedY.append(flatSet[i:i + outputSize, 0])\n",
        "\n",
        "  preparedX, preparedY = np.array(preparedX), np.array(preparedY)\n",
        "  return preparedX, preparedY"
      ],
      "execution_count": null,
      "outputs": []
    },
    {
      "cell_type": "markdown",
      "metadata": {
        "id": "fZhjp7Tf282b"
      },
      "source": [
        "## Parte 3 - Construção da RNN"
      ]
    },
    {
      "cell_type": "markdown",
      "metadata": {
        "id": "KBXy2O1mWfb6"
      },
      "source": [
        "##### Parâmetros para geração das redes"
      ]
    },
    {
      "cell_type": "code",
      "metadata": {
        "id": "mIJpxb1WWe0U"
      },
      "source": [
        "windowSet   = [3,4,5,6]\n",
        "outputSet   = [2,3]\n",
        "layerSet    = [1,2,3]\n",
        "unitSet     = [[150,80,80],[120,60,40],[80,80,60]]\n",
        "dropoutSet  = [0.2, 0.25, 0.3, 0.35] \n",
        "optmizerSet = ['Adam', 'Adadelta']\n",
        "epochs      = 800\n",
        "batch_size  = 32"
      ],
      "execution_count": null,
      "outputs": []
    },
    {
      "cell_type": "markdown",
      "metadata": {
        "id": "kordpD0_3H7b"
      },
      "source": [
        "### Construção da Rede completa"
      ]
    },
    {
      "cell_type": "code",
      "metadata": {
        "id": "EskB17uo3Iso"
      },
      "source": [
        "def criaRN(outputParam, layerParam, unitParam, dropoutParam, optmizerParam, X_trainParam):\n",
        "  # Inicializar a RNN\n",
        "  regressor = Sequential()\n",
        "\n",
        "  # Adicionar a primeira camada LSTM e Dropout \n",
        "  regressor.add(LSTM(units = unitParam[0], return_sequences = (layerParam > 1), input_shape = (X_trainParam.shape[1], 1)))\n",
        "  regressor.add(Dropout(dropoutParam))\n",
        " \n",
        "  if ( layerParam >= 2 ):\n",
        "    # Adicionar a segunda camada LSTM e Dropout\n",
        "    regressor.add(LSTM(units = unitParam[1], return_sequences = (layerParam > 2)))\n",
        "    regressor.add(Dropout(dropoutParam))\n",
        "\n",
        "  if ( layerParam >= 3):\n",
        "    # Adicionar a terceira camada LSTM e Dropout\n",
        "    regressor.add(LSTM(units = unitParam[2], return_sequences = (layerParam > 3)))\n",
        "    regressor.add(Dropout(dropoutParam))\n",
        "\n",
        "  # camada de saída\n",
        "  regressor.add(Dense(units = outputParam, activation='linear'))\n",
        "  #Testar sigmoid e linear\n",
        "\n",
        "  # Compilar a rede\n",
        "  regressor.compile(optimizer = optmizerParam, loss = 'mean_squared_error', metrics=['accuracy'])\n",
        "\n",
        "  # Visualizar a rede\n",
        "  #regressor.summary()\n",
        "\n",
        "  return regressor\n"
      ],
      "execution_count": null,
      "outputs": []
    },
    {
      "cell_type": "code",
      "metadata": {
        "id": "3yto6BQcdWlW"
      },
      "source": [
        "def backToFlat( windowSet ):\n",
        "    flatSet     = []\n",
        "    window_size = windowSet.shape[1]\n",
        "    setSize     = len(windowSet)\n",
        "\n",
        "    #Adiciona as primeiras colunas do primeiro registro quando a janela > 1\n",
        "    if window_size > 1:\n",
        "      for i in range(0, window_size-1):\n",
        "        flatSet.append(windowSet[0, i])\n",
        "\n",
        "    for i in range(0, setSize):\n",
        "        flatSet.append(windowSet[i, window_size-1])\n",
        "\n",
        "    flatSet = np.array(flatSet)\n",
        "\n",
        "    return np.reshape(flatSet, (flatSet.shape[0], 1)) "
      ],
      "execution_count": null,
      "outputs": []
    },
    {
      "cell_type": "code",
      "metadata": {
        "colab": {
          "background_save": true
        },
        "id": "nUDRmkLldJlz"
      },
      "source": [
        "diretorio = \"/content/drive/MyDrive/BI_MASTER/PROJETO_FINAL_BIMASTER/AVALIACAO_REDES/\"\n",
        "nomeArq   = '{0}__{1}_results.csv'.format(datasetMancal['EQUIPAMENTO'].to_numpy()[0], datasetMancal['MANCAL'].to_numpy()[0])\n",
        "arquivo   = '{0}{1}'.format(diretorio,nomeArq)\n",
        "\n",
        "fResults = open(arquivo,\"w+\")\n",
        "\n",
        "fResults.write(\"EQUIPAMENTO,MANCAL,WINDOW,OUTPUT,NUM. CAMADAS,NUM. NEURONIOS CAMADA 1,NUM. NEURONIOS CAMADA 2,NUM. NEURONIOS CAMADA 3,DROPOUT,OTIMIZADOR,EPOCHS,BATCH_SIZE,RMSE,MSE,MAPE\\r\\n\" )\n",
        "\n",
        "for a in range(0, len(windowSet) ):\n",
        "  for b in range(0, len(outputSet) ):\n",
        "    for c in range(0, len(layerSet) ):\n",
        "      for d in range(0, len(unitSet) ):\n",
        "        for e in range(0, len(dropoutSet) ):\n",
        "          for f in range(0, len(optmizerSet) ):\n",
        "            X_train = []\n",
        "            y_train = []\n",
        "            X_train, y_train = prepareSetRN(windowSet[a], outputSet[b], training_set_scaled)\n",
        "            X_train = np.reshape(X_train, (X_train.shape[0], X_train.shape[1], 1))\n",
        "\n",
        "            regressor = criaRN(outputSet[b], layerSet[c], unitSet[d], dropoutSet[e], optmizerSet[f], X_train)\n",
        "            history = regressor.fit(X_train, y_train, epochs = epochs, batch_size = batch_size)\n",
        "            \n",
        "            #Acréscimo da janela no conjunto de teste para pegar os últimos registros do treino\n",
        "            test_set_first_window  = dataset.iloc[train_size - windowSet[a]:(train_size + test_size), 3:4].values\n",
        "\n",
        "            test_set_scaled = sc.transform(test_set_first_window)\n",
        "\n",
        "            X_test = []\n",
        "            y_test = []\n",
        "\n",
        "            X_test, y_test = prepareSetRN(windowSet[a], outputSet[b], test_set_scaled)\n",
        "            X_test = np.reshape(X_test, (X_test.shape[0], X_test.shape[1], 1))\n",
        "\n",
        "            predicted = regressor.predict(X_test)\n",
        "            predicted = sc.inverse_transform(predicted)\n",
        "\n",
        "            test_predicted = backToFlat(predicted)\n",
        "\n",
        "            rmse = math.sqrt(mean_squared_error(test_set, test_predicted))\n",
        "            mse = mean_squared_error(test_set, test_predicted)\n",
        "            mape = np.mean(np.abs((test_set - test_predicted) / test_set)) * 100\n",
        "\n",
        "            fResults.write(\"%s,\" % datasetMancal['EQUIPAMENTO'].to_numpy()[0])\n",
        "            fResults.write(\"%s,\" % datasetMancal['MANCAL'].to_numpy()[0])\n",
        "            fResults.write(\"%d,\" % windowSet[a])\n",
        "            fResults.write(\"%d,\" % outputSet[b])\n",
        "            fResults.write(\"%d,\" % layerSet[c])\n",
        "            fResults.write(\"%d,\" % unitSet[d][0])\n",
        "            fResults.write(\"%d,\" % unitSet[d][1])\n",
        "            fResults.write(\"%d,\" % unitSet[d][2])\n",
        "            fResults.write(\"%f,\" % dropoutSet[e])\n",
        "            fResults.write(\"%s,\" % optmizerSet[f])\n",
        "            fResults.write(\"%d,\" % epochs)\n",
        "            fResults.write(\"%d,\" % batch_size)\n",
        "            fResults.write(\"%f,\" % rmse)\n",
        "            fResults.write(\"%f,\" % mse)\n",
        "            fResults.write(\"%f\" % mape)\n",
        "            fResults.write(\"\\r\\n\")\n",
        "\n",
        "fResults.close()                    "
      ],
      "execution_count": null,
      "outputs": []
    }
  ]
}